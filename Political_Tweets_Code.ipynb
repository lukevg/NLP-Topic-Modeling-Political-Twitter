{
 "cells": [
  {
   "cell_type": "code",
   "execution_count": 165,
   "metadata": {},
   "outputs": [],
   "source": [
    "import tweepy\n",
    "import nltk\n",
    "from nltk.util import ngrams\n",
    "from nltk.tokenize import RegexpTokenizer\n",
    "from nltk.corpus import stopwords\n",
    "from nltk.stem.lancaster import LancasterStemmer\n",
    "from nltk.tokenize import TreebankWordTokenizer\n",
    "from nltk.tokenize import TweetTokenizer\n",
    "from nltk.stem import PorterStemmer\n",
    "from nltk import word_tokenize          \n",
    "from nltk import WordNetLemmatizer \n",
    "from nltk.chunk import ne_chunk\n",
    "from nltk.tokenize import MWETokenizer\n",
    "from nltk.tag import pos_tag\n",
    "import re\n",
    "import string\n",
    "import json\n",
    "import requests\n",
    "from pymongo import MongoClient\n",
    "from pprint import pprint\n",
    "from pymongo import InsertOne, DeleteOne, ReplaceOne\n",
    "import numpy as np\n",
    "import pandas as pd\n",
    "from IPython.display import display\n",
    "from sklearn.feature_extraction.text import CountVectorizer \n",
    "from sklearn.feature_extraction.text import TfidfVectorizer\n",
    "from sklearn.feature_extraction import stop_words\n",
    "from sklearn.decomposition import TruncatedSVD\n",
    "from sklearn.decomposition import NMF\n",
    "from sklearn.metrics.pairwise import cosine_similarity\n",
    "from sklearn.decomposition import NMF, LatentDirichletAllocation\n",
    "import matplotlib.pyplot as plt \n",
    "\n",
    "from gensim import corpora, models, similarities, matutils\n",
    "from wordcloud import WordCloud, STOPWORDS\n",
    "\n",
    "from sklearn import datasets\n",
    "from sklearn.feature_extraction.text import CountVectorizer\n",
    "\n",
    "import logging\n",
    "logging.basicConfig(format='%(asctime)s : %(levelname)s : %(message)s', level=logging.INFO)\n",
    "from mpl_toolkits.mplot3d import Axes3D\n",
    "import matplotlib.pyplot as plt\n",
    "import numpy as np\n",
    "\n",
    "from IPython.display import display\n"
   ]
  },
  {
   "cell_type": "code",
   "execution_count": 166,
   "metadata": {},
   "outputs": [
    {
     "name": "stderr",
     "output_type": "stream",
     "text": [
      "[nltk_data] Downloading package wordnet to /Users/lukevg2/nltk_data...\n",
      "[nltk_data]   Package wordnet is already up-to-date!\n",
      "[nltk_data] Downloading package stopwords to\n",
      "[nltk_data]     /Users/lukevg2/nltk_data...\n",
      "[nltk_data]   Package stopwords is already up-to-date!\n"
     ]
    },
    {
     "data": {
      "text/plain": [
       "True"
      ]
     },
     "execution_count": 166,
     "metadata": {},
     "output_type": "execute_result"
    }
   ],
   "source": [
    "#Imports to for tokenizing tweets\n",
    "nltk.download('wordnet')\n",
    "nltk.download('stopwords')"
   ]
  },
  {
   "cell_type": "code",
   "execution_count": 167,
   "metadata": {
    "scrolled": true
   },
   "outputs": [],
   "source": [
    "from requests_oauthlib import OAuth1"
   ]
  },
  {
   "cell_type": "code",
   "execution_count": 168,
   "metadata": {},
   "outputs": [],
   "source": [
    "#Keys to access twitter API and tweepy\n",
    "\n",
    "#%load_ext dotenv\n",
    "#%dotenv\n",
    "import os\n",
    "\n",
    "client_key = 'a1UoRUxbJz9A3QwFl0YqlrMec'\n",
    "client_secret = 'Py59qGmdrDTjpaKkLRYBn0aKMPDha1AZPlnuN9jiWMLcQoKIXw'\n",
    "resource_owner_key = '1128026401620332546-rIIzxGrJ9uwt7SoTQJ6iXA1cXavs5h'\n",
    "resource_owner_secret = 'eVMMhlya13JKEsoXxBho4bNelF3nVQh02ExvVLcks2FXo'\n",
    "\n",
    "\n",
    "\n",
    "oauth = OAuth1(client_key=client_key,\n",
    "               client_secret=client_secret,\n",
    "               resource_owner_key=resource_owner_key,\n",
    "               resource_owner_secret=resource_owner_secret)"
   ]
  },
  {
   "cell_type": "code",
   "execution_count": 169,
   "metadata": {},
   "outputs": [],
   "source": [
    "auth = tweepy.OAuthHandler(consumer_key=client_key,\n",
    "                           consumer_secret=client_secret)\n",
    "auth.set_access_token(resource_owner_key,\n",
    "                      resource_owner_secret)\n",
    "\n",
    "api=tweepy.API(auth)"
   ]
  },
  {
   "cell_type": "markdown",
   "metadata": {},
   "source": [
    "#### Getting Streaming tweets\n",
    "\n",
    "Tweets generated below are most recent from members of Congress"
   ]
  },
  {
   "cell_type": "code",
   "execution_count": 6,
   "metadata": {},
   "outputs": [
    {
     "name": "stdout",
     "output_type": "stream",
     "text": [
      "0. This is more than just a humanitarian gesture—this is about honoring the courageous veterans and their families for… https://t.co/iA2h0gQOsN1131253710502412288\n",
      "\n",
      "1. Proud to introduce the Filipino Veterans Family Reunification Act w/ @maziehirono to ensure the children of the Fil… https://t.co/thXBatnSjV1131253709026070531\n",
      "\n",
      "2. During WWII, thousands of Filipinos put their lives on the line &amp; fought side-by-side w/ American soldiers under ou… https://t.co/IzGAXFNaXT1131253706622685184\n",
      "\n",
      "3. Thank you to the Congressional @USArmy Liaison office for meeting with me and dropping off your seal! https://t.co/umANYzxpTt1131253647214555136\n",
      "\n",
      "4. While Socialist Democrats advocate for giving illegal aliens government funded healthcare, I’m proud to say I just… https://t.co/Hbloy1kuja1131253470466646016\n",
      "\n",
      "5. It was humbling to meet Hoosier veterans of World War II, the Korean War, the Vietnam War, and the Cold War during… https://t.co/3HLUIocvyT1131253467383771136\n",
      "\n",
      "6. RT @BlazeTV: .@RepSeanDuffy (R-WI) responds to his Republican colleague's (@justinamash) push to impeach @realDonaldTrump, and talks with @…1131253440674521088\n",
      "\n",
      "7. Democrats went to the White House with a clear goal: making progress on an infrastructure deal #ForThePeople. It wo… https://t.co/R10pTGUqnw1131253400568569856\n",
      "\n",
      "8. Democrats went to the White House today to negotiate with President Trump in good faith on an issue that is critica… https://t.co/ZdgIPA3rHc1131253394314792961\n",
      "\n",
      "9. Glad to see this news from @GovernorKayIvey. These funds, received by the Federal Gulf of Mexico Energy and Securit… https://t.co/IZ2PTTsGmi1131253139951144960\n",
      "\n"
     ]
    }
   ],
   "source": [
    "max_tweets = 10\n",
    "\n",
    "for index, tweet in enumerate(tweepy.Cursor(api.search ,q=\"list:CSPAN/Members-of-Congress\").items(max_tweets)):\n",
    "    # You can see all the methods available on tweet using .<tab> or \n",
    "    # dir(tweet). You can access the raw JSON using tweet._json\n",
    "    print(str(index) + '. ' + tweet.text + tweet.id_str + '\\n')"
   ]
  },
  {
   "cell_type": "code",
   "execution_count": null,
   "metadata": {
    "scrolled": true
   },
   "outputs": [],
   "source": [
    "# getting user id's for each congress member to be able to pull tweets for all members\n",
    "for user in api.list_members(owner_screen_name='CSPAN', slug='Members-of-Congress'):\n",
    "    print(user.screen_name + \" \" + user.id_str)"
   ]
  },
  {
   "cell_type": "code",
   "execution_count": null,
   "metadata": {},
   "outputs": [],
   "source": [
    "#print(api.list_members(owner_screen_name='CSPAN', slug='Members-of-Congress'))"
   ]
  },
  {
   "cell_type": "code",
   "execution_count": 68,
   "metadata": {},
   "outputs": [
    {
     "name": "stderr",
     "output_type": "stream",
     "text": [
      "/Applications/anaconda3/envs/metis/lib/python3.6/site-packages/ipykernel_launcher.py:2: DeprecationWarning: count is deprecated. Use Collection.count_documents instead.\n",
      "  \n"
     ]
    },
    {
     "data": {
      "text/plain": [
       "434336"
      ]
     },
     "execution_count": 68,
     "metadata": {},
     "output_type": "execute_result"
    }
   ],
   "source": [
    "# Get number of reTweets from Trump's account\n",
    "congress.find({'text': {'$regex': 'RT @realDonaldTrump'}}).count()"
   ]
  },
  {
   "cell_type": "code",
   "execution_count": 70,
   "metadata": {},
   "outputs": [
    {
     "name": "stderr",
     "output_type": "stream",
     "text": [
      "/Applications/anaconda3/envs/metis/lib/python3.6/site-packages/ipykernel_launcher.py:1: DeprecationWarning: count is deprecated. Use Collection.count_documents instead.\n",
      "  \"\"\"Entry point for launching an IPython kernel.\n"
     ]
    },
    {
     "data": {
      "text/plain": [
       "6959"
      ]
     },
     "execution_count": 70,
     "metadata": {},
     "output_type": "execute_result"
    }
   ],
   "source": [
    "#look at retweets of Bernie Sanders and Alexandra Ocasio-Cortez for comparison\n",
    "congress.find({'text': {'$regex': 'RT @SenSanders'}}).count()"
   ]
  },
  {
   "cell_type": "code",
   "execution_count": 71,
   "metadata": {},
   "outputs": [
    {
     "name": "stderr",
     "output_type": "stream",
     "text": [
      "/Applications/anaconda3/envs/metis/lib/python3.6/site-packages/ipykernel_launcher.py:1: DeprecationWarning: count is deprecated. Use Collection.count_documents instead.\n",
      "  \"\"\"Entry point for launching an IPython kernel.\n"
     ]
    },
    {
     "data": {
      "text/plain": [
       "2"
      ]
     },
     "execution_count": 71,
     "metadata": {},
     "output_type": "execute_result"
    }
   ],
   "source": [
    "congress.find({'text': {'$regex': 'RT @AOC'}}).count()"
   ]
  },
  {
   "cell_type": "markdown",
   "metadata": {},
   "source": [
    "#### Creating database for Politician Tweets"
   ]
  },
  {
   "cell_type": "code",
   "execution_count": 170,
   "metadata": {},
   "outputs": [],
   "source": [
    "client = MongoClient()"
   ]
  },
  {
   "cell_type": "code",
   "execution_count": 171,
   "metadata": {},
   "outputs": [],
   "source": [
    "db = client['politician_tweets']"
   ]
  },
  {
   "cell_type": "code",
   "execution_count": 172,
   "metadata": {},
   "outputs": [],
   "source": [
    "congress = db['congress_members']"
   ]
  },
  {
   "cell_type": "code",
   "execution_count": 173,
   "metadata": {},
   "outputs": [
    {
     "data": {
      "text/plain": [
       "['governors', 'cabinet_members', 'congress_members']"
      ]
     },
     "execution_count": 173,
     "metadata": {},
     "output_type": "execute_result"
    }
   ],
   "source": [
    "db.list_collection_names()"
   ]
  },
  {
   "cell_type": "code",
   "execution_count": 174,
   "metadata": {},
   "outputs": [],
   "source": [
    "#congress.find_one({})"
   ]
  },
  {
   "cell_type": "markdown",
   "metadata": {},
   "source": [
    "#### Class to create Twitter stream listener and insert tweets into congress collection "
   ]
  },
  {
   "cell_type": "code",
   "execution_count": 35,
   "metadata": {},
   "outputs": [
    {
     "data": {
      "text/plain": [
       "\"class MyStreamListener(tweepy.StreamListener):\\n    \\n    def __init__(self, collection):\\n        super(MyStreamListener, self).__init__()\\n        self.collection = collection\\n    \\n    \\n    def on_data(self, data):\\n        tweet = json.loads(data)\\n        #print(data)\\n        self.collection.insert_one(tweet)\\n        \\n    def processTweet(tweet):\\n        tweet_dict = {\\n        'datetime': tweet.created_at,\\n        'tweet': tweet.text,\\n        'entities': tweet.entities\\n    }\\n        #print(tweet_dict)\\n        return tweet_dict\\n        \\n    def on_error(self, status_code):\\n        if status_code == 420:\\n            #returning False in on_error disconnects the stream\\n            return False\""
      ]
     },
     "execution_count": 35,
     "metadata": {},
     "output_type": "execute_result"
    }
   ],
   "source": [
    "'''class MyStreamListener(tweepy.StreamListener):\n",
    "    \n",
    "    def __init__(self, collection):\n",
    "        super(MyStreamListener, self).__init__()\n",
    "        self.collection = collection\n",
    "    \n",
    "    \n",
    "    def on_data(self, data):\n",
    "        tweet = json.loads(data)\n",
    "        #print(data)\n",
    "        self.collection.insert_one(tweet)\n",
    "        \n",
    "    def processTweet(tweet):\n",
    "        tweet_dict = {\n",
    "        'datetime': tweet.created_at,\n",
    "        'tweet': tweet.text,\n",
    "        'entities': tweet.entities\n",
    "    }\n",
    "        #print(tweet_dict)\n",
    "        return tweet_dict\n",
    "        \n",
    "    def on_error(self, status_code):\n",
    "        if status_code == 420:\n",
    "            #returning False in on_error disconnects the stream\n",
    "            return False'''"
   ]
  },
  {
   "cell_type": "markdown",
   "metadata": {},
   "source": [
    "Commenting out other listeners because using multiple listeners at at time overloaded computer. To avoid this, I \n",
    "combined the listeners and put tweets from all three lists into one MongoDB collection.\n"
   ]
  },
  {
   "cell_type": "code",
   "execution_count": 13,
   "metadata": {},
   "outputs": [],
   "source": [
    "Political_Listener = MyStreamListener(congress)\n",
    "#Cabinet_Listener = MyStreamListener(cabinet)\n",
    "#Governors_Listener = MyStreamListener(governors)\n"
   ]
  },
  {
   "cell_type": "code",
   "execution_count": 14,
   "metadata": {},
   "outputs": [],
   "source": [
    "Political_Stream = tweepy.Stream(auth = auth, listener=Political_Listener)\n",
    "#Cabinet_Stream = tweepy.Stream(auth = auth, listener=Cabinet_Listener)\n",
    "#Governors_Stream = tweepy.Stream(auth = auth, listener=Governors_Listener)"
   ]
  },
  {
   "cell_type": "code",
   "execution_count": 15,
   "metadata": {},
   "outputs": [],
   "source": [
    "political_list = []\n",
    "#cabinet_list = []\n",
    "#governors_list = []\n",
    "for member in tweepy.Cursor(api.list_members, 'CSPAN', 'Members-of-Congress').items():\n",
    "    political_list.append(member.id_str)\n",
    "for member in tweepy.Cursor(api.list_members, 'CSPAN', 'Governors').items():\n",
    "    political_list.append(member.id_str)\n",
    "for member in tweepy.Cursor(api.list_members, 'CSPAN', 'The-Cabinet').items():\n",
    "    political_list.append(member.id_str)"
   ]
  },
  {
   "cell_type": "code",
   "execution_count": 34,
   "metadata": {},
   "outputs": [
    {
     "name": "stdout",
     "output_type": "stream",
     "text": [
      "655\n"
     ]
    }
   ],
   "source": [
    "print(len(political_list))\n",
    "#print(len(governors_list))\n",
    "#print(len(cabinet_list))"
   ]
  },
  {
   "cell_type": "markdown",
   "metadata": {},
   "source": [
    "Cell below runs Twitter listener that collects politician's tweets. This cell will run until shutdown"
   ]
  },
  {
   "cell_type": "code",
   "execution_count": 100,
   "metadata": {
    "scrolled": false
   },
   "outputs": [],
   "source": [
    "#Political_Stream.filter(follow=political_list)"
   ]
  },
  {
   "cell_type": "code",
   "execution_count": 10,
   "metadata": {},
   "outputs": [
    {
     "data": {
      "text/plain": [
       "1533011"
      ]
     },
     "execution_count": 10,
     "metadata": {},
     "output_type": "execute_result"
    }
   ],
   "source": [
    "congress_count = congress.count_documents({})\n",
    "congress_count"
   ]
  },
  {
   "cell_type": "markdown",
   "metadata": {},
   "source": [
    "Create dataframe for all tweets with just ID columns and the text of each tweet"
   ]
  },
  {
   "cell_type": "code",
   "execution_count": 315,
   "metadata": {},
   "outputs": [],
   "source": [
    "tweet_df = pd.DataFrame(list(congress.find({}, {'_id': 1, 'text': 1, 'id_str': 1})))"
   ]
  },
  {
   "cell_type": "markdown",
   "metadata": {},
   "source": [
    "Take random sample of all tweets since running a model on the full data set takes a long time to run."
   ]
  },
  {
   "cell_type": "code",
   "execution_count": null,
   "metadata": {},
   "outputs": [],
   "source": [
    "tweet_df = tweet_df.sample(frac=0.01, replace=False, random_state=11)"
   ]
  },
  {
   "cell_type": "code",
   "execution_count": 178,
   "metadata": {},
   "outputs": [
    {
     "data": {
      "text/plain": [
       "(15330, 3)"
      ]
     },
     "execution_count": 178,
     "metadata": {},
     "output_type": "execute_result"
    }
   ],
   "source": [
    "tweet_df.shape"
   ]
  },
  {
   "cell_type": "code",
   "execution_count": 179,
   "metadata": {},
   "outputs": [
    {
     "data": {
      "text/html": [
       "<div>\n",
       "<style scoped>\n",
       "    .dataframe tbody tr th:only-of-type {\n",
       "        vertical-align: middle;\n",
       "    }\n",
       "\n",
       "    .dataframe tbody tr th {\n",
       "        vertical-align: top;\n",
       "    }\n",
       "\n",
       "    .dataframe thead th {\n",
       "        text-align: right;\n",
       "    }\n",
       "</style>\n",
       "<table border=\"1\" class=\"dataframe\">\n",
       "  <thead>\n",
       "    <tr style=\"text-align: right;\">\n",
       "      <th></th>\n",
       "      <th>_id</th>\n",
       "      <th>id_str</th>\n",
       "      <th>text</th>\n",
       "    </tr>\n",
       "  </thead>\n",
       "  <tbody>\n",
       "    <tr>\n",
       "      <th>549412</th>\n",
       "      <td>5ce0aada5c26034ffe0b8606</td>\n",
       "      <td>1129914855916335104</td>\n",
       "      <td>@LindseyGrahamSC Don’t trust anything just ano...</td>\n",
       "    </tr>\n",
       "    <tr>\n",
       "      <th>1212317</th>\n",
       "      <td>5ce53eb95c260305f1ab6579</td>\n",
       "      <td>1131173141131223040</td>\n",
       "      <td>@realDonaldTrump Congress has passed several b...</td>\n",
       "    </tr>\n",
       "    <tr>\n",
       "      <th>1388726</th>\n",
       "      <td>5ce56d3e5c260305f1ae1693</td>\n",
       "      <td>1131223095845490689</td>\n",
       "      <td>RT @realDonaldTrump: As I have long been sayin...</td>\n",
       "    </tr>\n",
       "    <tr>\n",
       "      <th>286137</th>\n",
       "      <td>5ce063515c26034ffe07819b</td>\n",
       "      <td>1129838045946105857</td>\n",
       "      <td>RT @SteveScalise: Nancy Pelosi is blocking cri...</td>\n",
       "    </tr>\n",
       "    <tr>\n",
       "      <th>249896</th>\n",
       "      <td>5cdf53db5c26034b3a08f8a2</td>\n",
       "      <td>1129546552912023553</td>\n",
       "      <td>@RepAndyBiggsAZ @RepMattGaetz Time to resign a...</td>\n",
       "    </tr>\n",
       "  </tbody>\n",
       "</table>\n",
       "</div>"
      ],
      "text/plain": [
       "                              _id               id_str  \\\n",
       "549412   5ce0aada5c26034ffe0b8606  1129914855916335104   \n",
       "1212317  5ce53eb95c260305f1ab6579  1131173141131223040   \n",
       "1388726  5ce56d3e5c260305f1ae1693  1131223095845490689   \n",
       "286137   5ce063515c26034ffe07819b  1129838045946105857   \n",
       "249896   5cdf53db5c26034b3a08f8a2  1129546552912023553   \n",
       "\n",
       "                                                      text  \n",
       "549412   @LindseyGrahamSC Don’t trust anything just ano...  \n",
       "1212317  @realDonaldTrump Congress has passed several b...  \n",
       "1388726  RT @realDonaldTrump: As I have long been sayin...  \n",
       "286137   RT @SteveScalise: Nancy Pelosi is blocking cri...  \n",
       "249896   @RepAndyBiggsAZ @RepMattGaetz Time to resign a...  "
      ]
     },
     "execution_count": 179,
     "metadata": {},
     "output_type": "execute_result"
    }
   ],
   "source": [
    "tweet_df.head()"
   ]
  },
  {
   "cell_type": "code",
   "execution_count": 180,
   "metadata": {},
   "outputs": [
    {
     "data": {
      "text/plain": [
       "pandas.core.series.Series"
      ]
     },
     "execution_count": 180,
     "metadata": {},
     "output_type": "execute_result"
    }
   ],
   "source": [
    "tweets = tweet_df.text\n",
    "type(tweets)"
   ]
  },
  {
   "cell_type": "markdown",
   "metadata": {},
   "source": [
    "## Modeling"
   ]
  },
  {
   "cell_type": "markdown",
   "metadata": {},
   "source": [
    "Class to clean, tokenize, lemmatize, and prepare tweets for modeling"
   ]
  },
  {
   "cell_type": "code",
   "execution_count": 182,
   "metadata": {},
   "outputs": [],
   "source": [
    "class nlp_preprocessor:\n",
    "   \n",
    "    def __init__(self, vectorizer=CountVectorizer(), tokenizer=None, cleaning_function=None, \n",
    "                 lemmatizer=None, model=None):\n",
    "        \"\"\"\n",
    "        A class for pipelining our data in NLP problems. The user provides a series of \n",
    "        tools, and this class manages all of the training, transforming, and modification\n",
    "        of the text data.\n",
    "        ---\n",
    "        Inputs:\n",
    "        vectorizer: the model to use for vectorization of text data\n",
    "        tokenizer: The tokenizer to use, if none defaults to split on spaces\n",
    "        cleaning_function: how to clean the data, if None, defaults to the in built class\n",
    "        \"\"\"\n",
    "        if not tokenizer:\n",
    "            tokenizer = self.splitter\n",
    "        if not cleaning_function:\n",
    "            cleaning_function = self.clean_text\n",
    "        self.lemmatizer = lemmatizer\n",
    "        self.tokenizer = tokenizer\n",
    "        self.model = model\n",
    "        self.cleaning_function = cleaning_function\n",
    "        self.vectorizer = vectorizer\n",
    "        self._is_fit = False\n",
    "        \n",
    "    def splitter(self, text):\n",
    "        \"\"\"\n",
    "        Default tokenizer that splits on spaces naively\n",
    "        \"\"\"\n",
    "        return text.split(' ')\n",
    "        \n",
    "    def clean_text(self, text, tokenizer, lemmatizer):\n",
    "        \"\"\"\n",
    "        A naive function to lowercase all works can clean them quickly.\n",
    "        This is the default behavior if no other cleaning function is specified\n",
    "        \"\"\"\n",
    "        cleaned_text = []\n",
    "        for post in text:\n",
    "            cleaned_words = []\n",
    "            for word in tokenizer(post):\n",
    "                low_word = word.lower()\n",
    "                if lemmatizer:\n",
    "                    low_word = lemmatizer.lemmatize(low_word)\n",
    "                cleaned_words.append(low_word)\n",
    "            cleaned_text.append(' '.join(cleaned_words))\n",
    "        return cleaned_text\n",
    "    \n",
    "    def fit(self, text):\n",
    "        \"\"\"\n",
    "        Cleans the data and then fits the vectorizer with\n",
    "        the user provided text\n",
    "        \"\"\"\n",
    "        clean_text = self.cleaning_function(text, self.tokenizer, self.lemmatizer )\n",
    "        self.vectorizer.fit(clean_text)\n",
    "        self._is_fit = True\n",
    "        \n",
    "    def transform(self, text):\n",
    "        \"\"\"\n",
    "        Cleans any provided data and then transforms the data into\n",
    "        a vectorized format based on the fit function. Returns the\n",
    "        vectorized form of the data.\n",
    "        \"\"\"\n",
    "        if not self._is_fit:\n",
    "            raise ValueError(\"Must fit the models before transforming!\")\n",
    "        clean_text = self.cleaning_function(text, self.tokenizer, self.lemmatizer)\n",
    "        return self.vectorizer.transform(clean_text)\n",
    "    \n",
    "    def save_pipe(self, filename):\n",
    "        \"\"\"\n",
    "        Writes the attributes of the pipeline to a file\n",
    "        allowing a pipeline to be loaded later with the\n",
    "        pre-trained pieces in place.\n",
    "        \"\"\"\n",
    "        if type(filename) != str:\n",
    "            raise TypeError(\"filename must be a string\")\n",
    "        pickle.dump(self.__dict__, open(filename+\".mdl\",'wb'))\n",
    "        \n",
    "    def load_pipe(self, filename):\n",
    "        \"\"\"\n",
    "        Writes the attributes of the pipeline to a file\n",
    "        allowing a pipeline to be loaded later with the\n",
    "        pre-trained pieces in place.\n",
    "        \"\"\"\n",
    "        if type(filename) != str:\n",
    "            raise TypeError(\"filename must be a string\")\n",
    "        if filename[-4:] != '.mdl':\n",
    "            filename += '.mdl'\n",
    "        self.__dict__ = pickle.load(open(filename,'rb'))"
   ]
  },
  {
   "cell_type": "code",
   "execution_count": 183,
   "metadata": {},
   "outputs": [],
   "source": [
    "tweets = list(tweets)"
   ]
  },
  {
   "cell_type": "code",
   "execution_count": 184,
   "metadata": {},
   "outputs": [],
   "source": [
    "text_data = np.array(tweets)"
   ]
  },
  {
   "cell_type": "markdown",
   "metadata": {},
   "source": [
    "#### LSA Count Vectorizer"
   ]
  },
  {
   "cell_type": "code",
   "execution_count": 273,
   "metadata": {},
   "outputs": [
    {
     "data": {
      "text/plain": [
       "188"
      ]
     },
     "execution_count": 273,
     "metadata": {},
     "output_type": "execute_result"
    }
   ],
   "source": [
    "stopwords = nltk.corpus.stopwords.words('english')\n",
    "more_stop_words = ['https', 'http', 'trump', '@', 'rt', 'wa', 'like', 'ha', 'co']\n",
    "stopwords.extend(more_stop_words)\n",
    "len(stopwords)"
   ]
  },
  {
   "cell_type": "code",
   "execution_count": 199,
   "metadata": {},
   "outputs": [],
   "source": [
    "cloud_stopwords = list(stopwords)"
   ]
  },
  {
   "cell_type": "code",
   "execution_count": 200,
   "metadata": {},
   "outputs": [],
   "source": [
    "nlp = nlp_preprocessor(vectorizer=CountVectorizer(stop_words=stopwords, min_df = .03, max_df = .8),\n",
    "                       tokenizer=TreebankWordTokenizer().tokenize, lemmatizer=WordNetLemmatizer())"
   ]
  },
  {
   "cell_type": "code",
   "execution_count": 201,
   "metadata": {},
   "outputs": [
    {
     "data": {
      "text/plain": [
       "(15330, 27)"
      ]
     },
     "execution_count": 201,
     "metadata": {},
     "output_type": "execute_result"
    }
   ],
   "source": [
    "nlp.fit(text_data)\n",
    "topic_words = nlp.transform(text_data)\n",
    "topic_words.shape"
   ]
  },
  {
   "cell_type": "code",
   "execution_count": 202,
   "metadata": {},
   "outputs": [
    {
     "name": "stdout",
     "output_type": "stream",
     "text": [
      "['american', 'amp', 'attorney', 'barr', 'conclusion', 'congress', 'country', 'deliberately', 'democrat', 'foxnews', 'general', 'great', 'iran', 'justinamash', 'misrepresented', 'mueller', 'never', 'people', 'president', 'principal', 'report', 'republican', 'state', 'today', 'united', 'want', 'would']\n"
     ]
    }
   ],
   "source": [
    "pd.DataFrame(topic_words.toarray(), index=text_data, columns=nlp.vectorizer.get_feature_names()).head(10)\n",
    "print(nlp.vectorizer.get_feature_names())"
   ]
  },
  {
   "cell_type": "code",
   "execution_count": 203,
   "metadata": {},
   "outputs": [
    {
     "data": {
      "text/plain": [
       "array([0.3046279 , 0.11762574, 0.06412664])"
      ]
     },
     "execution_count": 203,
     "metadata": {},
     "output_type": "execute_result"
    }
   ],
   "source": [
    "lsa = TruncatedSVD(3) #number of topics in parentheses\n",
    "doc_topic = lsa.fit_transform(topic_words)\n",
    "lsa.explained_variance_ratio_"
   ]
  },
  {
   "cell_type": "code",
   "execution_count": 204,
   "metadata": {},
   "outputs": [
    {
     "data": {
      "text/html": [
       "<div>\n",
       "<style scoped>\n",
       "    .dataframe tbody tr th:only-of-type {\n",
       "        vertical-align: middle;\n",
       "    }\n",
       "\n",
       "    .dataframe tbody tr th {\n",
       "        vertical-align: top;\n",
       "    }\n",
       "\n",
       "    .dataframe thead th {\n",
       "        text-align: right;\n",
       "    }\n",
       "</style>\n",
       "<table border=\"1\" class=\"dataframe\">\n",
       "  <thead>\n",
       "    <tr style=\"text-align: right;\">\n",
       "      <th></th>\n",
       "      <th>american</th>\n",
       "      <th>amp</th>\n",
       "      <th>attorney</th>\n",
       "      <th>barr</th>\n",
       "      <th>conclusion</th>\n",
       "      <th>congress</th>\n",
       "      <th>country</th>\n",
       "      <th>deliberately</th>\n",
       "      <th>democrat</th>\n",
       "      <th>foxnews</th>\n",
       "      <th>...</th>\n",
       "      <th>people</th>\n",
       "      <th>president</th>\n",
       "      <th>principal</th>\n",
       "      <th>report</th>\n",
       "      <th>republican</th>\n",
       "      <th>state</th>\n",
       "      <th>today</th>\n",
       "      <th>united</th>\n",
       "      <th>want</th>\n",
       "      <th>would</th>\n",
       "    </tr>\n",
       "  </thead>\n",
       "  <tbody>\n",
       "    <tr>\n",
       "      <th>component_1</th>\n",
       "      <td>0.008</td>\n",
       "      <td>0.003</td>\n",
       "      <td>0.248</td>\n",
       "      <td>0.319</td>\n",
       "      <td>0.276</td>\n",
       "      <td>0.033</td>\n",
       "      <td>0.005</td>\n",
       "      <td>0.236</td>\n",
       "      <td>0.018</td>\n",
       "      <td>0.001</td>\n",
       "      <td>...</td>\n",
       "      <td>0.004</td>\n",
       "      <td>0.293</td>\n",
       "      <td>0.258</td>\n",
       "      <td>0.364</td>\n",
       "      <td>0.006</td>\n",
       "      <td>0.005</td>\n",
       "      <td>0.011</td>\n",
       "      <td>0.002</td>\n",
       "      <td>0.003</td>\n",
       "      <td>0.006</td>\n",
       "    </tr>\n",
       "    <tr>\n",
       "      <th>component_2</th>\n",
       "      <td>0.029</td>\n",
       "      <td>0.021</td>\n",
       "      <td>-0.005</td>\n",
       "      <td>-0.007</td>\n",
       "      <td>-0.010</td>\n",
       "      <td>0.014</td>\n",
       "      <td>0.071</td>\n",
       "      <td>-0.004</td>\n",
       "      <td>0.038</td>\n",
       "      <td>0.003</td>\n",
       "      <td>...</td>\n",
       "      <td>0.048</td>\n",
       "      <td>0.020</td>\n",
       "      <td>-0.009</td>\n",
       "      <td>-0.008</td>\n",
       "      <td>0.019</td>\n",
       "      <td>0.350</td>\n",
       "      <td>0.004</td>\n",
       "      <td>0.333</td>\n",
       "      <td>0.404</td>\n",
       "      <td>0.008</td>\n",
       "    </tr>\n",
       "    <tr>\n",
       "      <th>component_3</th>\n",
       "      <td>0.032</td>\n",
       "      <td>0.354</td>\n",
       "      <td>-0.129</td>\n",
       "      <td>-0.103</td>\n",
       "      <td>-0.077</td>\n",
       "      <td>0.369</td>\n",
       "      <td>0.666</td>\n",
       "      <td>-0.122</td>\n",
       "      <td>0.198</td>\n",
       "      <td>0.004</td>\n",
       "      <td>...</td>\n",
       "      <td>0.114</td>\n",
       "      <td>-0.103</td>\n",
       "      <td>-0.106</td>\n",
       "      <td>0.120</td>\n",
       "      <td>0.050</td>\n",
       "      <td>-0.003</td>\n",
       "      <td>0.020</td>\n",
       "      <td>-0.007</td>\n",
       "      <td>-0.040</td>\n",
       "      <td>0.023</td>\n",
       "    </tr>\n",
       "  </tbody>\n",
       "</table>\n",
       "<p>3 rows × 27 columns</p>\n",
       "</div>"
      ],
      "text/plain": [
       "             american    amp  attorney   barr  conclusion  congress  country  \\\n",
       "component_1     0.008  0.003     0.248  0.319       0.276     0.033    0.005   \n",
       "component_2     0.029  0.021    -0.005 -0.007      -0.010     0.014    0.071   \n",
       "component_3     0.032  0.354    -0.129 -0.103      -0.077     0.369    0.666   \n",
       "\n",
       "             deliberately  democrat  foxnews  ...  people  president  \\\n",
       "component_1         0.236     0.018    0.001  ...   0.004      0.293   \n",
       "component_2        -0.004     0.038    0.003  ...   0.048      0.020   \n",
       "component_3        -0.122     0.198    0.004  ...   0.114     -0.103   \n",
       "\n",
       "             principal  report  republican  state  today  united   want  would  \n",
       "component_1      0.258   0.364       0.006  0.005  0.011   0.002  0.003  0.006  \n",
       "component_2     -0.009  -0.008       0.019  0.350  0.004   0.333  0.404  0.008  \n",
       "component_3     -0.106   0.120       0.050 -0.003  0.020  -0.007 -0.040  0.023  \n",
       "\n",
       "[3 rows x 27 columns]"
      ]
     },
     "execution_count": 204,
     "metadata": {},
     "output_type": "execute_result"
    }
   ],
   "source": [
    "topic_word = pd.DataFrame(lsa.components_.round(3),\n",
    "             index = [\"component_1\",\"component_2\", \"component_3\"],\n",
    "             columns = nlp.vectorizer.get_feature_names())\n",
    "topic_word"
   ]
  },
  {
   "cell_type": "code",
   "execution_count": 205,
   "metadata": {},
   "outputs": [
    {
     "data": {
      "text/plain": [
       "Index(['american', 'amp', 'attorney', 'barr', 'conclusion', 'congress',\n",
       "       'country', 'deliberately', 'democrat', 'foxnews', 'general', 'great',\n",
       "       'iran', 'justinamash', 'misrepresented', 'mueller', 'never', 'people',\n",
       "       'president', 'principal', 'report', 'republican', 'state', 'today',\n",
       "       'united', 'want', 'would'],\n",
       "      dtype='object')"
      ]
     },
     "execution_count": 205,
     "metadata": {},
     "output_type": "execute_result"
    }
   ],
   "source": [
    "topic_word.columns"
   ]
  },
  {
   "cell_type": "markdown",
   "metadata": {},
   "source": [
    "Function to display topics generated by each of type of topic model"
   ]
  },
  {
   "cell_type": "code",
   "execution_count": 206,
   "metadata": {},
   "outputs": [],
   "source": [
    "def display_topics(model, feature_names, no_top_words, topic_names=None):\n",
    "    for ix, topic in enumerate(model.components_):\n",
    "        if not topic_names or not topic_names[ix]:\n",
    "            print(\"\\nTopic \", ix)\n",
    "        else:\n",
    "            print(\"\\nTopic: '\",topic_names[ix],\"'\")\n",
    "        print(\", \".join([feature_names[i]\n",
    "                        for i in topic.argsort()[:-no_top_words - 1:-1]]))"
   ]
  },
  {
   "cell_type": "code",
   "execution_count": 207,
   "metadata": {},
   "outputs": [
    {
     "name": "stdout",
     "output_type": "stream",
     "text": [
      "\n",
      "Topic  0\n",
      "justinamash, mueller, report, barr, president\n",
      "\n",
      "Topic  1\n",
      "iran, want, state, united, never\n",
      "\n",
      "Topic  2\n",
      "country, congress, amp, justinamash, democrat\n"
     ]
    }
   ],
   "source": [
    "display_topics(lsa, nlp.vectorizer.get_feature_names(), 5)"
   ]
  },
  {
   "cell_type": "markdown",
   "metadata": {},
   "source": [
    "Matrix below maps features to topics"
   ]
  },
  {
   "cell_type": "code",
   "execution_count": 255,
   "metadata": {
    "scrolled": false
   },
   "outputs": [],
   "source": [
    "Vt = pd.DataFrame(doc_topic.round(4),\n",
    "             index = text_data,\n",
    "             columns = [\"component_1\",\"component_2\", \"component_3\"])\n",
    "\n",
    "Vt"
   ]
  },
  {
   "cell_type": "markdown",
   "metadata": {},
   "source": [
    "Assign an overall topic to each tweet for T-SNE distribution. All steps followed in this model will be followed in the subsequent models."
   ]
  },
  {
   "cell_type": "markdown",
   "metadata": {},
   "source": [
    "Vt_matrix = Vt.idxmax(axis = 1, skipna = True)"
   ]
  },
  {
   "cell_type": "markdown",
   "metadata": {},
   "source": [
    "#### LSA - TFIDF"
   ]
  },
  {
   "cell_type": "code",
   "execution_count": 210,
   "metadata": {},
   "outputs": [],
   "source": [
    "tfidf_nlp = nlp_preprocessor(vectorizer=TfidfVectorizer(stop_words=stopwords, min_df = .03, max_df = .8),\n",
    "                       tokenizer=TreebankWordTokenizer().tokenize, lemmatizer=WordNetLemmatizer())"
   ]
  },
  {
   "cell_type": "code",
   "execution_count": 211,
   "metadata": {},
   "outputs": [
    {
     "data": {
      "text/plain": [
       "(15330, 27)"
      ]
     },
     "execution_count": 211,
     "metadata": {},
     "output_type": "execute_result"
    }
   ],
   "source": [
    "tfidf_nlp.fit(text_data)\n",
    "tfidf_filtered_words = tfidf_nlp.transform(text_data)\n",
    "tfidf_filtered_words.shape"
   ]
  },
  {
   "cell_type": "markdown",
   "metadata": {},
   "source": [
    "Get most used words in all tweets collected."
   ]
  },
  {
   "cell_type": "code",
   "execution_count": 212,
   "metadata": {},
   "outputs": [
    {
     "name": "stdout",
     "output_type": "stream",
     "text": [
      "['american', 'amp', 'attorney', 'barr', 'conclusion', 'congress', 'country', 'deliberately', 'democrat', 'foxnews', 'general', 'great', 'iran', 'justinamash', 'misrepresented', 'mueller', 'never', 'people', 'president', 'principal', 'report', 'republican', 'state', 'today', 'united', 'want', 'would']\n"
     ]
    }
   ],
   "source": [
    "pd.DataFrame(tfidf_filtered_words.toarray(), index=text_data, columns=tfidf_nlp.vectorizer.get_feature_names()).head(10)\n",
    "print(tfidf_nlp.vectorizer.get_feature_names())"
   ]
  },
  {
   "cell_type": "code",
   "execution_count": 213,
   "metadata": {},
   "outputs": [
    {
     "data": {
      "text/plain": [
       "array([0.11707447, 0.07642559, 0.06752818])"
      ]
     },
     "execution_count": 213,
     "metadata": {},
     "output_type": "execute_result"
    }
   ],
   "source": [
    "tfidf_lsa = TruncatedSVD(3) #2is the number of topics we want\n",
    "doc_topic = tfidf_lsa.fit_transform(tfidf_filtered_words)\n",
    "tfidf_lsa.explained_variance_ratio_"
   ]
  },
  {
   "cell_type": "code",
   "execution_count": 214,
   "metadata": {
    "scrolled": true
   },
   "outputs": [
    {
     "data": {
      "text/html": [
       "<div>\n",
       "<style scoped>\n",
       "    .dataframe tbody tr th:only-of-type {\n",
       "        vertical-align: middle;\n",
       "    }\n",
       "\n",
       "    .dataframe tbody tr th {\n",
       "        vertical-align: top;\n",
       "    }\n",
       "\n",
       "    .dataframe thead th {\n",
       "        text-align: right;\n",
       "    }\n",
       "</style>\n",
       "<table border=\"1\" class=\"dataframe\">\n",
       "  <thead>\n",
       "    <tr style=\"text-align: right;\">\n",
       "      <th></th>\n",
       "      <th>american</th>\n",
       "      <th>amp</th>\n",
       "      <th>attorney</th>\n",
       "      <th>barr</th>\n",
       "      <th>conclusion</th>\n",
       "      <th>congress</th>\n",
       "      <th>country</th>\n",
       "      <th>deliberately</th>\n",
       "      <th>democrat</th>\n",
       "      <th>foxnews</th>\n",
       "      <th>...</th>\n",
       "      <th>people</th>\n",
       "      <th>president</th>\n",
       "      <th>principal</th>\n",
       "      <th>report</th>\n",
       "      <th>republican</th>\n",
       "      <th>state</th>\n",
       "      <th>today</th>\n",
       "      <th>united</th>\n",
       "      <th>want</th>\n",
       "      <th>would</th>\n",
       "    </tr>\n",
       "  </thead>\n",
       "  <tbody>\n",
       "    <tr>\n",
       "      <th>component_1</th>\n",
       "      <td>0.026</td>\n",
       "      <td>0.014</td>\n",
       "      <td>0.110</td>\n",
       "      <td>0.212</td>\n",
       "      <td>0.153</td>\n",
       "      <td>0.084</td>\n",
       "      <td>0.025</td>\n",
       "      <td>0.104</td>\n",
       "      <td>0.047</td>\n",
       "      <td>0.003</td>\n",
       "      <td>...</td>\n",
       "      <td>0.017</td>\n",
       "      <td>0.230</td>\n",
       "      <td>0.124</td>\n",
       "      <td>0.274</td>\n",
       "      <td>0.025</td>\n",
       "      <td>0.010</td>\n",
       "      <td>0.015</td>\n",
       "      <td>0.005</td>\n",
       "      <td>0.009</td>\n",
       "      <td>0.019</td>\n",
       "    </tr>\n",
       "    <tr>\n",
       "      <th>component_2</th>\n",
       "      <td>0.111</td>\n",
       "      <td>0.071</td>\n",
       "      <td>0.162</td>\n",
       "      <td>0.225</td>\n",
       "      <td>0.170</td>\n",
       "      <td>0.074</td>\n",
       "      <td>0.124</td>\n",
       "      <td>0.146</td>\n",
       "      <td>0.217</td>\n",
       "      <td>0.018</td>\n",
       "      <td>...</td>\n",
       "      <td>0.070</td>\n",
       "      <td>0.333</td>\n",
       "      <td>0.157</td>\n",
       "      <td>0.310</td>\n",
       "      <td>-0.001</td>\n",
       "      <td>0.048</td>\n",
       "      <td>0.060</td>\n",
       "      <td>0.037</td>\n",
       "      <td>0.065</td>\n",
       "      <td>0.068</td>\n",
       "    </tr>\n",
       "    <tr>\n",
       "      <th>component_3</th>\n",
       "      <td>0.065</td>\n",
       "      <td>0.116</td>\n",
       "      <td>-0.058</td>\n",
       "      <td>-0.092</td>\n",
       "      <td>-0.072</td>\n",
       "      <td>0.032</td>\n",
       "      <td>0.224</td>\n",
       "      <td>-0.054</td>\n",
       "      <td>0.086</td>\n",
       "      <td>0.017</td>\n",
       "      <td>...</td>\n",
       "      <td>0.100</td>\n",
       "      <td>-0.001</td>\n",
       "      <td>-0.063</td>\n",
       "      <td>-0.117</td>\n",
       "      <td>0.198</td>\n",
       "      <td>0.091</td>\n",
       "      <td>0.094</td>\n",
       "      <td>0.058</td>\n",
       "      <td>0.077</td>\n",
       "      <td>0.165</td>\n",
       "    </tr>\n",
       "  </tbody>\n",
       "</table>\n",
       "<p>3 rows × 27 columns</p>\n",
       "</div>"
      ],
      "text/plain": [
       "             american    amp  attorney   barr  conclusion  congress  country  \\\n",
       "component_1     0.026  0.014     0.110  0.212       0.153     0.084    0.025   \n",
       "component_2     0.111  0.071     0.162  0.225       0.170     0.074    0.124   \n",
       "component_3     0.065  0.116    -0.058 -0.092      -0.072     0.032    0.224   \n",
       "\n",
       "             deliberately  democrat  foxnews  ...  people  president  \\\n",
       "component_1         0.104     0.047    0.003  ...   0.017      0.230   \n",
       "component_2         0.146     0.217    0.018  ...   0.070      0.333   \n",
       "component_3        -0.054     0.086    0.017  ...   0.100     -0.001   \n",
       "\n",
       "             principal  report  republican  state  today  united   want  would  \n",
       "component_1      0.124   0.274       0.025  0.010  0.015   0.005  0.009  0.019  \n",
       "component_2      0.157   0.310      -0.001  0.048  0.060   0.037  0.065  0.068  \n",
       "component_3     -0.063  -0.117       0.198  0.091  0.094   0.058  0.077  0.165  \n",
       "\n",
       "[3 rows x 27 columns]"
      ]
     },
     "execution_count": 214,
     "metadata": {},
     "output_type": "execute_result"
    }
   ],
   "source": [
    "topic_word = pd.DataFrame(tfidf_lsa.components_.round(3),\n",
    "             index = [\"component_1\",\"component_2\",\"component_3\"],\n",
    "             columns = tfidf_nlp.vectorizer.get_feature_names())\n",
    "topic_word"
   ]
  },
  {
   "cell_type": "code",
   "execution_count": 215,
   "metadata": {},
   "outputs": [
    {
     "data": {
      "text/plain": [
       "Index(['american', 'amp', 'attorney', 'barr', 'conclusion', 'congress',\n",
       "       'country', 'deliberately', 'democrat', 'foxnews', 'general', 'great',\n",
       "       'iran', 'justinamash', 'misrepresented', 'mueller', 'never', 'people',\n",
       "       'president', 'principal', 'report', 'republican', 'state', 'today',\n",
       "       'united', 'want', 'would'],\n",
       "      dtype='object')"
      ]
     },
     "execution_count": 215,
     "metadata": {},
     "output_type": "execute_result"
    }
   ],
   "source": [
    "topic_word.columns"
   ]
  },
  {
   "cell_type": "code",
   "execution_count": 216,
   "metadata": {},
   "outputs": [
    {
     "name": "stdout",
     "output_type": "stream",
     "text": [
      "\n",
      "Topic  0\n",
      "justinamash, mueller, report, president\n",
      "\n",
      "Topic  1\n",
      "mueller, president, report, barr\n",
      "\n",
      "Topic  2\n",
      "great, country, republican, would\n"
     ]
    }
   ],
   "source": [
    "display_topics(tfidf_lsa, tfidf_nlp.vectorizer.get_feature_names(), 4)\n"
   ]
  },
  {
   "cell_type": "code",
   "execution_count": 217,
   "metadata": {},
   "outputs": [
    {
     "data": {
      "text/html": [
       "<div>\n",
       "<style scoped>\n",
       "    .dataframe tbody tr th:only-of-type {\n",
       "        vertical-align: middle;\n",
       "    }\n",
       "\n",
       "    .dataframe tbody tr th {\n",
       "        vertical-align: top;\n",
       "    }\n",
       "\n",
       "    .dataframe thead th {\n",
       "        text-align: right;\n",
       "    }\n",
       "</style>\n",
       "<table border=\"1\" class=\"dataframe\">\n",
       "  <thead>\n",
       "    <tr style=\"text-align: right;\">\n",
       "      <th></th>\n",
       "      <th>component_1</th>\n",
       "      <th>component_2</th>\n",
       "      <th>component_3</th>\n",
       "    </tr>\n",
       "  </thead>\n",
       "  <tbody>\n",
       "    <tr>\n",
       "      <th>@LindseyGrahamSC Don’t trust anything just another lie that got us into war</th>\n",
       "      <td>0.00000</td>\n",
       "      <td>-0.00000</td>\n",
       "      <td>0.00000</td>\n",
       "    </tr>\n",
       "    <tr>\n",
       "      <th>@realDonaldTrump Congress has passed several bills that now sit with the Senate.   However Mitch McConnel refuses t… https://t.co/ZiHWPibzta</th>\n",
       "      <td>0.08379</td>\n",
       "      <td>0.07044</td>\n",
       "      <td>0.03466</td>\n",
       "    </tr>\n",
       "    <tr>\n",
       "      <th>RT @realDonaldTrump: As I have long been saying, and has now been proven out, this is a Witch Hunt against the Republican Party and myself,…</th>\n",
       "      <td>0.02502</td>\n",
       "      <td>-0.00225</td>\n",
       "      <td>0.20174</td>\n",
       "    </tr>\n",
       "    <tr>\n",
       "      <th>RT @SteveScalise: Nancy Pelosi is blocking critical legislation to combat the dangerous BDS movement from receiving a vote in the House. To…</th>\n",
       "      <td>-0.00000</td>\n",
       "      <td>0.00000</td>\n",
       "      <td>0.00000</td>\n",
       "    </tr>\n",
       "    <tr>\n",
       "      <th>@RepAndyBiggsAZ @RepMattGaetz Time to resign asshole! \\nhttps://t.co/ssasdalWDe</th>\n",
       "      <td>0.00000</td>\n",
       "      <td>0.00000</td>\n",
       "      <td>-0.00000</td>\n",
       "    </tr>\n",
       "    <tr>\n",
       "      <th>@realDonaldTrump No, Trump is the problem, The majority of the country who didn't vote for him knew he would be a p… https://t.co/5uRaKga1Xg</th>\n",
       "      <td>0.03102</td>\n",
       "      <td>0.13355</td>\n",
       "      <td>0.27125</td>\n",
       "    </tr>\n",
       "    <tr>\n",
       "      <th>@realDonaldTrump You can't keep your anger in check when Nancy said you were engaged in a cover-up and you storm of… https://t.co/UT8osLCgcN</th>\n",
       "      <td>0.00000</td>\n",
       "      <td>-0.00000</td>\n",
       "      <td>0.00000</td>\n",
       "    </tr>\n",
       "    <tr>\n",
       "      <th>RT @realDonaldTrump: If Iran wants to fight, that will be the official end of Iran. Never threaten the United States again!</th>\n",
       "      <td>0.02199</td>\n",
       "      <td>0.12029</td>\n",
       "      <td>0.20077</td>\n",
       "    </tr>\n",
       "    <tr>\n",
       "      <th>@justinamash stopped at that point. It just would have been in someone else’s hands. Which, as we see now, it shoul… https://t.co/kO5FMBc9Zp</th>\n",
       "      <td>0.46319</td>\n",
       "      <td>-0.25935</td>\n",
       "      <td>0.18856</td>\n",
       "    </tr>\n",
       "    <tr>\n",
       "      <th>@SenTedCruz Wtf</th>\n",
       "      <td>-0.00000</td>\n",
       "      <td>0.00000</td>\n",
       "      <td>-0.00000</td>\n",
       "    </tr>\n",
       "    <tr>\n",
       "      <th>RT @RepMarkMeadows: A question every American should ask: what on earth was the point of a taxpayer funded special counsel if we’re going t…</th>\n",
       "      <td>0.02571</td>\n",
       "      <td>0.11211</td>\n",
       "      <td>0.06351</td>\n",
       "    </tr>\n",
       "    <tr>\n",
       "      <th>@realDonaldTrump https://t.co/haustTATK9</th>\n",
       "      <td>0.00000</td>\n",
       "      <td>-0.00000</td>\n",
       "      <td>-0.00000</td>\n",
       "    </tr>\n",
       "    <tr>\n",
       "      <th>RT @justinamash: Barr’s misrepresentations are significant but often subtle, frequently taking the form of sleight-of-hand qualifications o…</th>\n",
       "      <td>0.66800</td>\n",
       "      <td>-0.17789</td>\n",
       "      <td>-0.01050</td>\n",
       "    </tr>\n",
       "    <tr>\n",
       "      <th>RT @RepAdamSchiff: Barr says Trump’s campaign was “spied” upon. Trump claims treason. Both are incendiary. Neither is true.\\n \\nBarr suggests…</th>\n",
       "      <td>0.21170</td>\n",
       "      <td>0.22717</td>\n",
       "      <td>-0.09165</td>\n",
       "    </tr>\n",
       "    <tr>\n",
       "      <th>RT @realDonaldTrump: The Democrats are getting ZERO work done in Congress. All they are focused on is trying to prove the Mueller Report wr…</th>\n",
       "      <td>0.32165</td>\n",
       "      <td>0.45841</td>\n",
       "      <td>-0.04644</td>\n",
       "    </tr>\n",
       "    <tr>\n",
       "      <th>RT @realDonaldTrump: ..BETWEEN RUSSIA AND THE TRUMP CAMPAIGN. Mr. McGahn can be forgiven for declining the honor of appearing in Mr. Nadler…</th>\n",
       "      <td>0.00000</td>\n",
       "      <td>0.00000</td>\n",
       "      <td>-0.00000</td>\n",
       "    </tr>\n",
       "    <tr>\n",
       "      <th>RT @RepDean: I take no pleasure in calling for this historic action, and yet I do so with an American sense of optimism — that our governme…</th>\n",
       "      <td>0.02571</td>\n",
       "      <td>0.11211</td>\n",
       "      <td>0.06351</td>\n",
       "    </tr>\n",
       "    <tr>\n",
       "      <th>@realDonaldTrump Git R Done Mr. President!</th>\n",
       "      <td>0.23009</td>\n",
       "      <td>0.33164</td>\n",
       "      <td>-0.00017</td>\n",
       "    </tr>\n",
       "    <tr>\n",
       "      <th>@realDonaldTrump #derangedonald \\nEven Iran knows you are not America’s legitimate leader\\nNo world leader does!\\nTo t… https://t.co/lxZ6x1dGyr</th>\n",
       "      <td>0.01102</td>\n",
       "      <td>0.08035</td>\n",
       "      <td>0.11435</td>\n",
       "    </tr>\n",
       "    <tr>\n",
       "      <th>RT @SenWarren: .@SecretaryCarson can’t distinguish between a cookie and a home that’s been foreclosed on. Luckily, @RepKatiePorter was able…</th>\n",
       "      <td>0.00000</td>\n",
       "      <td>0.00000</td>\n",
       "      <td>-0.00000</td>\n",
       "    </tr>\n",
       "    <tr>\n",
       "      <th>RT @SenSchumer: Why has @SenateMajLdr Mitch McConnell buried election security legislation in his legislative graveyard?\\n\\nRussia is gearing…</th>\n",
       "      <td>0.00000</td>\n",
       "      <td>0.00000</td>\n",
       "      <td>-0.00000</td>\n",
       "    </tr>\n",
       "    <tr>\n",
       "      <th>@SpeakerPelosi then do something about it. democrats have a SPINELESS leader in you.</th>\n",
       "      <td>0.04696</td>\n",
       "      <td>0.21855</td>\n",
       "      <td>0.08386</td>\n",
       "    </tr>\n",
       "    <tr>\n",
       "      <th>RT @realDonaldTrump: Also, tremendous work is being done on pure renovation - fixing existing Walls that are in bad condition and ineffecti…</th>\n",
       "      <td>0.00000</td>\n",
       "      <td>0.00000</td>\n",
       "      <td>-0.00000</td>\n",
       "    </tr>\n",
       "    <tr>\n",
       "      <th>RT @realDonaldTrump: MAKE AMERICA GREAT AGAIN!</th>\n",
       "      <td>0.02329</td>\n",
       "      <td>0.12412</td>\n",
       "      <td>0.85075</td>\n",
       "    </tr>\n",
       "    <tr>\n",
       "      <th>RT @justinamash: Few members of Congress even read Mueller’s report; their minds were made up based on partisan affiliation—and it showed,…</th>\n",
       "      <td>0.65184</td>\n",
       "      <td>0.13193</td>\n",
       "      <td>-0.05690</td>\n",
       "    </tr>\n",
       "    <tr>\n",
       "      <th>RT @GovRonDeSantis: President @realDonaldTrump and I spoke yesterday and confirmed that he did not approve, nor would approve, sending immi…</th>\n",
       "      <td>0.15724</td>\n",
       "      <td>0.25832</td>\n",
       "      <td>0.12687</td>\n",
       "    </tr>\n",
       "    <tr>\n",
       "      <th>RT @justinamash: Few members of Congress even read Mueller’s report; their minds were made up based on partisan affiliation—and it showed,…</th>\n",
       "      <td>0.65184</td>\n",
       "      <td>0.13193</td>\n",
       "      <td>-0.05690</td>\n",
       "    </tr>\n",
       "    <tr>\n",
       "      <th>RT @GovRonDeSantis: .@FEMA officially notifies me of @realdonaldtrump approval of 90-10 federal cost share for hurricane disaster funds for…</th>\n",
       "      <td>0.00000</td>\n",
       "      <td>0.00000</td>\n",
       "      <td>-0.00000</td>\n",
       "    </tr>\n",
       "    <tr>\n",
       "      <th>RT @realDonaldTrump: My Campaign for President was conclusively spied on. Nothing like this has ever happened in American Politics. A reall…</th>\n",
       "      <td>0.16417</td>\n",
       "      <td>0.29512</td>\n",
       "      <td>0.04940</td>\n",
       "    </tr>\n",
       "    <tr>\n",
       "      <th>@SenSanders @sunrisemvmt Are you looking sells leads for development your business . I will provide you sells leads… https://t.co/DzAjWpOpY9</th>\n",
       "      <td>0.00000</td>\n",
       "      <td>0.00000</td>\n",
       "      <td>-0.00000</td>\n",
       "    </tr>\n",
       "    <tr>\n",
       "      <th>...</th>\n",
       "      <td>...</td>\n",
       "      <td>...</td>\n",
       "      <td>...</td>\n",
       "    </tr>\n",
       "    <tr>\n",
       "      <th>RT @realDonaldTrump: My Campaign for President was conclusively spied on. Nothing like this has ever happened in American Politics. A reall…</th>\n",
       "      <td>0.16417</td>\n",
       "      <td>0.29512</td>\n",
       "      <td>0.04940</td>\n",
       "    </tr>\n",
       "    <tr>\n",
       "      <th>RT @dcexaminer: .@RepMarkMeadows: Declassification of Russia investigation docs is \"right around the corner.\" \\n\\nhttps://t.co/6CpqRdCD8V</th>\n",
       "      <td>0.00000</td>\n",
       "      <td>0.00000</td>\n",
       "      <td>-0.00000</td>\n",
       "    </tr>\n",
       "    <tr>\n",
       "      <th>RT @SenKamalaHarris: One of my Republican colleagues admitted this week that Leader McConnell is blocking all legislation aimed at securing…</th>\n",
       "      <td>0.02502</td>\n",
       "      <td>-0.00225</td>\n",
       "      <td>0.20174</td>\n",
       "    </tr>\n",
       "    <tr>\n",
       "      <th>@realDonaldTrump\\nhttps://t.co/3FwLmK5N9I\\nYoung girl singing, \"Don't judge a Book by its Cover\".</th>\n",
       "      <td>0.00000</td>\n",
       "      <td>0.00000</td>\n",
       "      <td>-0.00000</td>\n",
       "    </tr>\n",
       "    <tr>\n",
       "      <th>@realDonaldTrump Something the President never addresses tho' (the obscene disparity of wealth)👇This McDonalds CEO'… https://t.co/pBuW7tCIAd</th>\n",
       "      <td>0.15703</td>\n",
       "      <td>0.22955</td>\n",
       "      <td>0.08857</td>\n",
       "    </tr>\n",
       "    <tr>\n",
       "      <th>RT @justinamash: Here are my principal conclusions:\\n1. Attorney General Barr has deliberately misrepresented Mueller’s report.\\n2. President…</th>\n",
       "      <td>0.68668</td>\n",
       "      <td>0.51770</td>\n",
       "      <td>-0.18554</td>\n",
       "    </tr>\n",
       "    <tr>\n",
       "      <th>RT @senatemajldr: Today, tens of thousands of peace officers gathered in our nation’s capital to honor the service and sacrifice of their f…</th>\n",
       "      <td>0.01501</td>\n",
       "      <td>0.05900</td>\n",
       "      <td>0.09388</td>\n",
       "    </tr>\n",
       "    <tr>\n",
       "      <th>RT @realDonaldTrump: If Iran wants to fight, that will be the official end of Iran. Never threaten the United States again!</th>\n",
       "      <td>0.02199</td>\n",
       "      <td>0.12029</td>\n",
       "      <td>0.20077</td>\n",
       "    </tr>\n",
       "    <tr>\n",
       "      <th>RT @justinamash: Here are my principal conclusions:\\n1. Attorney General Barr has deliberately misrepresented Mueller’s report.\\n2. President…</th>\n",
       "      <td>0.68668</td>\n",
       "      <td>0.51770</td>\n",
       "      <td>-0.18554</td>\n",
       "    </tr>\n",
       "    <tr>\n",
       "      <th>@RepMarkMeadows @DonaldJTrumpJr And then the cuff's should be available for Mr. Comey for his role in Spygate, Plutonium 1 and more!!!</th>\n",
       "      <td>0.00000</td>\n",
       "      <td>0.00000</td>\n",
       "      <td>-0.00000</td>\n",
       "    </tr>\n",
       "    <tr>\n",
       "      <th>@realDonaldTrump NOBODY BUT ME THOUGHT THAT!!!!! https://t.co/QHiSs5xpv0</th>\n",
       "      <td>0.00000</td>\n",
       "      <td>0.00000</td>\n",
       "      <td>-0.00000</td>\n",
       "    </tr>\n",
       "    <tr>\n",
       "      <th>@SenWarren @SecretaryCarson @RepKatiePorter He does seem to be very fragile and unattentive I must say. Kind of lik… https://t.co/wJ740nLgVA</th>\n",
       "      <td>0.00000</td>\n",
       "      <td>0.00000</td>\n",
       "      <td>-0.00000</td>\n",
       "    </tr>\n",
       "    <tr>\n",
       "      <th>RT @realDonaldTrump: Hard to believe that @FoxNews is wasting airtime on Mayor Pete, as Chris Wallace likes to call him. Fox is moving more…</th>\n",
       "      <td>0.00273</td>\n",
       "      <td>0.01802</td>\n",
       "      <td>0.01690</td>\n",
       "    </tr>\n",
       "    <tr>\n",
       "      <th>RT @justinamash: Few members of Congress even read Mueller’s report; their minds were made up based on partisan affiliation—and it showed,…</th>\n",
       "      <td>0.65184</td>\n",
       "      <td>0.13193</td>\n",
       "      <td>-0.05690</td>\n",
       "    </tr>\n",
       "    <tr>\n",
       "      <th>RT @realDonaldTrump: Starting Monday, our great Farmers can begin doing business again with Mexico and Canada. They have both taken the tar…</th>\n",
       "      <td>0.02329</td>\n",
       "      <td>0.12412</td>\n",
       "      <td>0.85075</td>\n",
       "    </tr>\n",
       "    <tr>\n",
       "      <th>RT @realDonaldTrump: The Mainstream Media hates to cover this! https://t.co/EMhAVWCjVf</th>\n",
       "      <td>0.00000</td>\n",
       "      <td>0.00000</td>\n",
       "      <td>-0.00000</td>\n",
       "    </tr>\n",
       "    <tr>\n",
       "      <th>RT @RepMattGaetz: I believe we are just days away from receiving the most compelling evidence in the biggest political scandal ever seen in…</th>\n",
       "      <td>0.00000</td>\n",
       "      <td>0.00000</td>\n",
       "      <td>-0.00000</td>\n",
       "    </tr>\n",
       "    <tr>\n",
       "      <th>RT @realDonaldTrump: Consumer Sentiment in the month of May is the highest in 15 years. Very nice! @FoxNews</th>\n",
       "      <td>0.00273</td>\n",
       "      <td>0.01802</td>\n",
       "      <td>0.01690</td>\n",
       "    </tr>\n",
       "    <tr>\n",
       "      <th>RT @realDonaldTrump: ..BETWEEN RUSSIA AND THE TRUMP CAMPAIGN. Mr. McGahn can be forgiven for declining the honor of appearing in Mr. Nadler…</th>\n",
       "      <td>0.00000</td>\n",
       "      <td>0.00000</td>\n",
       "      <td>-0.00000</td>\n",
       "    </tr>\n",
       "    <tr>\n",
       "      <th>@realDonaldTrump I have set before you life and death, blessings and curses. Now choose life, so that you and your… https://t.co/c3XlWs77Gc</th>\n",
       "      <td>0.00000</td>\n",
       "      <td>0.00000</td>\n",
       "      <td>-0.00000</td>\n",
       "    </tr>\n",
       "    <tr>\n",
       "      <th>RT @realDonaldTrump: The Dems are getting another beauty to join their group. Bill de Blasio of NYC, considered the worst mayor in the U.S.…</th>\n",
       "      <td>0.00000</td>\n",
       "      <td>0.00000</td>\n",
       "      <td>-0.00000</td>\n",
       "    </tr>\n",
       "    <tr>\n",
       "      <th>RT @justinamash: Here are my principal conclusions:\\n1. Attorney General Barr has deliberately misrepresented Mueller’s report.\\n2. President…</th>\n",
       "      <td>0.68668</td>\n",
       "      <td>0.51770</td>\n",
       "      <td>-0.18554</td>\n",
       "    </tr>\n",
       "    <tr>\n",
       "      <th>@realDonaldTrump @justinamash 45, your defensiveness is very telling. Everyone who opposes you or exposes you for t… https://t.co/6r8YgUcCTh</th>\n",
       "      <td>0.80536</td>\n",
       "      <td>-0.56951</td>\n",
       "      <td>0.09793</td>\n",
       "    </tr>\n",
       "    <tr>\n",
       "      <th>@realDonaldTrump THIS IS SCHIZOPHRENIC THIS IS SCHIZOPHRENIC THIS IS SCHIZOPHRENIC THIS IS SCHIZOPHRENIC THIS IS SC… https://t.co/g63oagrZZh</th>\n",
       "      <td>0.00000</td>\n",
       "      <td>0.00000</td>\n",
       "      <td>-0.00000</td>\n",
       "    </tr>\n",
       "    <tr>\n",
       "      <th>RT @realDonaldTrump: Word is out that book is GREAT! https://t.co/mTA1xcz9eQ</th>\n",
       "      <td>0.02329</td>\n",
       "      <td>0.12412</td>\n",
       "      <td>0.85075</td>\n",
       "    </tr>\n",
       "    <tr>\n",
       "      <th>RT @realDonaldTrump: If Iran wants to fight, that will be the official end of Iran. Never threaten the United States again!</th>\n",
       "      <td>0.02199</td>\n",
       "      <td>0.12029</td>\n",
       "      <td>0.20077</td>\n",
       "    </tr>\n",
       "    <tr>\n",
       "      <th>RT @realDonaldTrump: “He (Jerry Nadler) wants a show. He wants to use Mr. McGahn as a prop to spend three hours claiming that Mr. Trump tri…</th>\n",
       "      <td>0.00896</td>\n",
       "      <td>0.06682</td>\n",
       "      <td>0.07618</td>\n",
       "    </tr>\n",
       "    <tr>\n",
       "      <th>RT @realDonaldTrump: The Democrats are getting ZERO work done in Congress. All they are focused on is trying to prove the Mueller Report wr…</th>\n",
       "      <td>0.32165</td>\n",
       "      <td>0.45841</td>\n",
       "      <td>-0.04644</td>\n",
       "    </tr>\n",
       "    <tr>\n",
       "      <th>RT @realDonaldTrump: ...Mexico’s attitude is that people from other countries, including Mexico, should have the right to flow into the U.S…</th>\n",
       "      <td>0.02882</td>\n",
       "      <td>0.13401</td>\n",
       "      <td>0.23155</td>\n",
       "    </tr>\n",
       "    <tr>\n",
       "      <th>@realDonaldTrump https://t.co/jatNugHRxm</th>\n",
       "      <td>0.00000</td>\n",
       "      <td>0.00000</td>\n",
       "      <td>-0.00000</td>\n",
       "    </tr>\n",
       "  </tbody>\n",
       "</table>\n",
       "<p>15330 rows × 3 columns</p>\n",
       "</div>"
      ],
      "text/plain": [
       "                                                    component_1  component_2  \\\n",
       "@LindseyGrahamSC Don’t trust anything just anot...      0.00000     -0.00000   \n",
       "@realDonaldTrump Congress has passed several bi...      0.08379      0.07044   \n",
       "RT @realDonaldTrump: As I have long been saying...      0.02502     -0.00225   \n",
       "RT @SteveScalise: Nancy Pelosi is blocking crit...     -0.00000      0.00000   \n",
       "@RepAndyBiggsAZ @RepMattGaetz Time to resign as...      0.00000      0.00000   \n",
       "@realDonaldTrump No, Trump is the problem, The ...      0.03102      0.13355   \n",
       "@realDonaldTrump You can't keep your anger in c...      0.00000     -0.00000   \n",
       "RT @realDonaldTrump: If Iran wants to fight, th...      0.02199      0.12029   \n",
       "@justinamash stopped at that point. It just wou...      0.46319     -0.25935   \n",
       "@SenTedCruz Wtf                                        -0.00000      0.00000   \n",
       "RT @RepMarkMeadows: A question every American s...      0.02571      0.11211   \n",
       "@realDonaldTrump https://t.co/haustTATK9                0.00000     -0.00000   \n",
       "RT @justinamash: Barr’s misrepresentations are ...      0.66800     -0.17789   \n",
       "RT @RepAdamSchiff: Barr says Trump’s campaign w...      0.21170      0.22717   \n",
       "RT @realDonaldTrump: The Democrats are getting ...      0.32165      0.45841   \n",
       "RT @realDonaldTrump: ..BETWEEN RUSSIA AND THE T...      0.00000      0.00000   \n",
       "RT @RepDean: I take no pleasure in calling for ...      0.02571      0.11211   \n",
       "@realDonaldTrump Git R Done Mr. President!              0.23009      0.33164   \n",
       "@realDonaldTrump #derangedonald \\nEven Iran kno...      0.01102      0.08035   \n",
       "RT @SenWarren: .@SecretaryCarson can’t distingu...      0.00000      0.00000   \n",
       "RT @SenSchumer: Why has @SenateMajLdr Mitch McC...      0.00000      0.00000   \n",
       "@SpeakerPelosi then do something about it. demo...      0.04696      0.21855   \n",
       "RT @realDonaldTrump: Also, tremendous work is b...      0.00000      0.00000   \n",
       "RT @realDonaldTrump: MAKE AMERICA GREAT AGAIN!          0.02329      0.12412   \n",
       "RT @justinamash: Few members of Congress even r...      0.65184      0.13193   \n",
       "RT @GovRonDeSantis: President @realDonaldTrump ...      0.15724      0.25832   \n",
       "RT @justinamash: Few members of Congress even r...      0.65184      0.13193   \n",
       "RT @GovRonDeSantis: .@FEMA officially notifies ...      0.00000      0.00000   \n",
       "RT @realDonaldTrump: My Campaign for President ...      0.16417      0.29512   \n",
       "@SenSanders @sunrisemvmt Are you looking sells ...      0.00000      0.00000   \n",
       "...                                                         ...          ...   \n",
       "RT @realDonaldTrump: My Campaign for President ...      0.16417      0.29512   \n",
       "RT @dcexaminer: .@RepMarkMeadows: Declassificat...      0.00000      0.00000   \n",
       "RT @SenKamalaHarris: One of my Republican colle...      0.02502     -0.00225   \n",
       "@realDonaldTrump\\nhttps://t.co/3FwLmK5N9I\\nYoun...      0.00000      0.00000   \n",
       "@realDonaldTrump Something the President never ...      0.15703      0.22955   \n",
       "RT @justinamash: Here are my principal conclusi...      0.68668      0.51770   \n",
       "RT @senatemajldr: Today, tens of thousands of p...      0.01501      0.05900   \n",
       "RT @realDonaldTrump: If Iran wants to fight, th...      0.02199      0.12029   \n",
       "RT @justinamash: Here are my principal conclusi...      0.68668      0.51770   \n",
       "@RepMarkMeadows @DonaldJTrumpJr And then the cu...      0.00000      0.00000   \n",
       "@realDonaldTrump NOBODY BUT ME THOUGHT THAT!!!!...      0.00000      0.00000   \n",
       "@SenWarren @SecretaryCarson @RepKatiePorter He ...      0.00000      0.00000   \n",
       "RT @realDonaldTrump: Hard to believe that @FoxN...      0.00273      0.01802   \n",
       "RT @justinamash: Few members of Congress even r...      0.65184      0.13193   \n",
       "RT @realDonaldTrump: Starting Monday, our great...      0.02329      0.12412   \n",
       "RT @realDonaldTrump: The Mainstream Media hates...      0.00000      0.00000   \n",
       "RT @RepMattGaetz: I believe we are just days aw...      0.00000      0.00000   \n",
       "RT @realDonaldTrump: Consumer Sentiment in the ...      0.00273      0.01802   \n",
       "RT @realDonaldTrump: ..BETWEEN RUSSIA AND THE T...      0.00000      0.00000   \n",
       "@realDonaldTrump I have set before you life and...      0.00000      0.00000   \n",
       "RT @realDonaldTrump: The Dems are getting anoth...      0.00000      0.00000   \n",
       "RT @justinamash: Here are my principal conclusi...      0.68668      0.51770   \n",
       "@realDonaldTrump @justinamash 45, your defensiv...      0.80536     -0.56951   \n",
       "@realDonaldTrump THIS IS SCHIZOPHRENIC THIS IS ...      0.00000      0.00000   \n",
       "RT @realDonaldTrump: Word is out that book is G...      0.02329      0.12412   \n",
       "RT @realDonaldTrump: If Iran wants to fight, th...      0.02199      0.12029   \n",
       "RT @realDonaldTrump: “He (Jerry Nadler) wants a...      0.00896      0.06682   \n",
       "RT @realDonaldTrump: The Democrats are getting ...      0.32165      0.45841   \n",
       "RT @realDonaldTrump: ...Mexico’s attitude is th...      0.02882      0.13401   \n",
       "@realDonaldTrump https://t.co/jatNugHRxm                0.00000      0.00000   \n",
       "\n",
       "                                                    component_3  \n",
       "@LindseyGrahamSC Don’t trust anything just anot...      0.00000  \n",
       "@realDonaldTrump Congress has passed several bi...      0.03466  \n",
       "RT @realDonaldTrump: As I have long been saying...      0.20174  \n",
       "RT @SteveScalise: Nancy Pelosi is blocking crit...      0.00000  \n",
       "@RepAndyBiggsAZ @RepMattGaetz Time to resign as...     -0.00000  \n",
       "@realDonaldTrump No, Trump is the problem, The ...      0.27125  \n",
       "@realDonaldTrump You can't keep your anger in c...      0.00000  \n",
       "RT @realDonaldTrump: If Iran wants to fight, th...      0.20077  \n",
       "@justinamash stopped at that point. It just wou...      0.18856  \n",
       "@SenTedCruz Wtf                                        -0.00000  \n",
       "RT @RepMarkMeadows: A question every American s...      0.06351  \n",
       "@realDonaldTrump https://t.co/haustTATK9               -0.00000  \n",
       "RT @justinamash: Barr’s misrepresentations are ...     -0.01050  \n",
       "RT @RepAdamSchiff: Barr says Trump’s campaign w...     -0.09165  \n",
       "RT @realDonaldTrump: The Democrats are getting ...     -0.04644  \n",
       "RT @realDonaldTrump: ..BETWEEN RUSSIA AND THE T...     -0.00000  \n",
       "RT @RepDean: I take no pleasure in calling for ...      0.06351  \n",
       "@realDonaldTrump Git R Done Mr. President!             -0.00017  \n",
       "@realDonaldTrump #derangedonald \\nEven Iran kno...      0.11435  \n",
       "RT @SenWarren: .@SecretaryCarson can’t distingu...     -0.00000  \n",
       "RT @SenSchumer: Why has @SenateMajLdr Mitch McC...     -0.00000  \n",
       "@SpeakerPelosi then do something about it. demo...      0.08386  \n",
       "RT @realDonaldTrump: Also, tremendous work is b...     -0.00000  \n",
       "RT @realDonaldTrump: MAKE AMERICA GREAT AGAIN!          0.85075  \n",
       "RT @justinamash: Few members of Congress even r...     -0.05690  \n",
       "RT @GovRonDeSantis: President @realDonaldTrump ...      0.12687  \n",
       "RT @justinamash: Few members of Congress even r...     -0.05690  \n",
       "RT @GovRonDeSantis: .@FEMA officially notifies ...     -0.00000  \n",
       "RT @realDonaldTrump: My Campaign for President ...      0.04940  \n",
       "@SenSanders @sunrisemvmt Are you looking sells ...     -0.00000  \n",
       "...                                                         ...  \n",
       "RT @realDonaldTrump: My Campaign for President ...      0.04940  \n",
       "RT @dcexaminer: .@RepMarkMeadows: Declassificat...     -0.00000  \n",
       "RT @SenKamalaHarris: One of my Republican colle...      0.20174  \n",
       "@realDonaldTrump\\nhttps://t.co/3FwLmK5N9I\\nYoun...     -0.00000  \n",
       "@realDonaldTrump Something the President never ...      0.08857  \n",
       "RT @justinamash: Here are my principal conclusi...     -0.18554  \n",
       "RT @senatemajldr: Today, tens of thousands of p...      0.09388  \n",
       "RT @realDonaldTrump: If Iran wants to fight, th...      0.20077  \n",
       "RT @justinamash: Here are my principal conclusi...     -0.18554  \n",
       "@RepMarkMeadows @DonaldJTrumpJr And then the cu...     -0.00000  \n",
       "@realDonaldTrump NOBODY BUT ME THOUGHT THAT!!!!...     -0.00000  \n",
       "@SenWarren @SecretaryCarson @RepKatiePorter He ...     -0.00000  \n",
       "RT @realDonaldTrump: Hard to believe that @FoxN...      0.01690  \n",
       "RT @justinamash: Few members of Congress even r...     -0.05690  \n",
       "RT @realDonaldTrump: Starting Monday, our great...      0.85075  \n",
       "RT @realDonaldTrump: The Mainstream Media hates...     -0.00000  \n",
       "RT @RepMattGaetz: I believe we are just days aw...     -0.00000  \n",
       "RT @realDonaldTrump: Consumer Sentiment in the ...      0.01690  \n",
       "RT @realDonaldTrump: ..BETWEEN RUSSIA AND THE T...     -0.00000  \n",
       "@realDonaldTrump I have set before you life and...     -0.00000  \n",
       "RT @realDonaldTrump: The Dems are getting anoth...     -0.00000  \n",
       "RT @justinamash: Here are my principal conclusi...     -0.18554  \n",
       "@realDonaldTrump @justinamash 45, your defensiv...      0.09793  \n",
       "@realDonaldTrump THIS IS SCHIZOPHRENIC THIS IS ...     -0.00000  \n",
       "RT @realDonaldTrump: Word is out that book is G...      0.85075  \n",
       "RT @realDonaldTrump: If Iran wants to fight, th...      0.20077  \n",
       "RT @realDonaldTrump: “He (Jerry Nadler) wants a...      0.07618  \n",
       "RT @realDonaldTrump: The Democrats are getting ...     -0.04644  \n",
       "RT @realDonaldTrump: ...Mexico’s attitude is th...      0.23155  \n",
       "@realDonaldTrump https://t.co/jatNugHRxm               -0.00000  \n",
       "\n",
       "[15330 rows x 3 columns]"
      ]
     },
     "execution_count": 217,
     "metadata": {},
     "output_type": "execute_result"
    }
   ],
   "source": [
    "Vt = pd.DataFrame(doc_topic.round(4),\n",
    "             index = text_data,\n",
    "             columns = [\"component_1\",\"component_2\",\"component_3\"])\n",
    "Vt"
   ]
  },
  {
   "cell_type": "markdown",
   "metadata": {},
   "source": [
    "#### LSA Count vectorizer gives much more distinct topics and explains a higher percentage of variance than LSA TFIDF "
   ]
  },
  {
   "cell_type": "markdown",
   "metadata": {},
   "source": [
    "#### NMF Count Vectorizer"
   ]
  },
  {
   "cell_type": "code",
   "execution_count": 219,
   "metadata": {},
   "outputs": [],
   "source": [
    "nmf_nlp = nlp_preprocessor(vectorizer=CountVectorizer(stop_words=stopwords, min_df = .03, max_df = .8),\n",
    "                       tokenizer=TreebankWordTokenizer().tokenize, lemmatizer=WordNetLemmatizer())"
   ]
  },
  {
   "cell_type": "code",
   "execution_count": 220,
   "metadata": {},
   "outputs": [
    {
     "data": {
      "text/plain": [
       "(15330, 27)"
      ]
     },
     "execution_count": 220,
     "metadata": {},
     "output_type": "execute_result"
    }
   ],
   "source": [
    "nmf_nlp.fit(text_data)\n",
    "nmf_words = nmf_nlp.transform(text_data)\n",
    "nmf_words.shape"
   ]
  },
  {
   "cell_type": "code",
   "execution_count": 221,
   "metadata": {},
   "outputs": [
    {
     "data": {
      "text/html": [
       "<div>\n",
       "<style scoped>\n",
       "    .dataframe tbody tr th:only-of-type {\n",
       "        vertical-align: middle;\n",
       "    }\n",
       "\n",
       "    .dataframe tbody tr th {\n",
       "        vertical-align: top;\n",
       "    }\n",
       "\n",
       "    .dataframe thead th {\n",
       "        text-align: right;\n",
       "    }\n",
       "</style>\n",
       "<table border=\"1\" class=\"dataframe\">\n",
       "  <thead>\n",
       "    <tr style=\"text-align: right;\">\n",
       "      <th></th>\n",
       "      <th>american</th>\n",
       "      <th>amp</th>\n",
       "      <th>attorney</th>\n",
       "      <th>barr</th>\n",
       "      <th>conclusion</th>\n",
       "      <th>congress</th>\n",
       "      <th>country</th>\n",
       "      <th>deliberately</th>\n",
       "      <th>democrat</th>\n",
       "      <th>foxnews</th>\n",
       "      <th>...</th>\n",
       "      <th>people</th>\n",
       "      <th>president</th>\n",
       "      <th>principal</th>\n",
       "      <th>report</th>\n",
       "      <th>republican</th>\n",
       "      <th>state</th>\n",
       "      <th>today</th>\n",
       "      <th>united</th>\n",
       "      <th>want</th>\n",
       "      <th>would</th>\n",
       "    </tr>\n",
       "  </thead>\n",
       "  <tbody>\n",
       "    <tr>\n",
       "      <th>RT @realDonaldTrump: Everything the Democrats are asking me for is based on an illegally started investigation that failed for them, especi…</th>\n",
       "      <td>0</td>\n",
       "      <td>0</td>\n",
       "      <td>0</td>\n",
       "      <td>0</td>\n",
       "      <td>0</td>\n",
       "      <td>0</td>\n",
       "      <td>0</td>\n",
       "      <td>0</td>\n",
       "      <td>1</td>\n",
       "      <td>0</td>\n",
       "      <td>...</td>\n",
       "      <td>0</td>\n",
       "      <td>0</td>\n",
       "      <td>0</td>\n",
       "      <td>0</td>\n",
       "      <td>0</td>\n",
       "      <td>0</td>\n",
       "      <td>0</td>\n",
       "      <td>0</td>\n",
       "      <td>0</td>\n",
       "      <td>0</td>\n",
       "    </tr>\n",
       "    <tr>\n",
       "      <th>@PatrickMcHenry https://t.co/M4ReR4ss2k</th>\n",
       "      <td>0</td>\n",
       "      <td>0</td>\n",
       "      <td>0</td>\n",
       "      <td>0</td>\n",
       "      <td>0</td>\n",
       "      <td>0</td>\n",
       "      <td>0</td>\n",
       "      <td>0</td>\n",
       "      <td>0</td>\n",
       "      <td>0</td>\n",
       "      <td>...</td>\n",
       "      <td>0</td>\n",
       "      <td>0</td>\n",
       "      <td>0</td>\n",
       "      <td>0</td>\n",
       "      <td>0</td>\n",
       "      <td>0</td>\n",
       "      <td>0</td>\n",
       "      <td>0</td>\n",
       "      <td>0</td>\n",
       "      <td>0</td>\n",
       "    </tr>\n",
       "    <tr>\n",
       "      <th>@TheJusticeDept https://t.co/wSnroiwwNV</th>\n",
       "      <td>0</td>\n",
       "      <td>0</td>\n",
       "      <td>0</td>\n",
       "      <td>0</td>\n",
       "      <td>0</td>\n",
       "      <td>0</td>\n",
       "      <td>0</td>\n",
       "      <td>0</td>\n",
       "      <td>0</td>\n",
       "      <td>0</td>\n",
       "      <td>...</td>\n",
       "      <td>0</td>\n",
       "      <td>0</td>\n",
       "      <td>0</td>\n",
       "      <td>0</td>\n",
       "      <td>0</td>\n",
       "      <td>0</td>\n",
       "      <td>0</td>\n",
       "      <td>0</td>\n",
       "      <td>0</td>\n",
       "      <td>0</td>\n",
       "    </tr>\n",
       "    <tr>\n",
       "      <th>RT @realDonaldTrump: Today, it was my great honor to address the the National Association of REALTORS! https://t.co/LQNExa57ne</th>\n",
       "      <td>0</td>\n",
       "      <td>0</td>\n",
       "      <td>0</td>\n",
       "      <td>0</td>\n",
       "      <td>0</td>\n",
       "      <td>0</td>\n",
       "      <td>0</td>\n",
       "      <td>0</td>\n",
       "      <td>0</td>\n",
       "      <td>0</td>\n",
       "      <td>...</td>\n",
       "      <td>0</td>\n",
       "      <td>0</td>\n",
       "      <td>0</td>\n",
       "      <td>0</td>\n",
       "      <td>0</td>\n",
       "      <td>0</td>\n",
       "      <td>1</td>\n",
       "      <td>0</td>\n",
       "      <td>0</td>\n",
       "      <td>0</td>\n",
       "    </tr>\n",
       "    <tr>\n",
       "      <th>RT @RepSpeier: Today, I shared my story of my 2nd trimester abortion, a painful procedure that became necessary after the fetus I was carry…</th>\n",
       "      <td>0</td>\n",
       "      <td>0</td>\n",
       "      <td>0</td>\n",
       "      <td>0</td>\n",
       "      <td>0</td>\n",
       "      <td>0</td>\n",
       "      <td>0</td>\n",
       "      <td>0</td>\n",
       "      <td>0</td>\n",
       "      <td>0</td>\n",
       "      <td>...</td>\n",
       "      <td>0</td>\n",
       "      <td>0</td>\n",
       "      <td>0</td>\n",
       "      <td>0</td>\n",
       "      <td>0</td>\n",
       "      <td>0</td>\n",
       "      <td>1</td>\n",
       "      <td>0</td>\n",
       "      <td>0</td>\n",
       "      <td>0</td>\n",
       "    </tr>\n",
       "  </tbody>\n",
       "</table>\n",
       "<p>5 rows × 27 columns</p>\n",
       "</div>"
      ],
      "text/plain": [
       "                                                    american  amp  attorney  \\\n",
       "RT @realDonaldTrump: Everything the Democrats a...         0    0         0   \n",
       "@PatrickMcHenry https://t.co/M4ReR4ss2k                    0    0         0   \n",
       "@TheJusticeDept https://t.co/wSnroiwwNV                    0    0         0   \n",
       "RT @realDonaldTrump: Today, it was my great hon...         0    0         0   \n",
       "RT @RepSpeier: Today, I shared my story of my 2...         0    0         0   \n",
       "\n",
       "                                                    barr  conclusion  \\\n",
       "RT @realDonaldTrump: Everything the Democrats a...     0           0   \n",
       "@PatrickMcHenry https://t.co/M4ReR4ss2k                0           0   \n",
       "@TheJusticeDept https://t.co/wSnroiwwNV                0           0   \n",
       "RT @realDonaldTrump: Today, it was my great hon...     0           0   \n",
       "RT @RepSpeier: Today, I shared my story of my 2...     0           0   \n",
       "\n",
       "                                                    congress  country  \\\n",
       "RT @realDonaldTrump: Everything the Democrats a...         0        0   \n",
       "@PatrickMcHenry https://t.co/M4ReR4ss2k                    0        0   \n",
       "@TheJusticeDept https://t.co/wSnroiwwNV                    0        0   \n",
       "RT @realDonaldTrump: Today, it was my great hon...         0        0   \n",
       "RT @RepSpeier: Today, I shared my story of my 2...         0        0   \n",
       "\n",
       "                                                    deliberately  democrat  \\\n",
       "RT @realDonaldTrump: Everything the Democrats a...             0         1   \n",
       "@PatrickMcHenry https://t.co/M4ReR4ss2k                        0         0   \n",
       "@TheJusticeDept https://t.co/wSnroiwwNV                        0         0   \n",
       "RT @realDonaldTrump: Today, it was my great hon...             0         0   \n",
       "RT @RepSpeier: Today, I shared my story of my 2...             0         0   \n",
       "\n",
       "                                                    foxnews  ...  people  \\\n",
       "RT @realDonaldTrump: Everything the Democrats a...        0  ...       0   \n",
       "@PatrickMcHenry https://t.co/M4ReR4ss2k                   0  ...       0   \n",
       "@TheJusticeDept https://t.co/wSnroiwwNV                   0  ...       0   \n",
       "RT @realDonaldTrump: Today, it was my great hon...        0  ...       0   \n",
       "RT @RepSpeier: Today, I shared my story of my 2...        0  ...       0   \n",
       "\n",
       "                                                    president  principal  \\\n",
       "RT @realDonaldTrump: Everything the Democrats a...          0          0   \n",
       "@PatrickMcHenry https://t.co/M4ReR4ss2k                     0          0   \n",
       "@TheJusticeDept https://t.co/wSnroiwwNV                     0          0   \n",
       "RT @realDonaldTrump: Today, it was my great hon...          0          0   \n",
       "RT @RepSpeier: Today, I shared my story of my 2...          0          0   \n",
       "\n",
       "                                                    report  republican  state  \\\n",
       "RT @realDonaldTrump: Everything the Democrats a...       0           0      0   \n",
       "@PatrickMcHenry https://t.co/M4ReR4ss2k                  0           0      0   \n",
       "@TheJusticeDept https://t.co/wSnroiwwNV                  0           0      0   \n",
       "RT @realDonaldTrump: Today, it was my great hon...       0           0      0   \n",
       "RT @RepSpeier: Today, I shared my story of my 2...       0           0      0   \n",
       "\n",
       "                                                    today  united  want  would  \n",
       "RT @realDonaldTrump: Everything the Democrats a...      0       0     0      0  \n",
       "@PatrickMcHenry https://t.co/M4ReR4ss2k                 0       0     0      0  \n",
       "@TheJusticeDept https://t.co/wSnroiwwNV                 0       0     0      0  \n",
       "RT @realDonaldTrump: Today, it was my great hon...      1       0     0      0  \n",
       "RT @RepSpeier: Today, I shared my story of my 2...      1       0     0      0  \n",
       "\n",
       "[5 rows x 27 columns]"
      ]
     },
     "execution_count": 221,
     "metadata": {},
     "output_type": "execute_result"
    }
   ],
   "source": [
    "pd.DataFrame(nmf_words.toarray(), index=text_data, columns=nmf_nlp.vectorizer.get_feature_names()).sample(5)"
   ]
  },
  {
   "cell_type": "code",
   "execution_count": 222,
   "metadata": {},
   "outputs": [],
   "source": [
    "nmf_model = NMF(2)\n",
    "nmf_topic = nmf_model.fit_transform(nmf_words)"
   ]
  },
  {
   "cell_type": "code",
   "execution_count": 223,
   "metadata": {},
   "outputs": [
    {
     "data": {
      "text/html": [
       "<div>\n",
       "<style scoped>\n",
       "    .dataframe tbody tr th:only-of-type {\n",
       "        vertical-align: middle;\n",
       "    }\n",
       "\n",
       "    .dataframe tbody tr th {\n",
       "        vertical-align: top;\n",
       "    }\n",
       "\n",
       "    .dataframe thead th {\n",
       "        text-align: right;\n",
       "    }\n",
       "</style>\n",
       "<table border=\"1\" class=\"dataframe\">\n",
       "  <thead>\n",
       "    <tr style=\"text-align: right;\">\n",
       "      <th></th>\n",
       "      <th>american</th>\n",
       "      <th>amp</th>\n",
       "      <th>attorney</th>\n",
       "      <th>barr</th>\n",
       "      <th>conclusion</th>\n",
       "      <th>congress</th>\n",
       "      <th>country</th>\n",
       "      <th>deliberately</th>\n",
       "      <th>democrat</th>\n",
       "      <th>foxnews</th>\n",
       "      <th>...</th>\n",
       "      <th>people</th>\n",
       "      <th>president</th>\n",
       "      <th>principal</th>\n",
       "      <th>report</th>\n",
       "      <th>republican</th>\n",
       "      <th>state</th>\n",
       "      <th>today</th>\n",
       "      <th>united</th>\n",
       "      <th>want</th>\n",
       "      <th>would</th>\n",
       "    </tr>\n",
       "  </thead>\n",
       "  <tbody>\n",
       "    <tr>\n",
       "      <th>component_1</th>\n",
       "      <td>0.071</td>\n",
       "      <td>0.025</td>\n",
       "      <td>2.329</td>\n",
       "      <td>3.0</td>\n",
       "      <td>2.598</td>\n",
       "      <td>0.308</td>\n",
       "      <td>0.037</td>\n",
       "      <td>2.218</td>\n",
       "      <td>0.163</td>\n",
       "      <td>0.007</td>\n",
       "      <td>...</td>\n",
       "      <td>0.035</td>\n",
       "      <td>2.756</td>\n",
       "      <td>2.425</td>\n",
       "      <td>3.422</td>\n",
       "      <td>0.053</td>\n",
       "      <td>0.011</td>\n",
       "      <td>0.104</td>\n",
       "      <td>0.000</td>\n",
       "      <td>0.000</td>\n",
       "      <td>0.052</td>\n",
       "    </tr>\n",
       "    <tr>\n",
       "      <th>component_2</th>\n",
       "      <td>0.211</td>\n",
       "      <td>0.153</td>\n",
       "      <td>0.000</td>\n",
       "      <td>0.0</td>\n",
       "      <td>0.000</td>\n",
       "      <td>0.098</td>\n",
       "      <td>0.515</td>\n",
       "      <td>0.000</td>\n",
       "      <td>0.275</td>\n",
       "      <td>0.021</td>\n",
       "      <td>...</td>\n",
       "      <td>0.346</td>\n",
       "      <td>0.153</td>\n",
       "      <td>0.000</td>\n",
       "      <td>0.000</td>\n",
       "      <td>0.138</td>\n",
       "      <td>2.553</td>\n",
       "      <td>0.030</td>\n",
       "      <td>2.427</td>\n",
       "      <td>2.948</td>\n",
       "      <td>0.056</td>\n",
       "    </tr>\n",
       "  </tbody>\n",
       "</table>\n",
       "<p>2 rows × 27 columns</p>\n",
       "</div>"
      ],
      "text/plain": [
       "             american    amp  attorney  barr  conclusion  congress  country  \\\n",
       "component_1     0.071  0.025     2.329   3.0       2.598     0.308    0.037   \n",
       "component_2     0.211  0.153     0.000   0.0       0.000     0.098    0.515   \n",
       "\n",
       "             deliberately  democrat  foxnews  ...  people  president  \\\n",
       "component_1         2.218     0.163    0.007  ...   0.035      2.756   \n",
       "component_2         0.000     0.275    0.021  ...   0.346      0.153   \n",
       "\n",
       "             principal  report  republican  state  today  united   want  would  \n",
       "component_1      2.425   3.422       0.053  0.011  0.104   0.000  0.000  0.052  \n",
       "component_2      0.000   0.000       0.138  2.553  0.030   2.427  2.948  0.056  \n",
       "\n",
       "[2 rows x 27 columns]"
      ]
     },
     "execution_count": 223,
     "metadata": {},
     "output_type": "execute_result"
    }
   ],
   "source": [
    "nmf_topic_word = pd.DataFrame(nmf_model.components_.round(3),\n",
    "             index = [\"component_1\",\"component_2\"],\n",
    "             columns = nmf_nlp.vectorizer.get_feature_names())\n",
    "nmf_topic_word"
   ]
  },
  {
   "cell_type": "code",
   "execution_count": 224,
   "metadata": {},
   "outputs": [
    {
     "name": "stdout",
     "output_type": "stream",
     "text": [
      "\n",
      "Topic  0\n",
      "justinamash, mueller, report, barr\n",
      "\n",
      "Topic  1\n",
      "iran, want, state, united\n"
     ]
    }
   ],
   "source": [
    "display_topics(nmf_model, nmf_nlp.vectorizer.get_feature_names(), 4)"
   ]
  },
  {
   "cell_type": "code",
   "execution_count": 225,
   "metadata": {
    "scrolled": true
   },
   "outputs": [
    {
     "data": {
      "text/html": [
       "<div>\n",
       "<style scoped>\n",
       "    .dataframe tbody tr th:only-of-type {\n",
       "        vertical-align: middle;\n",
       "    }\n",
       "\n",
       "    .dataframe tbody tr th {\n",
       "        vertical-align: top;\n",
       "    }\n",
       "\n",
       "    .dataframe thead th {\n",
       "        text-align: right;\n",
       "    }\n",
       "</style>\n",
       "<table border=\"1\" class=\"dataframe\">\n",
       "  <thead>\n",
       "    <tr style=\"text-align: right;\">\n",
       "      <th></th>\n",
       "      <th>component_1</th>\n",
       "      <th>component_2</th>\n",
       "    </tr>\n",
       "  </thead>\n",
       "  <tbody>\n",
       "    <tr>\n",
       "      <th>@LindseyGrahamSC Don’t trust anything just another lie that got us into war</th>\n",
       "      <td>0.00000</td>\n",
       "      <td>0.00000</td>\n",
       "    </tr>\n",
       "    <tr>\n",
       "      <th>@realDonaldTrump Congress has passed several bills that now sit with the Senate.   However Mitch McConnel refuses t… https://t.co/ZiHWPibzta</th>\n",
       "      <td>0.00347</td>\n",
       "      <td>0.00180</td>\n",
       "    </tr>\n",
       "    <tr>\n",
       "      <th>RT @realDonaldTrump: As I have long been saying, and has now been proven out, this is a Witch Hunt against the Republican Party and myself,…</th>\n",
       "      <td>0.00058</td>\n",
       "      <td>0.00259</td>\n",
       "    </tr>\n",
       "    <tr>\n",
       "      <th>RT @SteveScalise: Nancy Pelosi is blocking critical legislation to combat the dangerous BDS movement from receiving a vote in the House. To…</th>\n",
       "      <td>0.00000</td>\n",
       "      <td>0.00000</td>\n",
       "    </tr>\n",
       "    <tr>\n",
       "      <th>@RepAndyBiggsAZ @RepMattGaetz Time to resign asshole! \\nhttps://t.co/ssasdalWDe</th>\n",
       "      <td>0.00000</td>\n",
       "      <td>0.00000</td>\n",
       "    </tr>\n",
       "    <tr>\n",
       "      <th>@realDonaldTrump No, Trump is the problem, The majority of the country who didn't vote for him knew he would be a p… https://t.co/5uRaKga1Xg</th>\n",
       "      <td>0.00091</td>\n",
       "      <td>0.01072</td>\n",
       "    </tr>\n",
       "    <tr>\n",
       "      <th>@realDonaldTrump You can't keep your anger in check when Nancy said you were engaged in a cover-up and you storm of… https://t.co/UT8osLCgcN</th>\n",
       "      <td>0.00000</td>\n",
       "      <td>0.00000</td>\n",
       "    </tr>\n",
       "    <tr>\n",
       "      <th>RT @realDonaldTrump: If Iran wants to fight, that will be the official end of Iran. Never threaten the United States again!</th>\n",
       "      <td>0.00000</td>\n",
       "      <td>0.38493</td>\n",
       "    </tr>\n",
       "    <tr>\n",
       "      <th>@justinamash stopped at that point. It just would have been in someone else’s hands. Which, as we see now, it shoul… https://t.co/kO5FMBc9Zp</th>\n",
       "      <td>0.04352</td>\n",
       "      <td>0.00106</td>\n",
       "    </tr>\n",
       "    <tr>\n",
       "      <th>@SenTedCruz Wtf</th>\n",
       "      <td>0.00000</td>\n",
       "      <td>0.00000</td>\n",
       "    </tr>\n",
       "    <tr>\n",
       "      <th>RT @RepMarkMeadows: A question every American should ask: what on earth was the point of a taxpayer funded special counsel if we’re going t…</th>\n",
       "      <td>0.00077</td>\n",
       "      <td>0.00397</td>\n",
       "    </tr>\n",
       "    <tr>\n",
       "      <th>@realDonaldTrump https://t.co/haustTATK9</th>\n",
       "      <td>0.00000</td>\n",
       "      <td>0.00000</td>\n",
       "    </tr>\n",
       "    <tr>\n",
       "      <th>RT @justinamash: Barr’s misrepresentations are significant but often subtle, frequently taking the form of sleight-of-hand qualifications o…</th>\n",
       "      <td>0.07689</td>\n",
       "      <td>0.00000</td>\n",
       "    </tr>\n",
       "    <tr>\n",
       "      <th>RT @RepAdamSchiff: Barr says Trump’s campaign was “spied” upon. Trump claims treason. Both are incendiary. Neither is true.\\n \\nBarr suggests…</th>\n",
       "      <td>0.06790</td>\n",
       "      <td>0.00000</td>\n",
       "    </tr>\n",
       "    <tr>\n",
       "      <th>RT @realDonaldTrump: The Democrats are getting ZERO work done in Congress. All they are focused on is trying to prove the Mueller Report wr…</th>\n",
       "      <td>0.08337</td>\n",
       "      <td>0.00583</td>\n",
       "    </tr>\n",
       "    <tr>\n",
       "      <th>RT @realDonaldTrump: ..BETWEEN RUSSIA AND THE TRUMP CAMPAIGN. Mr. McGahn can be forgiven for declining the honor of appearing in Mr. Nadler…</th>\n",
       "      <td>0.00000</td>\n",
       "      <td>0.00000</td>\n",
       "    </tr>\n",
       "    <tr>\n",
       "      <th>RT @RepDean: I take no pleasure in calling for this historic action, and yet I do so with an American sense of optimism — that our governme…</th>\n",
       "      <td>0.00077</td>\n",
       "      <td>0.00397</td>\n",
       "    </tr>\n",
       "    <tr>\n",
       "      <th>@realDonaldTrump Git R Done Mr. President!</th>\n",
       "      <td>0.03117</td>\n",
       "      <td>0.00243</td>\n",
       "    </tr>\n",
       "    <tr>\n",
       "      <th>@realDonaldTrump #derangedonald \\nEven Iran knows you are not America’s legitimate leader\\nNo world leader does!\\nTo t… https://t.co/lxZ6x1dGyr</th>\n",
       "      <td>0.00000</td>\n",
       "      <td>0.09520</td>\n",
       "    </tr>\n",
       "    <tr>\n",
       "      <th>RT @SenWarren: .@SecretaryCarson can’t distinguish between a cookie and a home that’s been foreclosed on. Luckily, @RepKatiePorter was able…</th>\n",
       "      <td>0.00000</td>\n",
       "      <td>0.00000</td>\n",
       "    </tr>\n",
       "    <tr>\n",
       "      <th>RT @SenSchumer: Why has @SenateMajLdr Mitch McConnell buried election security legislation in his legislative graveyard?\\n\\nRussia is gearing…</th>\n",
       "      <td>0.00000</td>\n",
       "      <td>0.00000</td>\n",
       "    </tr>\n",
       "    <tr>\n",
       "      <th>@SpeakerPelosi then do something about it. democrats have a SPINELESS leader in you.</th>\n",
       "      <td>0.00180</td>\n",
       "      <td>0.00515</td>\n",
       "    </tr>\n",
       "    <tr>\n",
       "      <th>RT @realDonaldTrump: Also, tremendous work is being done on pure renovation - fixing existing Walls that are in bad condition and ineffecti…</th>\n",
       "      <td>0.00000</td>\n",
       "      <td>0.00000</td>\n",
       "    </tr>\n",
       "    <tr>\n",
       "      <th>RT @realDonaldTrump: MAKE AMERICA GREAT AGAIN!</th>\n",
       "      <td>0.00043</td>\n",
       "      <td>0.00384</td>\n",
       "    </tr>\n",
       "    <tr>\n",
       "      <th>RT @justinamash: Few members of Congress even read Mueller’s report; their minds were made up based on partisan affiliation—and it showed,…</th>\n",
       "      <td>0.12451</td>\n",
       "      <td>0.00071</td>\n",
       "    </tr>\n",
       "    <tr>\n",
       "      <th>RT @GovRonDeSantis: President @realDonaldTrump and I spoke yesterday and confirmed that he did not approve, nor would approve, sending immi…</th>\n",
       "      <td>0.03174</td>\n",
       "      <td>0.00347</td>\n",
       "    </tr>\n",
       "    <tr>\n",
       "      <th>RT @justinamash: Few members of Congress even read Mueller’s report; their minds were made up based on partisan affiliation—and it showed,…</th>\n",
       "      <td>0.12451</td>\n",
       "      <td>0.00071</td>\n",
       "    </tr>\n",
       "    <tr>\n",
       "      <th>RT @GovRonDeSantis: .@FEMA officially notifies me of @realdonaldtrump approval of 90-10 federal cost share for hurricane disaster funds for…</th>\n",
       "      <td>0.00000</td>\n",
       "      <td>0.00000</td>\n",
       "    </tr>\n",
       "    <tr>\n",
       "      <th>RT @realDonaldTrump: My Campaign for President was conclusively spied on. Nothing like this has ever happened in American Politics. A reall…</th>\n",
       "      <td>0.03194</td>\n",
       "      <td>0.00640</td>\n",
       "    </tr>\n",
       "    <tr>\n",
       "      <th>@SenSanders @sunrisemvmt Are you looking sells leads for development your business . I will provide you sells leads… https://t.co/DzAjWpOpY9</th>\n",
       "      <td>0.00000</td>\n",
       "      <td>0.00000</td>\n",
       "    </tr>\n",
       "    <tr>\n",
       "      <th>...</th>\n",
       "      <td>...</td>\n",
       "      <td>...</td>\n",
       "    </tr>\n",
       "    <tr>\n",
       "      <th>RT @realDonaldTrump: My Campaign for President was conclusively spied on. Nothing like this has ever happened in American Politics. A reall…</th>\n",
       "      <td>0.03194</td>\n",
       "      <td>0.00640</td>\n",
       "    </tr>\n",
       "    <tr>\n",
       "      <th>RT @dcexaminer: .@RepMarkMeadows: Declassification of Russia investigation docs is \"right around the corner.\" \\n\\nhttps://t.co/6CpqRdCD8V</th>\n",
       "      <td>0.00000</td>\n",
       "      <td>0.00000</td>\n",
       "    </tr>\n",
       "    <tr>\n",
       "      <th>RT @SenKamalaHarris: One of my Republican colleagues admitted this week that Leader McConnell is blocking all legislation aimed at securing…</th>\n",
       "      <td>0.00058</td>\n",
       "      <td>0.00259</td>\n",
       "    </tr>\n",
       "    <tr>\n",
       "      <th>@realDonaldTrump\\nhttps://t.co/3FwLmK5N9I\\nYoung girl singing, \"Don't judge a Book by its Cover\".</th>\n",
       "      <td>0.00000</td>\n",
       "      <td>0.00000</td>\n",
       "    </tr>\n",
       "    <tr>\n",
       "      <th>@realDonaldTrump Something the President never addresses tho' (the obscene disparity of wealth)👇This McDonalds CEO'… https://t.co/pBuW7tCIAd</th>\n",
       "      <td>0.03094</td>\n",
       "      <td>0.04783</td>\n",
       "    </tr>\n",
       "    <tr>\n",
       "      <th>RT @justinamash: Here are my principal conclusions:\\n1. Attorney General Barr has deliberately misrepresented Mueller’s report.\\n2. President…</th>\n",
       "      <td>0.34617</td>\n",
       "      <td>0.00000</td>\n",
       "    </tr>\n",
       "    <tr>\n",
       "      <th>RT @senatemajldr: Today, tens of thousands of peace officers gathered in our nation’s capital to honor the service and sacrifice of their f…</th>\n",
       "      <td>0.00117</td>\n",
       "      <td>0.00054</td>\n",
       "    </tr>\n",
       "    <tr>\n",
       "      <th>RT @realDonaldTrump: If Iran wants to fight, that will be the official end of Iran. Never threaten the United States again!</th>\n",
       "      <td>0.00000</td>\n",
       "      <td>0.38493</td>\n",
       "    </tr>\n",
       "    <tr>\n",
       "      <th>RT @justinamash: Here are my principal conclusions:\\n1. Attorney General Barr has deliberately misrepresented Mueller’s report.\\n2. President…</th>\n",
       "      <td>0.34617</td>\n",
       "      <td>0.00000</td>\n",
       "    </tr>\n",
       "    <tr>\n",
       "      <th>@RepMarkMeadows @DonaldJTrumpJr And then the cuff's should be available for Mr. Comey for his role in Spygate, Plutonium 1 and more!!!</th>\n",
       "      <td>0.00000</td>\n",
       "      <td>0.00000</td>\n",
       "    </tr>\n",
       "    <tr>\n",
       "      <th>@realDonaldTrump NOBODY BUT ME THOUGHT THAT!!!!! https://t.co/QHiSs5xpv0</th>\n",
       "      <td>0.00000</td>\n",
       "      <td>0.00000</td>\n",
       "    </tr>\n",
       "    <tr>\n",
       "      <th>@SenWarren @SecretaryCarson @RepKatiePorter He does seem to be very fragile and unattentive I must say. Kind of lik… https://t.co/wJ740nLgVA</th>\n",
       "      <td>0.00000</td>\n",
       "      <td>0.00000</td>\n",
       "    </tr>\n",
       "    <tr>\n",
       "      <th>RT @realDonaldTrump: Hard to believe that @FoxNews is wasting airtime on Mayor Pete, as Chris Wallace likes to call him. Fox is moving more…</th>\n",
       "      <td>0.00008</td>\n",
       "      <td>0.00040</td>\n",
       "    </tr>\n",
       "    <tr>\n",
       "      <th>RT @justinamash: Few members of Congress even read Mueller’s report; their minds were made up based on partisan affiliation—and it showed,…</th>\n",
       "      <td>0.12451</td>\n",
       "      <td>0.00071</td>\n",
       "    </tr>\n",
       "    <tr>\n",
       "      <th>RT @realDonaldTrump: Starting Monday, our great Farmers can begin doing business again with Mexico and Canada. They have both taken the tar…</th>\n",
       "      <td>0.00043</td>\n",
       "      <td>0.00384</td>\n",
       "    </tr>\n",
       "    <tr>\n",
       "      <th>RT @realDonaldTrump: The Mainstream Media hates to cover this! https://t.co/EMhAVWCjVf</th>\n",
       "      <td>0.00000</td>\n",
       "      <td>0.00000</td>\n",
       "    </tr>\n",
       "    <tr>\n",
       "      <th>RT @RepMattGaetz: I believe we are just days away from receiving the most compelling evidence in the biggest political scandal ever seen in…</th>\n",
       "      <td>0.00000</td>\n",
       "      <td>0.00000</td>\n",
       "    </tr>\n",
       "    <tr>\n",
       "      <th>RT @realDonaldTrump: Consumer Sentiment in the month of May is the highest in 15 years. Very nice! @FoxNews</th>\n",
       "      <td>0.00008</td>\n",
       "      <td>0.00040</td>\n",
       "    </tr>\n",
       "    <tr>\n",
       "      <th>RT @realDonaldTrump: ..BETWEEN RUSSIA AND THE TRUMP CAMPAIGN. Mr. McGahn can be forgiven for declining the honor of appearing in Mr. Nadler…</th>\n",
       "      <td>0.00000</td>\n",
       "      <td>0.00000</td>\n",
       "    </tr>\n",
       "    <tr>\n",
       "      <th>@realDonaldTrump I have set before you life and death, blessings and curses. Now choose life, so that you and your… https://t.co/c3XlWs77Gc</th>\n",
       "      <td>0.00000</td>\n",
       "      <td>0.00000</td>\n",
       "    </tr>\n",
       "    <tr>\n",
       "      <th>RT @realDonaldTrump: The Dems are getting another beauty to join their group. Bill de Blasio of NYC, considered the worst mayor in the U.S.…</th>\n",
       "      <td>0.00000</td>\n",
       "      <td>0.00000</td>\n",
       "    </tr>\n",
       "    <tr>\n",
       "      <th>RT @justinamash: Here are my principal conclusions:\\n1. Attorney General Barr has deliberately misrepresented Mueller’s report.\\n2. President…</th>\n",
       "      <td>0.34617</td>\n",
       "      <td>0.00000</td>\n",
       "    </tr>\n",
       "    <tr>\n",
       "      <th>@realDonaldTrump @justinamash 45, your defensiveness is very telling. Everyone who opposes you or exposes you for t… https://t.co/6r8YgUcCTh</th>\n",
       "      <td>0.04294</td>\n",
       "      <td>0.00002</td>\n",
       "    </tr>\n",
       "    <tr>\n",
       "      <th>@realDonaldTrump THIS IS SCHIZOPHRENIC THIS IS SCHIZOPHRENIC THIS IS SCHIZOPHRENIC THIS IS SCHIZOPHRENIC THIS IS SC… https://t.co/g63oagrZZh</th>\n",
       "      <td>0.00000</td>\n",
       "      <td>0.00000</td>\n",
       "    </tr>\n",
       "    <tr>\n",
       "      <th>RT @realDonaldTrump: Word is out that book is GREAT! https://t.co/mTA1xcz9eQ</th>\n",
       "      <td>0.00043</td>\n",
       "      <td>0.00384</td>\n",
       "    </tr>\n",
       "    <tr>\n",
       "      <th>RT @realDonaldTrump: If Iran wants to fight, that will be the official end of Iran. Never threaten the United States again!</th>\n",
       "      <td>0.00000</td>\n",
       "      <td>0.38493</td>\n",
       "    </tr>\n",
       "    <tr>\n",
       "      <th>RT @realDonaldTrump: “He (Jerry Nadler) wants a show. He wants to use Mr. McGahn as a prop to spend three hours claiming that Mr. Trump tri…</th>\n",
       "      <td>0.00000</td>\n",
       "      <td>0.11093</td>\n",
       "    </tr>\n",
       "    <tr>\n",
       "      <th>RT @realDonaldTrump: The Democrats are getting ZERO work done in Congress. All they are focused on is trying to prove the Mueller Report wr…</th>\n",
       "      <td>0.08337</td>\n",
       "      <td>0.00583</td>\n",
       "    </tr>\n",
       "    <tr>\n",
       "      <th>RT @realDonaldTrump: ...Mexico’s attitude is that people from other countries, including Mexico, should have the right to flow into the U.S…</th>\n",
       "      <td>0.00068</td>\n",
       "      <td>0.01619</td>\n",
       "    </tr>\n",
       "    <tr>\n",
       "      <th>@realDonaldTrump https://t.co/jatNugHRxm</th>\n",
       "      <td>0.00000</td>\n",
       "      <td>0.00000</td>\n",
       "    </tr>\n",
       "  </tbody>\n",
       "</table>\n",
       "<p>15330 rows × 2 columns</p>\n",
       "</div>"
      ],
      "text/plain": [
       "                                                    component_1  component_2\n",
       "@LindseyGrahamSC Don’t trust anything just anot...      0.00000      0.00000\n",
       "@realDonaldTrump Congress has passed several bi...      0.00347      0.00180\n",
       "RT @realDonaldTrump: As I have long been saying...      0.00058      0.00259\n",
       "RT @SteveScalise: Nancy Pelosi is blocking crit...      0.00000      0.00000\n",
       "@RepAndyBiggsAZ @RepMattGaetz Time to resign as...      0.00000      0.00000\n",
       "@realDonaldTrump No, Trump is the problem, The ...      0.00091      0.01072\n",
       "@realDonaldTrump You can't keep your anger in c...      0.00000      0.00000\n",
       "RT @realDonaldTrump: If Iran wants to fight, th...      0.00000      0.38493\n",
       "@justinamash stopped at that point. It just wou...      0.04352      0.00106\n",
       "@SenTedCruz Wtf                                         0.00000      0.00000\n",
       "RT @RepMarkMeadows: A question every American s...      0.00077      0.00397\n",
       "@realDonaldTrump https://t.co/haustTATK9                0.00000      0.00000\n",
       "RT @justinamash: Barr’s misrepresentations are ...      0.07689      0.00000\n",
       "RT @RepAdamSchiff: Barr says Trump’s campaign w...      0.06790      0.00000\n",
       "RT @realDonaldTrump: The Democrats are getting ...      0.08337      0.00583\n",
       "RT @realDonaldTrump: ..BETWEEN RUSSIA AND THE T...      0.00000      0.00000\n",
       "RT @RepDean: I take no pleasure in calling for ...      0.00077      0.00397\n",
       "@realDonaldTrump Git R Done Mr. President!              0.03117      0.00243\n",
       "@realDonaldTrump #derangedonald \\nEven Iran kno...      0.00000      0.09520\n",
       "RT @SenWarren: .@SecretaryCarson can’t distingu...      0.00000      0.00000\n",
       "RT @SenSchumer: Why has @SenateMajLdr Mitch McC...      0.00000      0.00000\n",
       "@SpeakerPelosi then do something about it. demo...      0.00180      0.00515\n",
       "RT @realDonaldTrump: Also, tremendous work is b...      0.00000      0.00000\n",
       "RT @realDonaldTrump: MAKE AMERICA GREAT AGAIN!          0.00043      0.00384\n",
       "RT @justinamash: Few members of Congress even r...      0.12451      0.00071\n",
       "RT @GovRonDeSantis: President @realDonaldTrump ...      0.03174      0.00347\n",
       "RT @justinamash: Few members of Congress even r...      0.12451      0.00071\n",
       "RT @GovRonDeSantis: .@FEMA officially notifies ...      0.00000      0.00000\n",
       "RT @realDonaldTrump: My Campaign for President ...      0.03194      0.00640\n",
       "@SenSanders @sunrisemvmt Are you looking sells ...      0.00000      0.00000\n",
       "...                                                         ...          ...\n",
       "RT @realDonaldTrump: My Campaign for President ...      0.03194      0.00640\n",
       "RT @dcexaminer: .@RepMarkMeadows: Declassificat...      0.00000      0.00000\n",
       "RT @SenKamalaHarris: One of my Republican colle...      0.00058      0.00259\n",
       "@realDonaldTrump\\nhttps://t.co/3FwLmK5N9I\\nYoun...      0.00000      0.00000\n",
       "@realDonaldTrump Something the President never ...      0.03094      0.04783\n",
       "RT @justinamash: Here are my principal conclusi...      0.34617      0.00000\n",
       "RT @senatemajldr: Today, tens of thousands of p...      0.00117      0.00054\n",
       "RT @realDonaldTrump: If Iran wants to fight, th...      0.00000      0.38493\n",
       "RT @justinamash: Here are my principal conclusi...      0.34617      0.00000\n",
       "@RepMarkMeadows @DonaldJTrumpJr And then the cu...      0.00000      0.00000\n",
       "@realDonaldTrump NOBODY BUT ME THOUGHT THAT!!!!...      0.00000      0.00000\n",
       "@SenWarren @SecretaryCarson @RepKatiePorter He ...      0.00000      0.00000\n",
       "RT @realDonaldTrump: Hard to believe that @FoxN...      0.00008      0.00040\n",
       "RT @justinamash: Few members of Congress even r...      0.12451      0.00071\n",
       "RT @realDonaldTrump: Starting Monday, our great...      0.00043      0.00384\n",
       "RT @realDonaldTrump: The Mainstream Media hates...      0.00000      0.00000\n",
       "RT @RepMattGaetz: I believe we are just days aw...      0.00000      0.00000\n",
       "RT @realDonaldTrump: Consumer Sentiment in the ...      0.00008      0.00040\n",
       "RT @realDonaldTrump: ..BETWEEN RUSSIA AND THE T...      0.00000      0.00000\n",
       "@realDonaldTrump I have set before you life and...      0.00000      0.00000\n",
       "RT @realDonaldTrump: The Dems are getting anoth...      0.00000      0.00000\n",
       "RT @justinamash: Here are my principal conclusi...      0.34617      0.00000\n",
       "@realDonaldTrump @justinamash 45, your defensiv...      0.04294      0.00002\n",
       "@realDonaldTrump THIS IS SCHIZOPHRENIC THIS IS ...      0.00000      0.00000\n",
       "RT @realDonaldTrump: Word is out that book is G...      0.00043      0.00384\n",
       "RT @realDonaldTrump: If Iran wants to fight, th...      0.00000      0.38493\n",
       "RT @realDonaldTrump: “He (Jerry Nadler) wants a...      0.00000      0.11093\n",
       "RT @realDonaldTrump: The Democrats are getting ...      0.08337      0.00583\n",
       "RT @realDonaldTrump: ...Mexico’s attitude is th...      0.00068      0.01619\n",
       "@realDonaldTrump https://t.co/jatNugHRxm                0.00000      0.00000\n",
       "\n",
       "[15330 rows x 2 columns]"
      ]
     },
     "execution_count": 225,
     "metadata": {},
     "output_type": "execute_result"
    }
   ],
   "source": [
    "H = pd.DataFrame(nmf_topic.round(5),\n",
    "             index = text_data,\n",
    "             columns = [\"component_1\",\"component_2\" ])\n",
    "H"
   ]
  },
  {
   "cell_type": "markdown",
   "metadata": {},
   "source": [
    "#### NMF - TDIDF"
   ]
  },
  {
   "cell_type": "code",
   "execution_count": 282,
   "metadata": {},
   "outputs": [],
   "source": [
    "nmf_tfidf = nlp_preprocessor(vectorizer=TfidfVectorizer(stop_words=stopwords, min_df = .03, max_df = .8),\n",
    "                       tokenizer=TreebankWordTokenizer().tokenize, lemmatizer=WordNetLemmatizer())"
   ]
  },
  {
   "cell_type": "code",
   "execution_count": 283,
   "metadata": {},
   "outputs": [
    {
     "data": {
      "text/plain": [
       "(15330, 28)"
      ]
     },
     "execution_count": 283,
     "metadata": {},
     "output_type": "execute_result"
    }
   ],
   "source": [
    "nmf_tfidf.fit(text_data)\n",
    "nmf_tfidf_words = nmf_tfidf.transform(text_data)\n",
    "nmf_tfidf_words.shape"
   ]
  },
  {
   "cell_type": "code",
   "execution_count": 284,
   "metadata": {},
   "outputs": [
    {
     "data": {
      "text/html": [
       "<div>\n",
       "<style scoped>\n",
       "    .dataframe tbody tr th:only-of-type {\n",
       "        vertical-align: middle;\n",
       "    }\n",
       "\n",
       "    .dataframe tbody tr th {\n",
       "        vertical-align: top;\n",
       "    }\n",
       "\n",
       "    .dataframe thead th {\n",
       "        text-align: right;\n",
       "    }\n",
       "</style>\n",
       "<table border=\"1\" class=\"dataframe\">\n",
       "  <thead>\n",
       "    <tr style=\"text-align: right;\">\n",
       "      <th></th>\n",
       "      <th>american</th>\n",
       "      <th>amp</th>\n",
       "      <th>attorney</th>\n",
       "      <th>barr</th>\n",
       "      <th>conclusion</th>\n",
       "      <th>congress</th>\n",
       "      <th>country</th>\n",
       "      <th>deliberately</th>\n",
       "      <th>democrat</th>\n",
       "      <th>foxnews</th>\n",
       "      <th>...</th>\n",
       "      <th>president</th>\n",
       "      <th>principal</th>\n",
       "      <th>realdonaldtrump</th>\n",
       "      <th>report</th>\n",
       "      <th>republican</th>\n",
       "      <th>state</th>\n",
       "      <th>today</th>\n",
       "      <th>united</th>\n",
       "      <th>want</th>\n",
       "      <th>would</th>\n",
       "    </tr>\n",
       "  </thead>\n",
       "  <tbody>\n",
       "    <tr>\n",
       "      <th>RT @SenKamalaHarris: #FBF to when I asked Brett Kavanaugh: Can you think of any laws that give the government the power to make decisions a…</th>\n",
       "      <td>0.0</td>\n",
       "      <td>0.0</td>\n",
       "      <td>0.0</td>\n",
       "      <td>0.0</td>\n",
       "      <td>0.0</td>\n",
       "      <td>0.0</td>\n",
       "      <td>0.000000</td>\n",
       "      <td>0.0</td>\n",
       "      <td>0.000000</td>\n",
       "      <td>0.0</td>\n",
       "      <td>...</td>\n",
       "      <td>0.0</td>\n",
       "      <td>0.0</td>\n",
       "      <td>0.000000</td>\n",
       "      <td>0.0</td>\n",
       "      <td>0.0</td>\n",
       "      <td>0.0</td>\n",
       "      <td>0.0</td>\n",
       "      <td>0.0</td>\n",
       "      <td>0.0</td>\n",
       "      <td>0.0</td>\n",
       "    </tr>\n",
       "    <tr>\n",
       "      <th>RT @realDonaldTrump: The Democrats are on a fishing expedition, wanting to interview the same people, and see the same things, as we just w…</th>\n",
       "      <td>0.0</td>\n",
       "      <td>0.0</td>\n",
       "      <td>0.0</td>\n",
       "      <td>0.0</td>\n",
       "      <td>0.0</td>\n",
       "      <td>0.0</td>\n",
       "      <td>0.000000</td>\n",
       "      <td>0.0</td>\n",
       "      <td>0.657691</td>\n",
       "      <td>0.0</td>\n",
       "      <td>...</td>\n",
       "      <td>0.0</td>\n",
       "      <td>0.0</td>\n",
       "      <td>0.270647</td>\n",
       "      <td>0.0</td>\n",
       "      <td>0.0</td>\n",
       "      <td>0.0</td>\n",
       "      <td>0.0</td>\n",
       "      <td>0.0</td>\n",
       "      <td>0.0</td>\n",
       "      <td>0.0</td>\n",
       "    </tr>\n",
       "    <tr>\n",
       "      <th>RT @RepDanCrenshaw: We voted on this bill, the Strengthening Health Care and Lowering Prescription Drug Costs Act, last night. #Heresthetru…</th>\n",
       "      <td>0.0</td>\n",
       "      <td>0.0</td>\n",
       "      <td>0.0</td>\n",
       "      <td>0.0</td>\n",
       "      <td>0.0</td>\n",
       "      <td>0.0</td>\n",
       "      <td>0.000000</td>\n",
       "      <td>0.0</td>\n",
       "      <td>0.000000</td>\n",
       "      <td>0.0</td>\n",
       "      <td>...</td>\n",
       "      <td>0.0</td>\n",
       "      <td>0.0</td>\n",
       "      <td>0.000000</td>\n",
       "      <td>0.0</td>\n",
       "      <td>0.0</td>\n",
       "      <td>0.0</td>\n",
       "      <td>0.0</td>\n",
       "      <td>0.0</td>\n",
       "      <td>0.0</td>\n",
       "      <td>0.0</td>\n",
       "    </tr>\n",
       "    <tr>\n",
       "      <th>@realDonaldTrump https://t.co/9F9OUokvm1</th>\n",
       "      <td>0.0</td>\n",
       "      <td>0.0</td>\n",
       "      <td>0.0</td>\n",
       "      <td>0.0</td>\n",
       "      <td>0.0</td>\n",
       "      <td>0.0</td>\n",
       "      <td>0.000000</td>\n",
       "      <td>0.0</td>\n",
       "      <td>0.000000</td>\n",
       "      <td>0.0</td>\n",
       "      <td>...</td>\n",
       "      <td>0.0</td>\n",
       "      <td>0.0</td>\n",
       "      <td>1.000000</td>\n",
       "      <td>0.0</td>\n",
       "      <td>0.0</td>\n",
       "      <td>0.0</td>\n",
       "      <td>0.0</td>\n",
       "      <td>0.0</td>\n",
       "      <td>0.0</td>\n",
       "      <td>0.0</td>\n",
       "    </tr>\n",
       "    <tr>\n",
       "      <th>@realDonaldTrump YOU are bad for the country.  Your lies and misdeeds have embarrassed us and are fostering a civil… https://t.co/bJbimzlV46</th>\n",
       "      <td>0.0</td>\n",
       "      <td>0.0</td>\n",
       "      <td>0.0</td>\n",
       "      <td>0.0</td>\n",
       "      <td>0.0</td>\n",
       "      <td>0.0</td>\n",
       "      <td>0.925232</td>\n",
       "      <td>0.0</td>\n",
       "      <td>0.000000</td>\n",
       "      <td>0.0</td>\n",
       "      <td>...</td>\n",
       "      <td>0.0</td>\n",
       "      <td>0.0</td>\n",
       "      <td>0.379403</td>\n",
       "      <td>0.0</td>\n",
       "      <td>0.0</td>\n",
       "      <td>0.0</td>\n",
       "      <td>0.0</td>\n",
       "      <td>0.0</td>\n",
       "      <td>0.0</td>\n",
       "      <td>0.0</td>\n",
       "    </tr>\n",
       "  </tbody>\n",
       "</table>\n",
       "<p>5 rows × 28 columns</p>\n",
       "</div>"
      ],
      "text/plain": [
       "                                                    american  amp  attorney  \\\n",
       "RT @SenKamalaHarris: #FBF to when I asked Brett...       0.0  0.0       0.0   \n",
       "RT @realDonaldTrump: The Democrats are on a fis...       0.0  0.0       0.0   \n",
       "RT @RepDanCrenshaw: We voted on this bill, the ...       0.0  0.0       0.0   \n",
       "@realDonaldTrump https://t.co/9F9OUokvm1                 0.0  0.0       0.0   \n",
       "@realDonaldTrump YOU are bad for the country.  ...       0.0  0.0       0.0   \n",
       "\n",
       "                                                    barr  conclusion  \\\n",
       "RT @SenKamalaHarris: #FBF to when I asked Brett...   0.0         0.0   \n",
       "RT @realDonaldTrump: The Democrats are on a fis...   0.0         0.0   \n",
       "RT @RepDanCrenshaw: We voted on this bill, the ...   0.0         0.0   \n",
       "@realDonaldTrump https://t.co/9F9OUokvm1             0.0         0.0   \n",
       "@realDonaldTrump YOU are bad for the country.  ...   0.0         0.0   \n",
       "\n",
       "                                                    congress   country  \\\n",
       "RT @SenKamalaHarris: #FBF to when I asked Brett...       0.0  0.000000   \n",
       "RT @realDonaldTrump: The Democrats are on a fis...       0.0  0.000000   \n",
       "RT @RepDanCrenshaw: We voted on this bill, the ...       0.0  0.000000   \n",
       "@realDonaldTrump https://t.co/9F9OUokvm1                 0.0  0.000000   \n",
       "@realDonaldTrump YOU are bad for the country.  ...       0.0  0.925232   \n",
       "\n",
       "                                                    deliberately  democrat  \\\n",
       "RT @SenKamalaHarris: #FBF to when I asked Brett...           0.0  0.000000   \n",
       "RT @realDonaldTrump: The Democrats are on a fis...           0.0  0.657691   \n",
       "RT @RepDanCrenshaw: We voted on this bill, the ...           0.0  0.000000   \n",
       "@realDonaldTrump https://t.co/9F9OUokvm1                     0.0  0.000000   \n",
       "@realDonaldTrump YOU are bad for the country.  ...           0.0  0.000000   \n",
       "\n",
       "                                                    foxnews  ...  president  \\\n",
       "RT @SenKamalaHarris: #FBF to when I asked Brett...      0.0  ...        0.0   \n",
       "RT @realDonaldTrump: The Democrats are on a fis...      0.0  ...        0.0   \n",
       "RT @RepDanCrenshaw: We voted on this bill, the ...      0.0  ...        0.0   \n",
       "@realDonaldTrump https://t.co/9F9OUokvm1                0.0  ...        0.0   \n",
       "@realDonaldTrump YOU are bad for the country.  ...      0.0  ...        0.0   \n",
       "\n",
       "                                                    principal  \\\n",
       "RT @SenKamalaHarris: #FBF to when I asked Brett...        0.0   \n",
       "RT @realDonaldTrump: The Democrats are on a fis...        0.0   \n",
       "RT @RepDanCrenshaw: We voted on this bill, the ...        0.0   \n",
       "@realDonaldTrump https://t.co/9F9OUokvm1                  0.0   \n",
       "@realDonaldTrump YOU are bad for the country.  ...        0.0   \n",
       "\n",
       "                                                    realdonaldtrump  report  \\\n",
       "RT @SenKamalaHarris: #FBF to when I asked Brett...         0.000000     0.0   \n",
       "RT @realDonaldTrump: The Democrats are on a fis...         0.270647     0.0   \n",
       "RT @RepDanCrenshaw: We voted on this bill, the ...         0.000000     0.0   \n",
       "@realDonaldTrump https://t.co/9F9OUokvm1                   1.000000     0.0   \n",
       "@realDonaldTrump YOU are bad for the country.  ...         0.379403     0.0   \n",
       "\n",
       "                                                    republican  state  today  \\\n",
       "RT @SenKamalaHarris: #FBF to when I asked Brett...         0.0    0.0    0.0   \n",
       "RT @realDonaldTrump: The Democrats are on a fis...         0.0    0.0    0.0   \n",
       "RT @RepDanCrenshaw: We voted on this bill, the ...         0.0    0.0    0.0   \n",
       "@realDonaldTrump https://t.co/9F9OUokvm1                   0.0    0.0    0.0   \n",
       "@realDonaldTrump YOU are bad for the country.  ...         0.0    0.0    0.0   \n",
       "\n",
       "                                                    united  want  would  \n",
       "RT @SenKamalaHarris: #FBF to when I asked Brett...     0.0   0.0    0.0  \n",
       "RT @realDonaldTrump: The Democrats are on a fis...     0.0   0.0    0.0  \n",
       "RT @RepDanCrenshaw: We voted on this bill, the ...     0.0   0.0    0.0  \n",
       "@realDonaldTrump https://t.co/9F9OUokvm1               0.0   0.0    0.0  \n",
       "@realDonaldTrump YOU are bad for the country.  ...     0.0   0.0    0.0  \n",
       "\n",
       "[5 rows x 28 columns]"
      ]
     },
     "execution_count": 284,
     "metadata": {},
     "output_type": "execute_result"
    }
   ],
   "source": [
    "pd.DataFrame(nmf_tfidf_words.toarray(), index=text_data, columns=nmf_tfidf.vectorizer.get_feature_names()).sample(5)"
   ]
  },
  {
   "cell_type": "code",
   "execution_count": 285,
   "metadata": {},
   "outputs": [],
   "source": [
    "nmf_tfidf_model = NMF(3)\n",
    "nmf_tfidf_topic = nmf_tfidf_model.fit_transform(nmf_tfidf_words)"
   ]
  },
  {
   "cell_type": "code",
   "execution_count": 286,
   "metadata": {},
   "outputs": [
    {
     "data": {
      "text/html": [
       "<div>\n",
       "<style scoped>\n",
       "    .dataframe tbody tr th:only-of-type {\n",
       "        vertical-align: middle;\n",
       "    }\n",
       "\n",
       "    .dataframe tbody tr th {\n",
       "        vertical-align: top;\n",
       "    }\n",
       "\n",
       "    .dataframe thead th {\n",
       "        text-align: right;\n",
       "    }\n",
       "</style>\n",
       "<table border=\"1\" class=\"dataframe\">\n",
       "  <thead>\n",
       "    <tr style=\"text-align: right;\">\n",
       "      <th></th>\n",
       "      <th>american</th>\n",
       "      <th>amp</th>\n",
       "      <th>attorney</th>\n",
       "      <th>barr</th>\n",
       "      <th>conclusion</th>\n",
       "      <th>congress</th>\n",
       "      <th>country</th>\n",
       "      <th>deliberately</th>\n",
       "      <th>democrat</th>\n",
       "      <th>foxnews</th>\n",
       "      <th>...</th>\n",
       "      <th>president</th>\n",
       "      <th>principal</th>\n",
       "      <th>realdonaldtrump</th>\n",
       "      <th>report</th>\n",
       "      <th>republican</th>\n",
       "      <th>state</th>\n",
       "      <th>today</th>\n",
       "      <th>united</th>\n",
       "      <th>want</th>\n",
       "      <th>would</th>\n",
       "    </tr>\n",
       "  </thead>\n",
       "  <tbody>\n",
       "    <tr>\n",
       "      <th>component_1</th>\n",
       "      <td>0.082</td>\n",
       "      <td>0.144</td>\n",
       "      <td>0.000</td>\n",
       "      <td>0.000</td>\n",
       "      <td>0.000</td>\n",
       "      <td>0.046</td>\n",
       "      <td>0.259</td>\n",
       "      <td>0.000</td>\n",
       "      <td>0.245</td>\n",
       "      <td>0.306</td>\n",
       "      <td>...</td>\n",
       "      <td>0.106</td>\n",
       "      <td>0.000</td>\n",
       "      <td>8.012</td>\n",
       "      <td>0.000</td>\n",
       "      <td>0.154</td>\n",
       "      <td>0.082</td>\n",
       "      <td>0.031</td>\n",
       "      <td>0.103</td>\n",
       "      <td>0.138</td>\n",
       "      <td>0.178</td>\n",
       "    </tr>\n",
       "    <tr>\n",
       "      <th>component_2</th>\n",
       "      <td>0.000</td>\n",
       "      <td>0.010</td>\n",
       "      <td>0.000</td>\n",
       "      <td>0.109</td>\n",
       "      <td>0.058</td>\n",
       "      <td>0.232</td>\n",
       "      <td>0.061</td>\n",
       "      <td>0.000</td>\n",
       "      <td>0.000</td>\n",
       "      <td>0.000</td>\n",
       "      <td>...</td>\n",
       "      <td>0.001</td>\n",
       "      <td>0.000</td>\n",
       "      <td>0.000</td>\n",
       "      <td>0.125</td>\n",
       "      <td>0.204</td>\n",
       "      <td>0.001</td>\n",
       "      <td>0.000</td>\n",
       "      <td>0.000</td>\n",
       "      <td>0.000</td>\n",
       "      <td>0.000</td>\n",
       "    </tr>\n",
       "    <tr>\n",
       "      <th>component_3</th>\n",
       "      <td>0.300</td>\n",
       "      <td>0.068</td>\n",
       "      <td>1.091</td>\n",
       "      <td>1.776</td>\n",
       "      <td>1.309</td>\n",
       "      <td>0.449</td>\n",
       "      <td>0.079</td>\n",
       "      <td>1.008</td>\n",
       "      <td>0.511</td>\n",
       "      <td>0.000</td>\n",
       "      <td>...</td>\n",
       "      <td>1.975</td>\n",
       "      <td>1.144</td>\n",
       "      <td>0.000</td>\n",
       "      <td>2.259</td>\n",
       "      <td>0.000</td>\n",
       "      <td>0.070</td>\n",
       "      <td>0.187</td>\n",
       "      <td>0.029</td>\n",
       "      <td>0.068</td>\n",
       "      <td>0.132</td>\n",
       "    </tr>\n",
       "  </tbody>\n",
       "</table>\n",
       "<p>3 rows × 28 columns</p>\n",
       "</div>"
      ],
      "text/plain": [
       "             american    amp  attorney   barr  conclusion  congress  country  \\\n",
       "component_1     0.082  0.144     0.000  0.000       0.000     0.046    0.259   \n",
       "component_2     0.000  0.010     0.000  0.109       0.058     0.232    0.061   \n",
       "component_3     0.300  0.068     1.091  1.776       1.309     0.449    0.079   \n",
       "\n",
       "             deliberately  democrat  foxnews  ...  president  principal  \\\n",
       "component_1         0.000     0.245    0.306  ...      0.106      0.000   \n",
       "component_2         0.000     0.000    0.000  ...      0.001      0.000   \n",
       "component_3         1.008     0.511    0.000  ...      1.975      1.144   \n",
       "\n",
       "             realdonaldtrump  report  republican  state  today  united   want  \\\n",
       "component_1            8.012   0.000       0.154  0.082  0.031   0.103  0.138   \n",
       "component_2            0.000   0.125       0.204  0.001  0.000   0.000  0.000   \n",
       "component_3            0.000   2.259       0.000  0.070  0.187   0.029  0.068   \n",
       "\n",
       "             would  \n",
       "component_1  0.178  \n",
       "component_2  0.000  \n",
       "component_3  0.132  \n",
       "\n",
       "[3 rows x 28 columns]"
      ]
     },
     "execution_count": 286,
     "metadata": {},
     "output_type": "execute_result"
    }
   ],
   "source": [
    "nmf_tfidf_word = pd.DataFrame(nmf_tfidf_model.components_.round(3),\n",
    "             index = [\"component_1\",\"component_2\", \"component_3\"],\n",
    "             columns = nmf_tfidf.vectorizer.get_feature_names())\n",
    "nmf_tfidf_word"
   ]
  },
  {
   "cell_type": "code",
   "execution_count": 287,
   "metadata": {},
   "outputs": [
    {
     "name": "stdout",
     "output_type": "stream",
     "text": [
      "\n",
      "Topic  0\n",
      "realdonaldtrump, great, foxnews, country\n",
      "\n",
      "Topic  1\n",
      "justinamash, congress, republican, report\n",
      "\n",
      "Topic  2\n",
      "mueller, report, president, barr\n"
     ]
    }
   ],
   "source": [
    "display_topics(nmf_tfidf_model, nmf_tfidf.vectorizer.get_feature_names(), 4)"
   ]
  },
  {
   "cell_type": "code",
   "execution_count": 289,
   "metadata": {
    "scrolled": true
   },
   "outputs": [
    {
     "data": {
      "text/html": [
       "<div>\n",
       "<style scoped>\n",
       "    .dataframe tbody tr th:only-of-type {\n",
       "        vertical-align: middle;\n",
       "    }\n",
       "\n",
       "    .dataframe tbody tr th {\n",
       "        vertical-align: top;\n",
       "    }\n",
       "\n",
       "    .dataframe thead th {\n",
       "        text-align: right;\n",
       "    }\n",
       "</style>\n",
       "<table border=\"1\" class=\"dataframe\">\n",
       "  <thead>\n",
       "    <tr style=\"text-align: right;\">\n",
       "      <th></th>\n",
       "      <th>component_1</th>\n",
       "      <th>component_2</th>\n",
       "      <th>component_3</th>\n",
       "    </tr>\n",
       "  </thead>\n",
       "  <tbody>\n",
       "    <tr>\n",
       "      <th>RT @justinamash: In comparing Barr’s principal conclusions, congressional testimony, and other statements to Mueller’s report, it is clear…</th>\n",
       "      <td>0.00000</td>\n",
       "      <td>0.05379</td>\n",
       "      <td>0.13758</td>\n",
       "    </tr>\n",
       "    <tr>\n",
       "      <th>@realDonaldTrump I honestly thought this was a parody account. I have to double-check all the time now</th>\n",
       "      <td>0.12355</td>\n",
       "      <td>0.00000</td>\n",
       "      <td>0.00000</td>\n",
       "    </tr>\n",
       "    <tr>\n",
       "      <th>@realDonaldTrump it’s time to show the American people the real facts the truth declassify Now let the cards fall w… https://t.co/eKUhAtqL2t</th>\n",
       "      <td>0.03513</td>\n",
       "      <td>0.00000</td>\n",
       "      <td>0.00949</td>\n",
       "    </tr>\n",
       "    <tr>\n",
       "      <th>RT @realDonaldTrump: Much of the Wall being built at the Southern Border is a complete demolition and rebuilding of old and worthless barri…</th>\n",
       "      <td>0.12355</td>\n",
       "      <td>0.00000</td>\n",
       "      <td>0.00000</td>\n",
       "    </tr>\n",
       "    <tr>\n",
       "      <th>RT @SenKamalaHarris: Make no mistake: foreign adversaries are preparing to meddle in our upcoming elections. That's why I joined @RonWyden…</th>\n",
       "      <td>0.00000</td>\n",
       "      <td>0.00000</td>\n",
       "      <td>0.00000</td>\n",
       "    </tr>\n",
       "    <tr>\n",
       "      <th>RT @realDonaldTrump: ....Federal Judges (many more to come), two great new Supreme Court Justices, the Mexico City Policy, and a whole new…</th>\n",
       "      <td>0.05470</td>\n",
       "      <td>0.00221</td>\n",
       "      <td>0.00000</td>\n",
       "    </tr>\n",
       "    <tr>\n",
       "      <th>@realDonaldTrump @FoxNews https://t.co/ne8AWOSppF</th>\n",
       "      <td>0.04679</td>\n",
       "      <td>0.00000</td>\n",
       "      <td>0.00000</td>\n",
       "    </tr>\n",
       "    <tr>\n",
       "      <th>RT @realDonaldTrump: As I have long been saying, and has now been proven out, this is a Witch Hunt against the Republican Party and myself,…</th>\n",
       "      <td>0.04433</td>\n",
       "      <td>0.00485</td>\n",
       "      <td>0.00000</td>\n",
       "    </tr>\n",
       "    <tr>\n",
       "      <th>RT @realDonaldTrump: My Campaign for President was conclusively spied on. Nothing like this has ever happened in American Politics. A reall…</th>\n",
       "      <td>0.03711</td>\n",
       "      <td>0.00000</td>\n",
       "      <td>0.05244</td>\n",
       "    </tr>\n",
       "    <tr>\n",
       "      <th>@realDonaldTrump https://t.co/BbezlGi0sb</th>\n",
       "      <td>0.12355</td>\n",
       "      <td>0.00000</td>\n",
       "      <td>0.00000</td>\n",
       "    </tr>\n",
       "  </tbody>\n",
       "</table>\n",
       "</div>"
      ],
      "text/plain": [
       "                                                    component_1  component_2  \\\n",
       "RT @justinamash: In comparing Barr’s principal ...      0.00000      0.05379   \n",
       "@realDonaldTrump I honestly thought this was a ...      0.12355      0.00000   \n",
       "@realDonaldTrump it’s time to show the American...      0.03513      0.00000   \n",
       "RT @realDonaldTrump: Much of the Wall being bui...      0.12355      0.00000   \n",
       "RT @SenKamalaHarris: Make no mistake: foreign a...      0.00000      0.00000   \n",
       "RT @realDonaldTrump: ....Federal Judges (many m...      0.05470      0.00221   \n",
       "@realDonaldTrump @FoxNews https://t.co/ne8AWOSppF       0.04679      0.00000   \n",
       "RT @realDonaldTrump: As I have long been saying...      0.04433      0.00485   \n",
       "RT @realDonaldTrump: My Campaign for President ...      0.03711      0.00000   \n",
       "@realDonaldTrump https://t.co/BbezlGi0sb                0.12355      0.00000   \n",
       "\n",
       "                                                    component_3  \n",
       "RT @justinamash: In comparing Barr’s principal ...      0.13758  \n",
       "@realDonaldTrump I honestly thought this was a ...      0.00000  \n",
       "@realDonaldTrump it’s time to show the American...      0.00949  \n",
       "RT @realDonaldTrump: Much of the Wall being bui...      0.00000  \n",
       "RT @SenKamalaHarris: Make no mistake: foreign a...      0.00000  \n",
       "RT @realDonaldTrump: ....Federal Judges (many m...      0.00000  \n",
       "@realDonaldTrump @FoxNews https://t.co/ne8AWOSppF       0.00000  \n",
       "RT @realDonaldTrump: As I have long been saying...      0.00000  \n",
       "RT @realDonaldTrump: My Campaign for President ...      0.05244  \n",
       "@realDonaldTrump https://t.co/BbezlGi0sb                0.00000  "
      ]
     },
     "execution_count": 289,
     "metadata": {},
     "output_type": "execute_result"
    }
   ],
   "source": [
    "H = pd.DataFrame(nmf_tfidf_topic.round(5),\n",
    "             index = text_data,\n",
    "             columns = [\"component_1\",\"component_2\", \"component_3\" ])\n",
    "H.sample(10)"
   ]
  },
  {
   "cell_type": "code",
   "execution_count": 290,
   "metadata": {},
   "outputs": [],
   "source": [
    "H_matrix = H.idxmax(axis = 1, skipna = True)"
   ]
  },
  {
   "cell_type": "code",
   "execution_count": 303,
   "metadata": {},
   "outputs": [
    {
     "data": {
      "text/plain": [
       "'component_3'"
      ]
     },
     "execution_count": 303,
     "metadata": {},
     "output_type": "execute_result"
    }
   ],
   "source": [
    "H_matrix[28]"
   ]
  },
  {
   "cell_type": "markdown",
   "metadata": {},
   "source": [
    "#### LDA Count Vectorizer"
   ]
  },
  {
   "cell_type": "code",
   "execution_count": 238,
   "metadata": {},
   "outputs": [],
   "source": [
    "lda_countvectorizer = CountVectorizer(ngram_range=(1, 2),  \n",
    "                                   stop_words=stopwords, analyzer='word', token_pattern=\"\\\\b[a-z][a-z]+\\\\b\")"
   ]
  },
  {
   "cell_type": "code",
   "execution_count": 239,
   "metadata": {},
   "outputs": [
    {
     "data": {
      "text/plain": [
       "CountVectorizer(analyzer='word', binary=False, decode_error='strict',\n",
       "        dtype=<class 'numpy.int64'>, encoding='utf-8', input='content',\n",
       "        lowercase=True, max_df=1.0, max_features=None, min_df=1,\n",
       "        ngram_range=(1, 2), preprocessor=None,\n",
       "        stop_words=['i', 'me', 'my', 'myself', 'we', 'our', 'ours', 'ourselves', 'you', \"you're\", \"you've\", \"you'll\", \"you'd\", 'your', 'yours', 'yourself', 'yourselves', 'he', 'him', 'his', 'himself', 'she', \"she's\", 'her', 'hers', 'herself', 'it', \"it's\", 'its', 'itself', 'they', 'them', 'their', 'theirs',...uldn', \"wouldn't\", 'https', 'http', 'trump', '@', 'realdonaldtrump', 'rt', 'wa', 'like', 'ha', 'co'],\n",
       "        strip_accents=None, token_pattern='\\\\b[a-z][a-z]+\\\\b',\n",
       "        tokenizer=None, vocabulary=None)"
      ]
     },
     "execution_count": 239,
     "metadata": {},
     "output_type": "execute_result"
    }
   ],
   "source": [
    "lda_countvectorizer.fit(text_data)"
   ]
  },
  {
   "cell_type": "code",
   "execution_count": 240,
   "metadata": {},
   "outputs": [],
   "source": [
    "lda_doc_word = lda_countvectorizer.transform(text_data).transpose()"
   ]
  },
  {
   "cell_type": "code",
   "execution_count": 241,
   "metadata": {},
   "outputs": [
    {
     "data": {
      "text/html": [
       "<div>\n",
       "<style scoped>\n",
       "    .dataframe tbody tr th:only-of-type {\n",
       "        vertical-align: middle;\n",
       "    }\n",
       "\n",
       "    .dataframe tbody tr th {\n",
       "        vertical-align: top;\n",
       "    }\n",
       "\n",
       "    .dataframe thead th {\n",
       "        text-align: right;\n",
       "    }\n",
       "</style>\n",
       "<table border=\"1\" class=\"dataframe\">\n",
       "  <thead>\n",
       "    <tr style=\"text-align: right;\">\n",
       "      <th></th>\n",
       "      <th>0</th>\n",
       "      <th>1</th>\n",
       "      <th>2</th>\n",
       "      <th>3</th>\n",
       "      <th>4</th>\n",
       "      <th>5</th>\n",
       "      <th>6</th>\n",
       "      <th>7</th>\n",
       "      <th>8</th>\n",
       "      <th>9</th>\n",
       "      <th>...</th>\n",
       "      <th>15320</th>\n",
       "      <th>15321</th>\n",
       "      <th>15322</th>\n",
       "      <th>15323</th>\n",
       "      <th>15324</th>\n",
       "      <th>15325</th>\n",
       "      <th>15326</th>\n",
       "      <th>15327</th>\n",
       "      <th>15328</th>\n",
       "      <th>15329</th>\n",
       "    </tr>\n",
       "  </thead>\n",
       "  <tbody>\n",
       "    <tr>\n",
       "      <th>ab</th>\n",
       "      <td>0</td>\n",
       "      <td>0</td>\n",
       "      <td>0</td>\n",
       "      <td>0</td>\n",
       "      <td>0</td>\n",
       "      <td>0</td>\n",
       "      <td>0</td>\n",
       "      <td>0</td>\n",
       "      <td>0</td>\n",
       "      <td>0</td>\n",
       "      <td>...</td>\n",
       "      <td>0</td>\n",
       "      <td>0</td>\n",
       "      <td>0</td>\n",
       "      <td>0</td>\n",
       "      <td>0</td>\n",
       "      <td>0</td>\n",
       "      <td>0</td>\n",
       "      <td>0</td>\n",
       "      <td>0</td>\n",
       "      <td>0</td>\n",
       "    </tr>\n",
       "    <tr>\n",
       "      <th>abandoned</th>\n",
       "      <td>0</td>\n",
       "      <td>0</td>\n",
       "      <td>0</td>\n",
       "      <td>0</td>\n",
       "      <td>0</td>\n",
       "      <td>0</td>\n",
       "      <td>0</td>\n",
       "      <td>0</td>\n",
       "      <td>0</td>\n",
       "      <td>0</td>\n",
       "      <td>...</td>\n",
       "      <td>0</td>\n",
       "      <td>0</td>\n",
       "      <td>0</td>\n",
       "      <td>0</td>\n",
       "      <td>0</td>\n",
       "      <td>0</td>\n",
       "      <td>0</td>\n",
       "      <td>0</td>\n",
       "      <td>0</td>\n",
       "      <td>0</td>\n",
       "    </tr>\n",
       "    <tr>\n",
       "      <th>abandoned almost</th>\n",
       "      <td>0</td>\n",
       "      <td>0</td>\n",
       "      <td>0</td>\n",
       "      <td>0</td>\n",
       "      <td>0</td>\n",
       "      <td>0</td>\n",
       "      <td>0</td>\n",
       "      <td>0</td>\n",
       "      <td>0</td>\n",
       "      <td>0</td>\n",
       "      <td>...</td>\n",
       "      <td>0</td>\n",
       "      <td>0</td>\n",
       "      <td>0</td>\n",
       "      <td>0</td>\n",
       "      <td>0</td>\n",
       "      <td>0</td>\n",
       "      <td>0</td>\n",
       "      <td>0</td>\n",
       "      <td>0</td>\n",
       "      <td>0</td>\n",
       "    </tr>\n",
       "    <tr>\n",
       "      <th>abandoning</th>\n",
       "      <td>0</td>\n",
       "      <td>0</td>\n",
       "      <td>0</td>\n",
       "      <td>0</td>\n",
       "      <td>0</td>\n",
       "      <td>0</td>\n",
       "      <td>0</td>\n",
       "      <td>0</td>\n",
       "      <td>0</td>\n",
       "      <td>0</td>\n",
       "      <td>...</td>\n",
       "      <td>0</td>\n",
       "      <td>0</td>\n",
       "      <td>0</td>\n",
       "      <td>0</td>\n",
       "      <td>0</td>\n",
       "      <td>0</td>\n",
       "      <td>0</td>\n",
       "      <td>0</td>\n",
       "      <td>0</td>\n",
       "      <td>0</td>\n",
       "    </tr>\n",
       "    <tr>\n",
       "      <th>abandoning rest</th>\n",
       "      <td>0</td>\n",
       "      <td>0</td>\n",
       "      <td>0</td>\n",
       "      <td>0</td>\n",
       "      <td>0</td>\n",
       "      <td>0</td>\n",
       "      <td>0</td>\n",
       "      <td>0</td>\n",
       "      <td>0</td>\n",
       "      <td>0</td>\n",
       "      <td>...</td>\n",
       "      <td>0</td>\n",
       "      <td>0</td>\n",
       "      <td>0</td>\n",
       "      <td>0</td>\n",
       "      <td>0</td>\n",
       "      <td>0</td>\n",
       "      <td>0</td>\n",
       "      <td>0</td>\n",
       "      <td>0</td>\n",
       "      <td>0</td>\n",
       "    </tr>\n",
       "  </tbody>\n",
       "</table>\n",
       "<p>5 rows × 15330 columns</p>\n",
       "</div>"
      ],
      "text/plain": [
       "                  0      1      2      3      4      5      6      7      \\\n",
       "ab                    0      0      0      0      0      0      0      0   \n",
       "abandoned             0      0      0      0      0      0      0      0   \n",
       "abandoned almost      0      0      0      0      0      0      0      0   \n",
       "abandoning            0      0      0      0      0      0      0      0   \n",
       "abandoning rest       0      0      0      0      0      0      0      0   \n",
       "\n",
       "                  8      9      ...  15320  15321  15322  15323  15324  15325  \\\n",
       "ab                    0      0  ...      0      0      0      0      0      0   \n",
       "abandoned             0      0  ...      0      0      0      0      0      0   \n",
       "abandoned almost      0      0  ...      0      0      0      0      0      0   \n",
       "abandoning            0      0  ...      0      0      0      0      0      0   \n",
       "abandoning rest       0      0  ...      0      0      0      0      0      0   \n",
       "\n",
       "                  15326  15327  15328  15329  \n",
       "ab                    0      0      0      0  \n",
       "abandoned             0      0      0      0  \n",
       "abandoned almost      0      0      0      0  \n",
       "abandoning            0      0      0      0  \n",
       "abandoning rest       0      0      0      0  \n",
       "\n",
       "[5 rows x 15330 columns]"
      ]
     },
     "execution_count": 241,
     "metadata": {},
     "output_type": "execute_result"
    }
   ],
   "source": [
    "pd.DataFrame(lda_doc_word.toarray(), lda_countvectorizer.get_feature_names()).head()"
   ]
  },
  {
   "cell_type": "code",
   "execution_count": 242,
   "metadata": {},
   "outputs": [
    {
     "data": {
      "text/plain": [
       "(47048, 15330)"
      ]
     },
     "execution_count": 242,
     "metadata": {},
     "output_type": "execute_result"
    }
   ],
   "source": [
    "lda_doc_word.shape"
   ]
  },
  {
   "cell_type": "code",
   "execution_count": 243,
   "metadata": {},
   "outputs": [],
   "source": [
    "# Convert sparse matrix of counts to a gensim corpus\n",
    "corpus = matutils.Sparse2Corpus(lda_doc_word)"
   ]
  },
  {
   "cell_type": "markdown",
   "metadata": {},
   "source": [
    "##### Map matrix rows to words (tokens)\n",
    "We need to save a mapping (dict) of row id to word (token) for later use by gensim:"
   ]
  },
  {
   "cell_type": "code",
   "execution_count": 244,
   "metadata": {},
   "outputs": [],
   "source": [
    "id2word = dict((v, k) for k, v in lda_countvectorizer.vocabulary_.items())"
   ]
  },
  {
   "cell_type": "code",
   "execution_count": 245,
   "metadata": {},
   "outputs": [
    {
     "data": {
      "text/plain": [
       "47048"
      ]
     },
     "execution_count": 245,
     "metadata": {},
     "output_type": "execute_result"
    }
   ],
   "source": [
    "len(id2word)"
   ]
  },
  {
   "cell_type": "markdown",
   "metadata": {},
   "source": [
    "###  Creating LDA models"
   ]
  },
  {
   "cell_type": "code",
   "execution_count": 42,
   "metadata": {},
   "outputs": [
    {
     "name": "stderr",
     "output_type": "stream",
     "text": [
      "2019-05-22 19:43:17,739 : INFO : using symmetric alpha at 0.5\n",
      "2019-05-22 19:43:17,741 : INFO : using symmetric eta at 0.5\n",
      "2019-05-22 19:43:17,753 : INFO : using serial LDA version on this node\n",
      "2019-05-22 19:43:17,768 : INFO : running online (multi-pass) LDA training, 2 topics, 5 passes over the supplied corpus of 15330 documents, updating model once every 2000 documents, evaluating perplexity every 15330 documents, iterating 50x with a convergence threshold of 0.001000\n",
      "2019-05-22 19:43:17,802 : INFO : PROGRESS: pass 0, at document #2000/15330\n",
      "2019-05-22 19:43:21,013 : INFO : merging changes from 2000 documents into a model of 15330 documents\n",
      "2019-05-22 19:43:21,026 : INFO : topic #0 (0.500): 0.006*\"justinamash\" + 0.006*\"mueller\" + 0.006*\"president\" + 0.005*\"report\" + 0.005*\"great\" + 0.005*\"mueller report\" + 0.005*\"barr\" + 0.004*\"iran\" + 0.004*\"general\" + 0.003*\"country\"\n",
      "2019-05-22 19:43:21,029 : INFO : topic #1 (0.500): 0.009*\"justinamash\" + 0.004*\"report\" + 0.004*\"mueller\" + 0.004*\"barr\" + 0.003*\"mueller report\" + 0.003*\"president\" + 0.003*\"read\" + 0.003*\"democrats\" + 0.002*\"country\" + 0.002*\"american\"\n",
      "2019-05-22 19:43:21,031 : INFO : topic diff=2.253822, rho=1.000000\n",
      "2019-05-22 19:43:21,080 : INFO : PROGRESS: pass 0, at document #4000/15330\n",
      "2019-05-22 19:43:22,942 : INFO : merging changes from 2000 documents into a model of 15330 documents\n",
      "2019-05-22 19:43:22,954 : INFO : topic #0 (0.500): 0.008*\"justinamash\" + 0.008*\"president\" + 0.007*\"mueller\" + 0.006*\"report\" + 0.006*\"mueller report\" + 0.006*\"barr\" + 0.006*\"great\" + 0.005*\"iran\" + 0.005*\"country\" + 0.005*\"general\"\n",
      "2019-05-22 19:43:22,957 : INFO : topic #1 (0.500): 0.008*\"justinamash\" + 0.004*\"report\" + 0.004*\"mueller\" + 0.003*\"mueller report\" + 0.003*\"democrats\" + 0.003*\"barr\" + 0.002*\"president\" + 0.002*\"read\" + 0.002*\"people\" + 0.002*\"think\"\n",
      "2019-05-22 19:43:22,959 : INFO : topic diff=0.617706, rho=0.707107\n",
      "2019-05-22 19:43:22,991 : INFO : PROGRESS: pass 0, at document #6000/15330\n",
      "2019-05-22 19:43:24,543 : INFO : merging changes from 2000 documents into a model of 15330 documents\n",
      "2019-05-22 19:43:24,556 : INFO : topic #0 (0.500): 0.009*\"justinamash\" + 0.008*\"president\" + 0.007*\"mueller\" + 0.006*\"report\" + 0.006*\"iran\" + 0.006*\"mueller report\" + 0.006*\"great\" + 0.006*\"barr\" + 0.005*\"country\" + 0.004*\"general\"\n",
      "2019-05-22 19:43:24,558 : INFO : topic #1 (0.500): 0.006*\"justinamash\" + 0.004*\"mueller\" + 0.004*\"report\" + 0.003*\"democrats\" + 0.003*\"mueller report\" + 0.002*\"read\" + 0.002*\"people\" + 0.002*\"think\" + 0.002*\"mr\" + 0.002*\"barr\"\n",
      "2019-05-22 19:43:24,561 : INFO : topic diff=0.569665, rho=0.577350\n",
      "2019-05-22 19:43:24,597 : INFO : PROGRESS: pass 0, at document #8000/15330\n",
      "2019-05-22 19:43:25,824 : INFO : merging changes from 2000 documents into a model of 15330 documents\n",
      "2019-05-22 19:43:25,839 : INFO : topic #0 (0.500): 0.010*\"justinamash\" + 0.008*\"president\" + 0.007*\"mueller\" + 0.006*\"report\" + 0.006*\"iran\" + 0.006*\"mueller report\" + 0.006*\"barr\" + 0.005*\"great\" + 0.005*\"general\" + 0.005*\"country\"\n",
      "2019-05-22 19:43:25,842 : INFO : topic #1 (0.500): 0.006*\"justinamash\" + 0.004*\"mueller\" + 0.003*\"report\" + 0.003*\"democrats\" + 0.002*\"read\" + 0.002*\"mueller report\" + 0.002*\"think\" + 0.002*\"people\" + 0.002*\"one\" + 0.002*\"mr\"\n",
      "2019-05-22 19:43:25,843 : INFO : topic diff=0.525405, rho=0.500000\n",
      "2019-05-22 19:43:25,882 : INFO : PROGRESS: pass 0, at document #10000/15330\n",
      "2019-05-22 19:43:26,981 : INFO : merging changes from 2000 documents into a model of 15330 documents\n",
      "2019-05-22 19:43:26,996 : INFO : topic #0 (0.500): 0.010*\"justinamash\" + 0.008*\"president\" + 0.007*\"mueller\" + 0.006*\"iran\" + 0.006*\"report\" + 0.006*\"barr\" + 0.006*\"mueller report\" + 0.006*\"great\" + 0.005*\"general\" + 0.004*\"country\"\n",
      "2019-05-22 19:43:26,998 : INFO : topic #1 (0.500): 0.006*\"justinamash\" + 0.004*\"mueller\" + 0.003*\"report\" + 0.003*\"democrats\" + 0.002*\"us\" + 0.002*\"obstruction\" + 0.002*\"mueller report\" + 0.002*\"read\" + 0.002*\"foxnews\" + 0.002*\"think\"\n",
      "2019-05-22 19:43:27,000 : INFO : topic diff=0.515878, rho=0.447214\n",
      "2019-05-22 19:43:27,038 : INFO : PROGRESS: pass 0, at document #12000/15330\n",
      "2019-05-22 19:43:28,138 : INFO : merging changes from 2000 documents into a model of 15330 documents\n",
      "2019-05-22 19:43:28,153 : INFO : topic #0 (0.500): 0.010*\"justinamash\" + 0.008*\"president\" + 0.006*\"mueller\" + 0.006*\"iran\" + 0.006*\"barr\" + 0.006*\"report\" + 0.006*\"mueller report\" + 0.006*\"great\" + 0.005*\"country\" + 0.005*\"general\"\n",
      "2019-05-22 19:43:28,156 : INFO : topic #1 (0.500): 0.005*\"justinamash\" + 0.004*\"mueller\" + 0.003*\"report\" + 0.003*\"democrats\" + 0.003*\"foxnews\" + 0.003*\"read\" + 0.002*\"us\" + 0.002*\"mueller report\" + 0.002*\"think\" + 0.002*\"people\"\n",
      "2019-05-22 19:43:28,158 : INFO : topic diff=0.484232, rho=0.408248\n",
      "2019-05-22 19:43:28,198 : INFO : PROGRESS: pass 0, at document #14000/15330\n",
      "2019-05-22 19:43:29,178 : INFO : merging changes from 2000 documents into a model of 15330 documents\n",
      "2019-05-22 19:43:29,190 : INFO : topic #0 (0.500): 0.010*\"justinamash\" + 0.009*\"president\" + 0.007*\"mueller\" + 0.007*\"barr\" + 0.006*\"report\" + 0.006*\"mueller report\" + 0.006*\"great\" + 0.006*\"iran\" + 0.005*\"general\" + 0.005*\"attorney\"\n",
      "2019-05-22 19:43:29,193 : INFO : topic #1 (0.500): 0.005*\"justinamash\" + 0.004*\"mueller\" + 0.003*\"report\" + 0.003*\"democrats\" + 0.003*\"read\" + 0.002*\"foxnews\" + 0.002*\"mueller report\" + 0.002*\"people\" + 0.002*\"us\" + 0.002*\"mr\"\n",
      "2019-05-22 19:43:29,195 : INFO : topic diff=0.475367, rho=0.377964\n",
      "2019-05-22 19:43:30,364 : INFO : -9.320 per-word bound, 639.4 perplexity estimate based on a held-out corpus of 1330 documents with 22020 words\n",
      "2019-05-22 19:43:30,365 : INFO : PROGRESS: pass 0, at document #15330/15330\n",
      "2019-05-22 19:43:31,026 : INFO : merging changes from 1330 documents into a model of 15330 documents\n",
      "2019-05-22 19:43:31,042 : INFO : topic #0 (0.500): 0.010*\"justinamash\" + 0.008*\"president\" + 0.007*\"mueller\" + 0.006*\"barr\" + 0.006*\"report\" + 0.006*\"iran\" + 0.006*\"great\" + 0.006*\"mueller report\" + 0.005*\"general\" + 0.005*\"country\"\n",
      "2019-05-22 19:43:31,045 : INFO : topic #1 (0.500): 0.006*\"justinamash\" + 0.003*\"mueller\" + 0.003*\"report\" + 0.003*\"democrats\" + 0.003*\"foxnews\" + 0.003*\"read\" + 0.002*\"mr\" + 0.002*\"mueller report\" + 0.002*\"people\" + 0.002*\"think\"\n",
      "2019-05-22 19:43:31,047 : INFO : topic diff=0.426682, rho=0.353553\n",
      "2019-05-22 19:43:31,083 : INFO : PROGRESS: pass 1, at document #2000/15330\n",
      "2019-05-22 19:43:32,008 : INFO : merging changes from 2000 documents into a model of 15330 documents\n",
      "2019-05-22 19:43:32,023 : INFO : topic #0 (0.500): 0.010*\"justinamash\" + 0.008*\"president\" + 0.007*\"mueller\" + 0.006*\"barr\" + 0.006*\"report\" + 0.006*\"great\" + 0.006*\"mueller report\" + 0.006*\"iran\" + 0.005*\"general\" + 0.005*\"country\"\n",
      "2019-05-22 19:43:32,083 : INFO : topic #1 (0.500): 0.005*\"justinamash\" + 0.003*\"mueller\" + 0.003*\"report\" + 0.003*\"read\" + 0.003*\"democrats\" + 0.003*\"foxnews\" + 0.002*\"mr\" + 0.002*\"american\" + 0.002*\"mueller report\" + 0.002*\"mayor\"\n",
      "2019-05-22 19:43:32,084 : INFO : topic diff=0.393216, rho=0.321661\n",
      "2019-05-22 19:43:32,117 : INFO : PROGRESS: pass 1, at document #4000/15330\n",
      "2019-05-22 19:43:33,144 : INFO : merging changes from 2000 documents into a model of 15330 documents\n",
      "2019-05-22 19:43:33,165 : INFO : topic #0 (0.500): 0.010*\"justinamash\" + 0.009*\"president\" + 0.007*\"mueller\" + 0.006*\"barr\" + 0.006*\"report\" + 0.006*\"great\" + 0.006*\"mueller report\" + 0.006*\"iran\" + 0.005*\"general\" + 0.005*\"country\"\n",
      "2019-05-22 19:43:33,169 : INFO : topic #1 (0.500): 0.006*\"justinamash\" + 0.003*\"mueller\" + 0.003*\"report\" + 0.003*\"democrats\" + 0.003*\"foxnews\" + 0.003*\"read\" + 0.002*\"mr\" + 0.002*\"people\" + 0.002*\"mayor\" + 0.002*\"think\"\n",
      "2019-05-22 19:43:33,171 : INFO : topic diff=0.374880, rho=0.321661\n",
      "2019-05-22 19:43:33,213 : INFO : PROGRESS: pass 1, at document #6000/15330\n",
      "2019-05-22 19:43:34,528 : INFO : merging changes from 2000 documents into a model of 15330 documents\n",
      "2019-05-22 19:43:34,545 : INFO : topic #0 (0.500): 0.010*\"justinamash\" + 0.009*\"president\" + 0.007*\"mueller\" + 0.006*\"report\" + 0.006*\"mueller report\" + 0.006*\"barr\" + 0.006*\"iran\" + 0.006*\"great\" + 0.005*\"general\" + 0.005*\"country\"\n",
      "2019-05-22 19:43:34,549 : INFO : topic #1 (0.500): 0.005*\"justinamash\" + 0.003*\"mueller\" + 0.003*\"report\" + 0.003*\"democrats\" + 0.003*\"foxnews\" + 0.003*\"read\" + 0.002*\"mr\" + 0.002*\"people\" + 0.002*\"think\" + 0.002*\"mayor\"\n"
     ]
    },
    {
     "name": "stderr",
     "output_type": "stream",
     "text": [
      "2019-05-22 19:43:34,552 : INFO : topic diff=0.381048, rho=0.321661\n",
      "2019-05-22 19:43:34,590 : INFO : PROGRESS: pass 1, at document #8000/15330\n",
      "2019-05-22 19:43:35,768 : INFO : merging changes from 2000 documents into a model of 15330 documents\n",
      "2019-05-22 19:43:35,781 : INFO : topic #0 (0.500): 0.010*\"justinamash\" + 0.009*\"president\" + 0.007*\"mueller\" + 0.006*\"report\" + 0.006*\"barr\" + 0.006*\"iran\" + 0.006*\"mueller report\" + 0.006*\"great\" + 0.005*\"general\" + 0.005*\"country\"\n",
      "2019-05-22 19:43:35,783 : INFO : topic #1 (0.500): 0.006*\"justinamash\" + 0.003*\"mueller\" + 0.003*\"democrats\" + 0.003*\"report\" + 0.003*\"foxnews\" + 0.002*\"read\" + 0.002*\"mr\" + 0.002*\"think\" + 0.002*\"people\" + 0.002*\"one\"\n",
      "2019-05-22 19:43:35,785 : INFO : topic diff=0.364402, rho=0.321661\n",
      "2019-05-22 19:43:35,818 : INFO : PROGRESS: pass 1, at document #10000/15330\n",
      "2019-05-22 19:43:36,680 : INFO : merging changes from 2000 documents into a model of 15330 documents\n",
      "2019-05-22 19:43:36,695 : INFO : topic #0 (0.500): 0.010*\"justinamash\" + 0.009*\"president\" + 0.007*\"mueller\" + 0.006*\"barr\" + 0.006*\"report\" + 0.006*\"iran\" + 0.006*\"mueller report\" + 0.006*\"great\" + 0.005*\"general\" + 0.004*\"country\"\n",
      "2019-05-22 19:43:36,698 : INFO : topic #1 (0.500): 0.005*\"justinamash\" + 0.003*\"mueller\" + 0.003*\"report\" + 0.003*\"democrats\" + 0.003*\"foxnews\" + 0.002*\"read\" + 0.002*\"us\" + 0.002*\"obstruction\" + 0.002*\"think\" + 0.002*\"mayor\"\n",
      "2019-05-22 19:43:36,699 : INFO : topic diff=0.367267, rho=0.321661\n",
      "2019-05-22 19:43:36,739 : INFO : PROGRESS: pass 1, at document #12000/15330\n",
      "2019-05-22 19:43:37,548 : INFO : merging changes from 2000 documents into a model of 15330 documents\n",
      "2019-05-22 19:43:37,560 : INFO : topic #0 (0.500): 0.010*\"justinamash\" + 0.008*\"president\" + 0.007*\"mueller\" + 0.007*\"iran\" + 0.006*\"barr\" + 0.006*\"report\" + 0.006*\"mueller report\" + 0.006*\"great\" + 0.005*\"country\" + 0.005*\"general\"\n",
      "2019-05-22 19:43:37,563 : INFO : topic #1 (0.500): 0.005*\"justinamash\" + 0.003*\"mueller\" + 0.003*\"report\" + 0.003*\"foxnews\" + 0.003*\"democrats\" + 0.003*\"read\" + 0.002*\"us\" + 0.002*\"people\" + 0.002*\"think\" + 0.002*\"mayor\"\n",
      "2019-05-22 19:43:37,565 : INFO : topic diff=0.355641, rho=0.321661\n",
      "2019-05-22 19:43:37,607 : INFO : PROGRESS: pass 1, at document #14000/15330\n",
      "2019-05-22 19:43:38,359 : INFO : merging changes from 2000 documents into a model of 15330 documents\n",
      "2019-05-22 19:43:38,372 : INFO : topic #0 (0.500): 0.010*\"justinamash\" + 0.009*\"president\" + 0.007*\"mueller\" + 0.007*\"barr\" + 0.007*\"report\" + 0.007*\"mueller report\" + 0.006*\"great\" + 0.006*\"iran\" + 0.005*\"general\" + 0.005*\"attorney\"\n",
      "2019-05-22 19:43:38,374 : INFO : topic #1 (0.500): 0.005*\"justinamash\" + 0.004*\"mueller\" + 0.003*\"report\" + 0.003*\"democrats\" + 0.003*\"read\" + 0.003*\"foxnews\" + 0.002*\"mr\" + 0.002*\"people\" + 0.002*\"us\" + 0.002*\"mueller report\"\n",
      "2019-05-22 19:43:38,377 : INFO : topic diff=0.361444, rho=0.321661\n",
      "2019-05-22 19:43:39,379 : INFO : -9.165 per-word bound, 573.9 perplexity estimate based on a held-out corpus of 1330 documents with 22020 words\n",
      "2019-05-22 19:43:39,381 : INFO : PROGRESS: pass 1, at document #15330/15330\n",
      "2019-05-22 19:43:39,882 : INFO : merging changes from 1330 documents into a model of 15330 documents\n",
      "2019-05-22 19:43:39,897 : INFO : topic #0 (0.500): 0.011*\"justinamash\" + 0.009*\"president\" + 0.007*\"mueller\" + 0.006*\"barr\" + 0.006*\"report\" + 0.006*\"iran\" + 0.006*\"great\" + 0.006*\"mueller report\" + 0.005*\"general\" + 0.005*\"country\"\n",
      "2019-05-22 19:43:39,900 : INFO : topic #1 (0.500): 0.005*\"justinamash\" + 0.003*\"mueller\" + 0.003*\"report\" + 0.003*\"democrats\" + 0.003*\"foxnews\" + 0.003*\"read\" + 0.002*\"mr\" + 0.002*\"people\" + 0.002*\"mayor\" + 0.002*\"american\"\n",
      "2019-05-22 19:43:39,902 : INFO : topic diff=0.329569, rho=0.321661\n",
      "2019-05-22 19:43:39,928 : INFO : PROGRESS: pass 2, at document #2000/15330\n",
      "2019-05-22 19:43:40,701 : INFO : merging changes from 2000 documents into a model of 15330 documents\n",
      "2019-05-22 19:43:40,717 : INFO : topic #0 (0.500): 0.010*\"justinamash\" + 0.008*\"president\" + 0.007*\"mueller\" + 0.006*\"barr\" + 0.006*\"report\" + 0.006*\"great\" + 0.006*\"mueller report\" + 0.006*\"iran\" + 0.005*\"general\" + 0.005*\"country\"\n",
      "2019-05-22 19:43:40,720 : INFO : topic #1 (0.500): 0.005*\"justinamash\" + 0.003*\"mueller\" + 0.003*\"report\" + 0.003*\"read\" + 0.003*\"democrats\" + 0.003*\"foxnews\" + 0.002*\"mr\" + 0.002*\"american\" + 0.002*\"people\" + 0.002*\"mayor\"\n",
      "2019-05-22 19:43:40,722 : INFO : topic diff=0.334454, rho=0.306210\n",
      "2019-05-22 19:43:40,763 : INFO : PROGRESS: pass 2, at document #4000/15330\n",
      "2019-05-22 19:43:41,519 : INFO : merging changes from 2000 documents into a model of 15330 documents\n",
      "2019-05-22 19:43:41,534 : INFO : topic #0 (0.500): 0.010*\"justinamash\" + 0.009*\"president\" + 0.007*\"mueller\" + 0.007*\"barr\" + 0.006*\"report\" + 0.006*\"mueller report\" + 0.006*\"great\" + 0.006*\"iran\" + 0.005*\"general\" + 0.005*\"country\"\n",
      "2019-05-22 19:43:41,537 : INFO : topic #1 (0.500): 0.006*\"justinamash\" + 0.003*\"mueller\" + 0.003*\"report\" + 0.003*\"democrats\" + 0.003*\"foxnews\" + 0.003*\"read\" + 0.002*\"mr\" + 0.002*\"people\" + 0.002*\"mayor\" + 0.002*\"think\"\n",
      "2019-05-22 19:43:41,539 : INFO : topic diff=0.327943, rho=0.306210\n",
      "2019-05-22 19:43:41,571 : INFO : PROGRESS: pass 2, at document #6000/15330\n",
      "2019-05-22 19:43:42,328 : INFO : merging changes from 2000 documents into a model of 15330 documents\n",
      "2019-05-22 19:43:42,340 : INFO : topic #0 (0.500): 0.010*\"justinamash\" + 0.009*\"president\" + 0.007*\"mueller\" + 0.007*\"report\" + 0.006*\"mueller report\" + 0.006*\"barr\" + 0.006*\"iran\" + 0.006*\"great\" + 0.005*\"general\" + 0.005*\"country\"\n",
      "2019-05-22 19:43:42,343 : INFO : topic #1 (0.500): 0.005*\"justinamash\" + 0.003*\"mueller\" + 0.003*\"report\" + 0.003*\"democrats\" + 0.003*\"foxnews\" + 0.003*\"read\" + 0.002*\"mr\" + 0.002*\"people\" + 0.002*\"think\" + 0.002*\"mayor\"\n",
      "2019-05-22 19:43:42,345 : INFO : topic diff=0.337025, rho=0.306210\n",
      "2019-05-22 19:43:42,377 : INFO : PROGRESS: pass 2, at document #8000/15330\n",
      "2019-05-22 19:43:43,111 : INFO : merging changes from 2000 documents into a model of 15330 documents\n",
      "2019-05-22 19:43:43,126 : INFO : topic #0 (0.500): 0.010*\"justinamash\" + 0.009*\"president\" + 0.007*\"mueller\" + 0.007*\"report\" + 0.007*\"barr\" + 0.006*\"mueller report\" + 0.006*\"iran\" + 0.006*\"great\" + 0.005*\"general\" + 0.005*\"country\"\n",
      "2019-05-22 19:43:43,129 : INFO : topic #1 (0.500): 0.006*\"justinamash\" + 0.003*\"mueller\" + 0.003*\"democrats\" + 0.003*\"report\" + 0.003*\"foxnews\" + 0.002*\"read\" + 0.002*\"mr\" + 0.002*\"people\" + 0.002*\"think\" + 0.002*\"one\"\n",
      "2019-05-22 19:43:43,130 : INFO : topic diff=0.327107, rho=0.306210\n",
      "2019-05-22 19:43:43,165 : INFO : PROGRESS: pass 2, at document #10000/15330\n",
      "2019-05-22 19:43:43,888 : INFO : merging changes from 2000 documents into a model of 15330 documents\n",
      "2019-05-22 19:43:43,903 : INFO : topic #0 (0.500): 0.010*\"justinamash\" + 0.009*\"president\" + 0.007*\"mueller\" + 0.006*\"barr\" + 0.006*\"report\" + 0.006*\"iran\" + 0.006*\"mueller report\" + 0.006*\"great\" + 0.005*\"general\" + 0.004*\"country\"\n",
      "2019-05-22 19:43:43,906 : INFO : topic #1 (0.500): 0.005*\"justinamash\" + 0.003*\"mueller\" + 0.003*\"report\" + 0.003*\"democrats\" + 0.003*\"foxnews\" + 0.002*\"read\" + 0.002*\"us\" + 0.002*\"obstruction\" + 0.002*\"think\" + 0.002*\"mayor\"\n",
      "2019-05-22 19:43:43,908 : INFO : topic diff=0.333545, rho=0.306210\n",
      "2019-05-22 19:43:43,936 : INFO : PROGRESS: pass 2, at document #12000/15330\n",
      "2019-05-22 19:43:44,661 : INFO : merging changes from 2000 documents into a model of 15330 documents\n",
      "2019-05-22 19:43:44,673 : INFO : topic #0 (0.500): 0.010*\"justinamash\" + 0.008*\"president\" + 0.007*\"mueller\" + 0.007*\"iran\" + 0.007*\"barr\" + 0.006*\"report\" + 0.006*\"mueller report\" + 0.006*\"great\" + 0.005*\"country\" + 0.005*\"general\"\n",
      "2019-05-22 19:43:44,676 : INFO : topic #1 (0.500): 0.005*\"justinamash\" + 0.003*\"mueller\" + 0.003*\"report\" + 0.003*\"foxnews\" + 0.003*\"democrats\" + 0.002*\"read\" + 0.002*\"us\" + 0.002*\"people\" + 0.002*\"think\" + 0.002*\"mayor\"\n",
      "2019-05-22 19:43:44,678 : INFO : topic diff=0.324615, rho=0.306210\n",
      "2019-05-22 19:43:44,705 : INFO : PROGRESS: pass 2, at document #14000/15330\n",
      "2019-05-22 19:43:45,438 : INFO : merging changes from 2000 documents into a model of 15330 documents\n",
      "2019-05-22 19:43:45,453 : INFO : topic #0 (0.500): 0.011*\"justinamash\" + 0.009*\"president\" + 0.007*\"mueller\" + 0.007*\"barr\" + 0.007*\"report\" + 0.007*\"mueller report\" + 0.006*\"great\" + 0.006*\"iran\" + 0.005*\"general\" + 0.005*\"attorney\"\n"
     ]
    },
    {
     "name": "stderr",
     "output_type": "stream",
     "text": [
      "2019-05-22 19:43:45,456 : INFO : topic #1 (0.500): 0.005*\"justinamash\" + 0.003*\"mueller\" + 0.003*\"report\" + 0.003*\"democrats\" + 0.003*\"read\" + 0.003*\"foxnews\" + 0.002*\"mr\" + 0.002*\"people\" + 0.002*\"us\" + 0.002*\"mayor\"\n",
      "2019-05-22 19:43:45,458 : INFO : topic diff=0.330920, rho=0.306210\n",
      "2019-05-22 19:43:46,422 : INFO : -9.138 per-word bound, 563.6 perplexity estimate based on a held-out corpus of 1330 documents with 22020 words\n",
      "2019-05-22 19:43:46,423 : INFO : PROGRESS: pass 2, at document #15330/15330\n",
      "2019-05-22 19:43:46,898 : INFO : merging changes from 1330 documents into a model of 15330 documents\n",
      "2019-05-22 19:43:46,915 : INFO : topic #0 (0.500): 0.011*\"justinamash\" + 0.009*\"president\" + 0.007*\"mueller\" + 0.007*\"barr\" + 0.006*\"report\" + 0.006*\"iran\" + 0.006*\"great\" + 0.006*\"mueller report\" + 0.005*\"general\" + 0.005*\"country\"\n",
      "2019-05-22 19:43:46,918 : INFO : topic #1 (0.500): 0.006*\"justinamash\" + 0.003*\"mueller\" + 0.003*\"report\" + 0.003*\"democrats\" + 0.003*\"foxnews\" + 0.003*\"read\" + 0.002*\"mr\" + 0.002*\"people\" + 0.002*\"american\" + 0.002*\"mayor\"\n",
      "2019-05-22 19:43:46,920 : INFO : topic diff=0.299447, rho=0.306210\n",
      "2019-05-22 19:43:46,961 : INFO : PROGRESS: pass 3, at document #2000/15330\n",
      "2019-05-22 19:43:47,693 : INFO : merging changes from 2000 documents into a model of 15330 documents\n",
      "2019-05-22 19:43:47,706 : INFO : topic #0 (0.500): 0.010*\"justinamash\" + 0.008*\"president\" + 0.007*\"mueller\" + 0.007*\"barr\" + 0.006*\"report\" + 0.006*\"great\" + 0.006*\"mueller report\" + 0.006*\"iran\" + 0.005*\"general\" + 0.005*\"country\"\n",
      "2019-05-22 19:43:47,708 : INFO : topic #1 (0.500): 0.005*\"justinamash\" + 0.003*\"mueller\" + 0.003*\"report\" + 0.003*\"read\" + 0.003*\"democrats\" + 0.003*\"foxnews\" + 0.002*\"mr\" + 0.002*\"people\" + 0.002*\"american\" + 0.002*\"mayor\"\n",
      "2019-05-22 19:43:47,711 : INFO : topic diff=0.308802, rho=0.292791\n",
      "2019-05-22 19:43:47,748 : INFO : PROGRESS: pass 3, at document #4000/15330\n",
      "2019-05-22 19:43:48,456 : INFO : merging changes from 2000 documents into a model of 15330 documents\n",
      "2019-05-22 19:43:48,472 : INFO : topic #0 (0.500): 0.010*\"justinamash\" + 0.009*\"president\" + 0.007*\"mueller\" + 0.007*\"barr\" + 0.007*\"report\" + 0.006*\"mueller report\" + 0.006*\"great\" + 0.006*\"iran\" + 0.005*\"general\" + 0.005*\"country\"\n",
      "2019-05-22 19:43:48,474 : INFO : topic #1 (0.500): 0.006*\"justinamash\" + 0.003*\"mueller\" + 0.003*\"report\" + 0.003*\"democrats\" + 0.003*\"foxnews\" + 0.003*\"read\" + 0.002*\"mr\" + 0.002*\"people\" + 0.002*\"mayor\" + 0.002*\"think\"\n",
      "2019-05-22 19:43:48,476 : INFO : topic diff=0.305163, rho=0.292791\n",
      "2019-05-22 19:43:48,509 : INFO : PROGRESS: pass 3, at document #6000/15330\n",
      "2019-05-22 19:43:49,233 : INFO : merging changes from 2000 documents into a model of 15330 documents\n",
      "2019-05-22 19:43:49,249 : INFO : topic #0 (0.500): 0.010*\"justinamash\" + 0.009*\"president\" + 0.007*\"mueller\" + 0.007*\"report\" + 0.007*\"mueller report\" + 0.007*\"barr\" + 0.006*\"iran\" + 0.006*\"great\" + 0.005*\"general\" + 0.005*\"country\"\n",
      "2019-05-22 19:43:49,252 : INFO : topic #1 (0.500): 0.005*\"justinamash\" + 0.003*\"mueller\" + 0.003*\"report\" + 0.003*\"democrats\" + 0.003*\"foxnews\" + 0.003*\"read\" + 0.002*\"mr\" + 0.002*\"people\" + 0.002*\"think\" + 0.002*\"mayor\"\n",
      "2019-05-22 19:43:49,254 : INFO : topic diff=0.313368, rho=0.292791\n",
      "2019-05-22 19:43:49,289 : INFO : PROGRESS: pass 3, at document #8000/15330\n",
      "2019-05-22 19:43:49,994 : INFO : merging changes from 2000 documents into a model of 15330 documents\n",
      "2019-05-22 19:43:50,009 : INFO : topic #0 (0.500): 0.010*\"justinamash\" + 0.009*\"president\" + 0.007*\"mueller\" + 0.007*\"report\" + 0.007*\"barr\" + 0.007*\"mueller report\" + 0.006*\"iran\" + 0.006*\"great\" + 0.005*\"general\" + 0.005*\"country\"\n",
      "2019-05-22 19:43:50,012 : INFO : topic #1 (0.500): 0.006*\"justinamash\" + 0.003*\"mueller\" + 0.003*\"democrats\" + 0.003*\"report\" + 0.003*\"foxnews\" + 0.002*\"read\" + 0.002*\"mr\" + 0.002*\"people\" + 0.002*\"think\" + 0.002*\"one\"\n",
      "2019-05-22 19:43:50,014 : INFO : topic diff=0.304330, rho=0.292791\n",
      "2019-05-22 19:43:50,049 : INFO : PROGRESS: pass 3, at document #10000/15330\n",
      "2019-05-22 19:43:50,757 : INFO : merging changes from 2000 documents into a model of 15330 documents\n",
      "2019-05-22 19:43:50,772 : INFO : topic #0 (0.500): 0.010*\"justinamash\" + 0.009*\"president\" + 0.007*\"mueller\" + 0.007*\"barr\" + 0.006*\"report\" + 0.006*\"iran\" + 0.006*\"mueller report\" + 0.006*\"great\" + 0.005*\"general\" + 0.004*\"country\"\n",
      "2019-05-22 19:43:50,774 : INFO : topic #1 (0.500): 0.005*\"justinamash\" + 0.003*\"mueller\" + 0.003*\"report\" + 0.003*\"democrats\" + 0.003*\"foxnews\" + 0.002*\"read\" + 0.002*\"us\" + 0.002*\"obstruction\" + 0.002*\"think\" + 0.002*\"mayor\"\n",
      "2019-05-22 19:43:50,776 : INFO : topic diff=0.311029, rho=0.292791\n",
      "2019-05-22 19:43:50,808 : INFO : PROGRESS: pass 3, at document #12000/15330\n",
      "2019-05-22 19:43:51,519 : INFO : merging changes from 2000 documents into a model of 15330 documents\n",
      "2019-05-22 19:43:51,532 : INFO : topic #0 (0.500): 0.010*\"justinamash\" + 0.008*\"president\" + 0.007*\"mueller\" + 0.007*\"iran\" + 0.007*\"barr\" + 0.006*\"report\" + 0.006*\"mueller report\" + 0.006*\"great\" + 0.005*\"general\" + 0.005*\"country\"\n",
      "2019-05-22 19:43:51,534 : INFO : topic #1 (0.500): 0.005*\"justinamash\" + 0.003*\"mueller\" + 0.003*\"report\" + 0.003*\"foxnews\" + 0.003*\"democrats\" + 0.002*\"read\" + 0.002*\"us\" + 0.002*\"people\" + 0.002*\"think\" + 0.002*\"mayor\"\n",
      "2019-05-22 19:43:51,537 : INFO : topic diff=0.302614, rho=0.292791\n",
      "2019-05-22 19:43:51,572 : INFO : PROGRESS: pass 3, at document #14000/15330\n",
      "2019-05-22 19:43:52,320 : INFO : merging changes from 2000 documents into a model of 15330 documents\n",
      "2019-05-22 19:43:52,333 : INFO : topic #0 (0.500): 0.011*\"justinamash\" + 0.009*\"president\" + 0.007*\"mueller\" + 0.007*\"barr\" + 0.007*\"report\" + 0.007*\"mueller report\" + 0.006*\"great\" + 0.006*\"iran\" + 0.005*\"general\" + 0.005*\"attorney\"\n",
      "2019-05-22 19:43:52,336 : INFO : topic #1 (0.500): 0.005*\"justinamash\" + 0.003*\"mueller\" + 0.003*\"report\" + 0.003*\"democrats\" + 0.003*\"read\" + 0.003*\"foxnews\" + 0.002*\"mr\" + 0.002*\"people\" + 0.002*\"us\" + 0.002*\"mayor\"\n",
      "2019-05-22 19:43:52,338 : INFO : topic diff=0.309021, rho=0.292791\n",
      "2019-05-22 19:43:53,292 : INFO : -9.120 per-word bound, 556.5 perplexity estimate based on a held-out corpus of 1330 documents with 22020 words\n",
      "2019-05-22 19:43:53,293 : INFO : PROGRESS: pass 3, at document #15330/15330\n",
      "2019-05-22 19:43:53,742 : INFO : merging changes from 1330 documents into a model of 15330 documents\n",
      "2019-05-22 19:43:53,754 : INFO : topic #0 (0.500): 0.011*\"justinamash\" + 0.009*\"president\" + 0.007*\"mueller\" + 0.007*\"barr\" + 0.006*\"report\" + 0.006*\"iran\" + 0.006*\"great\" + 0.006*\"mueller report\" + 0.005*\"general\" + 0.005*\"country\"\n",
      "2019-05-22 19:43:53,756 : INFO : topic #1 (0.500): 0.006*\"justinamash\" + 0.003*\"mueller\" + 0.003*\"report\" + 0.003*\"democrats\" + 0.003*\"foxnews\" + 0.003*\"read\" + 0.002*\"mr\" + 0.002*\"people\" + 0.002*\"american\" + 0.002*\"mayor\"\n",
      "2019-05-22 19:43:53,758 : INFO : topic diff=0.278808, rho=0.292791\n",
      "2019-05-22 19:43:53,786 : INFO : PROGRESS: pass 4, at document #2000/15330\n",
      "2019-05-22 19:43:54,492 : INFO : merging changes from 2000 documents into a model of 15330 documents\n",
      "2019-05-22 19:43:54,505 : INFO : topic #0 (0.500): 0.010*\"justinamash\" + 0.008*\"president\" + 0.007*\"mueller\" + 0.007*\"barr\" + 0.006*\"report\" + 0.006*\"great\" + 0.006*\"mueller report\" + 0.006*\"iran\" + 0.005*\"general\" + 0.005*\"country\"\n",
      "2019-05-22 19:43:54,508 : INFO : topic #1 (0.500): 0.005*\"justinamash\" + 0.003*\"mueller\" + 0.003*\"report\" + 0.003*\"read\" + 0.003*\"democrats\" + 0.003*\"foxnews\" + 0.002*\"mr\" + 0.002*\"people\" + 0.002*\"american\" + 0.002*\"mayor\"\n",
      "2019-05-22 19:43:54,511 : INFO : topic diff=0.290557, rho=0.280994\n",
      "2019-05-22 19:43:54,542 : INFO : PROGRESS: pass 4, at document #4000/15330\n",
      "2019-05-22 19:43:55,251 : INFO : merging changes from 2000 documents into a model of 15330 documents\n",
      "2019-05-22 19:43:55,267 : INFO : topic #0 (0.500): 0.010*\"justinamash\" + 0.009*\"president\" + 0.007*\"mueller\" + 0.007*\"barr\" + 0.007*\"report\" + 0.007*\"mueller report\" + 0.007*\"great\" + 0.006*\"iran\" + 0.005*\"general\" + 0.005*\"country\"\n",
      "2019-05-22 19:43:55,269 : INFO : topic #1 (0.500): 0.006*\"justinamash\" + 0.003*\"mueller\" + 0.003*\"report\" + 0.003*\"democrats\" + 0.003*\"foxnews\" + 0.003*\"read\" + 0.002*\"mr\" + 0.002*\"people\" + 0.002*\"think\" + 0.002*\"mayor\"\n",
      "2019-05-22 19:43:55,272 : INFO : topic diff=0.288088, rho=0.280994\n"
     ]
    },
    {
     "name": "stderr",
     "output_type": "stream",
     "text": [
      "2019-05-22 19:43:55,306 : INFO : PROGRESS: pass 4, at document #6000/15330\n",
      "2019-05-22 19:43:55,996 : INFO : merging changes from 2000 documents into a model of 15330 documents\n",
      "2019-05-22 19:43:56,010 : INFO : topic #0 (0.500): 0.010*\"justinamash\" + 0.009*\"president\" + 0.007*\"mueller\" + 0.007*\"report\" + 0.007*\"mueller report\" + 0.007*\"barr\" + 0.006*\"iran\" + 0.006*\"great\" + 0.005*\"general\" + 0.005*\"country\"\n",
      "2019-05-22 19:43:56,013 : INFO : topic #1 (0.500): 0.005*\"justinamash\" + 0.003*\"mueller\" + 0.003*\"report\" + 0.003*\"democrats\" + 0.003*\"foxnews\" + 0.003*\"read\" + 0.002*\"mr\" + 0.002*\"people\" + 0.002*\"think\" + 0.002*\"mayor\"\n",
      "2019-05-22 19:43:56,015 : INFO : topic diff=0.295534, rho=0.280994\n",
      "2019-05-22 19:43:56,049 : INFO : PROGRESS: pass 4, at document #8000/15330\n",
      "2019-05-22 19:43:56,728 : INFO : merging changes from 2000 documents into a model of 15330 documents\n",
      "2019-05-22 19:43:56,742 : INFO : topic #0 (0.500): 0.010*\"justinamash\" + 0.009*\"president\" + 0.007*\"mueller\" + 0.007*\"barr\" + 0.007*\"report\" + 0.007*\"mueller report\" + 0.007*\"iran\" + 0.006*\"great\" + 0.005*\"general\" + 0.005*\"country\"\n",
      "2019-05-22 19:43:56,745 : INFO : topic #1 (0.500): 0.006*\"justinamash\" + 0.003*\"mueller\" + 0.003*\"democrats\" + 0.003*\"report\" + 0.003*\"foxnews\" + 0.002*\"read\" + 0.002*\"mr\" + 0.002*\"people\" + 0.002*\"think\" + 0.002*\"one\"\n",
      "2019-05-22 19:43:56,747 : INFO : topic diff=0.286973, rho=0.280994\n",
      "2019-05-22 19:43:56,784 : INFO : PROGRESS: pass 4, at document #10000/15330\n",
      "2019-05-22 19:43:57,527 : INFO : merging changes from 2000 documents into a model of 15330 documents\n",
      "2019-05-22 19:43:57,542 : INFO : topic #0 (0.500): 0.010*\"justinamash\" + 0.009*\"president\" + 0.007*\"mueller\" + 0.007*\"barr\" + 0.007*\"report\" + 0.006*\"iran\" + 0.006*\"mueller report\" + 0.006*\"great\" + 0.005*\"general\" + 0.005*\"principal\"\n",
      "2019-05-22 19:43:57,545 : INFO : topic #1 (0.500): 0.005*\"justinamash\" + 0.003*\"mueller\" + 0.003*\"report\" + 0.003*\"democrats\" + 0.003*\"foxnews\" + 0.002*\"read\" + 0.002*\"us\" + 0.002*\"obstruction\" + 0.002*\"think\" + 0.002*\"people\"\n",
      "2019-05-22 19:43:57,548 : INFO : topic diff=0.293497, rho=0.280994\n",
      "2019-05-22 19:43:57,587 : INFO : PROGRESS: pass 4, at document #12000/15330\n",
      "2019-05-22 19:43:58,281 : INFO : merging changes from 2000 documents into a model of 15330 documents\n",
      "2019-05-22 19:43:58,293 : INFO : topic #0 (0.500): 0.010*\"justinamash\" + 0.008*\"president\" + 0.007*\"mueller\" + 0.007*\"iran\" + 0.007*\"barr\" + 0.006*\"report\" + 0.006*\"mueller report\" + 0.006*\"great\" + 0.005*\"general\" + 0.005*\"country\"\n",
      "2019-05-22 19:43:58,296 : INFO : topic #1 (0.500): 0.005*\"justinamash\" + 0.003*\"mueller\" + 0.003*\"report\" + 0.003*\"foxnews\" + 0.003*\"democrats\" + 0.002*\"read\" + 0.002*\"us\" + 0.002*\"people\" + 0.002*\"think\" + 0.002*\"mayor\"\n",
      "2019-05-22 19:43:58,299 : INFO : topic diff=0.285402, rho=0.280994\n",
      "2019-05-22 19:43:58,337 : INFO : PROGRESS: pass 4, at document #14000/15330\n",
      "2019-05-22 19:43:59,020 : INFO : merging changes from 2000 documents into a model of 15330 documents\n",
      "2019-05-22 19:43:59,033 : INFO : topic #0 (0.500): 0.011*\"justinamash\" + 0.009*\"president\" + 0.007*\"mueller\" + 0.007*\"barr\" + 0.007*\"report\" + 0.007*\"mueller report\" + 0.006*\"great\" + 0.006*\"iran\" + 0.005*\"general\" + 0.005*\"attorney\"\n",
      "2019-05-22 19:43:59,035 : INFO : topic #1 (0.500): 0.005*\"justinamash\" + 0.003*\"mueller\" + 0.003*\"report\" + 0.003*\"democrats\" + 0.003*\"read\" + 0.003*\"foxnews\" + 0.002*\"people\" + 0.002*\"mr\" + 0.002*\"us\" + 0.002*\"mayor\"\n",
      "2019-05-22 19:43:59,038 : INFO : topic diff=0.291805, rho=0.280994\n",
      "2019-05-22 19:43:59,956 : INFO : -9.106 per-word bound, 551.0 perplexity estimate based on a held-out corpus of 1330 documents with 22020 words\n",
      "2019-05-22 19:43:59,957 : INFO : PROGRESS: pass 4, at document #15330/15330\n",
      "2019-05-22 19:44:00,378 : INFO : merging changes from 1330 documents into a model of 15330 documents\n",
      "2019-05-22 19:44:00,393 : INFO : topic #0 (0.500): 0.011*\"justinamash\" + 0.008*\"president\" + 0.007*\"mueller\" + 0.007*\"barr\" + 0.007*\"report\" + 0.006*\"iran\" + 0.006*\"great\" + 0.006*\"mueller report\" + 0.005*\"general\" + 0.005*\"country\"\n",
      "2019-05-22 19:44:00,395 : INFO : topic #1 (0.500): 0.006*\"justinamash\" + 0.003*\"mueller\" + 0.003*\"report\" + 0.003*\"democrats\" + 0.003*\"foxnews\" + 0.003*\"read\" + 0.002*\"mr\" + 0.002*\"people\" + 0.002*\"american\" + 0.002*\"mayor\"\n",
      "2019-05-22 19:44:00,397 : INFO : topic diff=0.262693, rho=0.280994\n"
     ]
    }
   ],
   "source": [
    "# Create lda model (equivalent to \"fit\" in sklearn)\n",
    "lda = models.LdaModel(corpus=corpus, num_topics=2, id2word=id2word, passes=5)"
   ]
  },
  {
   "cell_type": "markdown",
   "metadata": {},
   "source": [
    "Most important words for each of the 2 topics. 3 topics results in two topics that are virtually identical."
   ]
  },
  {
   "cell_type": "code",
   "execution_count": 43,
   "metadata": {},
   "outputs": [
    {
     "name": "stderr",
     "output_type": "stream",
     "text": [
      "2019-05-22 19:44:00,418 : INFO : topic #0 (0.500): 0.011*\"justinamash\" + 0.008*\"president\" + 0.007*\"mueller\" + 0.007*\"barr\" + 0.007*\"report\" + 0.006*\"iran\" + 0.006*\"great\" + 0.006*\"mueller report\" + 0.005*\"general\" + 0.005*\"country\"\n",
      "2019-05-22 19:44:00,422 : INFO : topic #1 (0.500): 0.006*\"justinamash\" + 0.003*\"mueller\" + 0.003*\"report\" + 0.003*\"democrats\" + 0.003*\"foxnews\" + 0.003*\"read\" + 0.002*\"mr\" + 0.002*\"people\" + 0.002*\"american\" + 0.002*\"mayor\"\n"
     ]
    },
    {
     "data": {
      "text/plain": [
       "[(0,\n",
       "  '0.011*\"justinamash\" + 0.008*\"president\" + 0.007*\"mueller\" + 0.007*\"barr\" + 0.007*\"report\" + 0.006*\"iran\" + 0.006*\"great\" + 0.006*\"mueller report\" + 0.005*\"general\" + 0.005*\"country\"'),\n",
       " (1,\n",
       "  '0.006*\"justinamash\" + 0.003*\"mueller\" + 0.003*\"report\" + 0.003*\"democrats\" + 0.003*\"foxnews\" + 0.003*\"read\" + 0.002*\"mr\" + 0.002*\"people\" + 0.002*\"american\" + 0.002*\"mayor\"')]"
      ]
     },
     "execution_count": 43,
     "metadata": {},
     "output_type": "execute_result"
    }
   ],
   "source": [
    "lda.print_topics()"
   ]
  },
  {
   "cell_type": "code",
   "execution_count": 44,
   "metadata": {},
   "outputs": [
    {
     "data": {
      "text/plain": [
       "<gensim.interfaces.TransformedCorpus at 0x1a5a295cf8>"
      ]
     },
     "execution_count": 44,
     "metadata": {},
     "output_type": "execute_result"
    }
   ],
   "source": [
    "# Transform the docs from the word space to the topic space (like \"transform\" in sklearn)\n",
    "lda_corpus = lda[corpus]\n",
    "lda_corpus"
   ]
  },
  {
   "cell_type": "code",
   "execution_count": 45,
   "metadata": {},
   "outputs": [],
   "source": [
    "# Store the documents' topic vectors in a list so we can take a peak\n",
    "lda_docs = [doc for doc in lda_corpus]"
   ]
  },
  {
   "cell_type": "markdown",
   "metadata": {},
   "source": [
    "Now we can take a look at the document vectors in the topic space, which are measures of the component of each document along each topic.  Thus, at most a document vector can have num_topics=3 nonzero components in the topic space, and most have far fewer."
   ]
  },
  {
   "cell_type": "code",
   "execution_count": 47,
   "metadata": {},
   "outputs": [
    {
     "data": {
      "text/plain": [
       "[[(0, 0.0397368), (1, 0.96026325)],\n",
       " [(0, 0.18753265), (1, 0.81246734)],\n",
       " [(0, 0.03832138), (1, 0.9616786)],\n",
       " [(0, 0.057966456), (1, 0.9420335)],\n",
       " [(0, 0.051442012), (1, 0.94855803)],\n",
       " [(0, 0.081759244), (1, 0.9182408)],\n",
       " [(0, 0.21059388), (1, 0.7894061)],\n",
       " [(0, 0.97469884), (1, 0.025301164)],\n",
       " [(0, 0.033061996), (1, 0.966938)]]"
      ]
     },
     "execution_count": 47,
     "metadata": {},
     "output_type": "execute_result"
    }
   ],
   "source": [
    "# Check out the document vectors in the topic space for the first 10 documents\n",
    "lda_docs[0:9]"
   ]
  },
  {
   "cell_type": "markdown",
   "metadata": {},
   "source": [
    "### Visualizations"
   ]
  },
  {
   "cell_type": "markdown",
   "metadata": {},
   "source": [
    "Create word cloud of most popular words from the 1.5M tweets collected. Some words associated with Trump removed so variations of his name do not appear over and over."
   ]
  },
  {
   "cell_type": "code",
   "execution_count": 318,
   "metadata": {
    "scrolled": true
   },
   "outputs": [
    {
     "data": {
      "image/png": "[encoded data removed]",
      "text/plain": [
       "<Figure size 864x864 with 1 Axes>"
      ]
     },
     "metadata": {},
     "output_type": "display_data"
    }
   ],
   "source": [
    "cloud_words = ' '\n",
    "  \n",
    "# iterate through tweets\n",
    "for val in tweet_df.text: \n",
    "      \n",
    "    # convert each tweet to string \n",
    "    val = str(val) \n",
    "    #print(val)  \n",
    "    \n",
    "    tokens = val.split() \n",
    "    #print(tokens)  \n",
    "    \n",
    "    for i in range(len(tokens)): \n",
    "        tokens[i] = tokens[i].lower() \n",
    "          \n",
    "    for word in tokens: \n",
    "        #print(word)\n",
    "        cloud_words = cloud_words + word + ' '\n",
    "        \n",
    "  \n",
    "wordcloud = WordCloud(width = 1200, height = 800, \n",
    "                background_color ='white',\n",
    "                max_words=30,\n",
    "                collocations=False,\n",
    "                stopwords = cloud_stopwords, \n",
    "                min_font_size = 12).generate(cloud_words) \n",
    "  \n",
    "# plot WordCloud image                        \n",
    "plt.figure(figsize = (12, 12), facecolor = None) \n",
    "plt.imshow(wordcloud) \n",
    "plt.axis(\"off\") \n",
    "plt.tight_layout(pad = 0) \n",
    "  \n",
    "plt.show() \n"
   ]
  },
  {
   "cell_type": "markdown",
   "metadata": {},
   "source": [
    "Visualizing Topic Differences with T-SNE Distrubution"
   ]
  },
  {
   "cell_type": "code",
   "execution_count": 99,
   "metadata": {},
   "outputs": [],
   "source": [
    "from sklearn.manifold import TSNE"
   ]
  },
  {
   "cell_type": "code",
   "execution_count": 292,
   "metadata": {},
   "outputs": [
    {
     "name": "stdout",
     "output_type": "stream",
     "text": [
      "[t-SNE] Computing 121 nearest neighbors...\n",
      "[t-SNE] Indexed 15330 samples in 0.145s...\n",
      "[t-SNE] Computed neighbors for 15330 samples in 1.401s...\n",
      "[t-SNE] Computed conditional probabilities for sample 1000 / 15330\n",
      "[t-SNE] Computed conditional probabilities for sample 2000 / 15330\n",
      "[t-SNE] Computed conditional probabilities for sample 3000 / 15330\n",
      "[t-SNE] Computed conditional probabilities for sample 4000 / 15330\n",
      "[t-SNE] Computed conditional probabilities for sample 5000 / 15330\n",
      "[t-SNE] Computed conditional probabilities for sample 6000 / 15330\n",
      "[t-SNE] Computed conditional probabilities for sample 7000 / 15330\n",
      "[t-SNE] Computed conditional probabilities for sample 8000 / 15330\n",
      "[t-SNE] Computed conditional probabilities for sample 9000 / 15330\n",
      "[t-SNE] Computed conditional probabilities for sample 10000 / 15330\n",
      "[t-SNE] Computed conditional probabilities for sample 11000 / 15330\n",
      "[t-SNE] Computed conditional probabilities for sample 12000 / 15330\n",
      "[t-SNE] Computed conditional probabilities for sample 13000 / 15330\n",
      "[t-SNE] Computed conditional probabilities for sample 14000 / 15330\n",
      "[t-SNE] Computed conditional probabilities for sample 15000 / 15330\n",
      "[t-SNE] Computed conditional probabilities for sample 15330 / 15330\n",
      "[t-SNE] Mean sigma: 0.000000\n",
      "[t-SNE] Computed conditional probabilities in 2.426s\n",
      "[t-SNE] Iteration 50: error = 113.0822067, gradient norm = 0.3010881 (50 iterations in 15.669s)\n",
      "[t-SNE] Iteration 100: error = 116.1034698, gradient norm = 0.2422919 (50 iterations in 14.421s)\n",
      "[t-SNE] Iteration 150: error = 102.6389084, gradient norm = 0.2467622 (50 iterations in 12.011s)\n",
      "[t-SNE] Iteration 200: error = 101.3049393, gradient norm = 0.2643423 (50 iterations in 15.933s)\n",
      "[t-SNE] Iteration 250: error = 98.6052551, gradient norm = 0.2612969 (50 iterations in 19.252s)\n",
      "[t-SNE] KL divergence after 250 iterations with early exaggeration: 98.605255\n",
      "[t-SNE] Iteration 300: error = 2.9475257, gradient norm = 0.0053973 (50 iterations in 14.833s)\n",
      "[t-SNE] Iteration 350: error = 2.7179890, gradient norm = 0.0007967 (50 iterations in 10.366s)\n",
      "[t-SNE] Iteration 400: error = 2.6929917, gradient norm = 0.0001923 (50 iterations in 10.944s)\n",
      "[t-SNE] Iteration 450: error = 2.6653812, gradient norm = 0.0006396 (50 iterations in 9.493s)\n",
      "[t-SNE] Iteration 500: error = 2.6575878, gradient norm = 0.0001749 (50 iterations in 9.924s)\n",
      "[t-SNE] Iteration 550: error = 2.6534338, gradient norm = 0.0002504 (50 iterations in 9.100s)\n",
      "[t-SNE] Iteration 600: error = 2.6552370, gradient norm = 0.0001680 (50 iterations in 9.246s)\n",
      "[t-SNE] Iteration 650: error = 2.6547170, gradient norm = 0.0001564 (50 iterations in 10.661s)\n",
      "[t-SNE] Iteration 700: error = 2.6622784, gradient norm = 0.0001198 (50 iterations in 10.855s)\n",
      "[t-SNE] Iteration 750: error = 2.6673236, gradient norm = 0.0002643 (50 iterations in 10.080s)\n",
      "[t-SNE] Iteration 800: error = 2.6663306, gradient norm = 0.0002078 (50 iterations in 9.353s)\n",
      "[t-SNE] Iteration 850: error = 2.6658654, gradient norm = 0.0002291 (50 iterations in 8.803s)\n",
      "[t-SNE] Iteration 900: error = 2.6651874, gradient norm = 0.0003236 (50 iterations in 8.859s)\n",
      "[t-SNE] Iteration 900: did not make any progress during the last 300 episodes. Finished.\n",
      "[t-SNE] KL divergence after 900 iterations: 2.665187\n"
     ]
    }
   ],
   "source": [
    "vectors = TfidfVectorizer().fit_transform(H_matrix)\n",
    "X_reduced = TruncatedSVD(n_components=2, random_state=0).fit_transform(vectors)\n",
    "X_embedded = TSNE(n_components=2, perplexity=40, verbose=2).fit_transform(X_reduced)"
   ]
  },
  {
   "cell_type": "code",
   "execution_count": 309,
   "metadata": {},
   "outputs": [],
   "source": [
    "from yellowbrick.text import TSNEVisualizer\n",
    "from sklearn.feature_extraction.text import TfidfVectorizer\n",
    "\n",
    "# vectorize the text\n",
    "tfidf  = TfidfVectorizer()\n",
    "topic_vectors = tfidf.fit_transform(text_data)"
   ]
  },
  {
   "cell_type": "code",
   "execution_count": 311,
   "metadata": {},
   "outputs": [],
   "source": [
    "labels = H_matrix"
   ]
  },
  {
   "cell_type": "code",
   "execution_count": 314,
   "metadata": {},
   "outputs": [
    {
     "name": "stderr",
     "output_type": "stream",
     "text": [
      "2019-05-24 05:46:50,376 : WARNING : 'c' argument looks like a single numeric RGB or RGBA sequence, which should be avoided as value-mapping will have precedence in case its length matches with 'x' & 'y'.  Please use a 2-D array with a single row if you really want to specify the same RGB or RGBA value for all points.\n",
      "2019-05-24 05:46:50,424 : WARNING : 'c' argument looks like a single numeric RGB or RGBA sequence, which should be avoided as value-mapping will have precedence in case its length matches with 'x' & 'y'.  Please use a 2-D array with a single row if you really want to specify the same RGB or RGBA value for all points.\n",
      "2019-05-24 05:46:50,470 : WARNING : 'c' argument looks like a single numeric RGB or RGBA sequence, which should be avoided as value-mapping will have precedence in case its length matches with 'x' & 'y'.  Please use a 2-D array with a single row if you really want to specify the same RGB or RGBA value for all points.\n"
     ]
    },
    {
     "data": {
      "image/png": "[encoded data removed]",
      "text/plain": [
       "<Figure size 576x396 with 1 Axes>"
      ]
     },
     "metadata": {},
     "output_type": "display_data"
    }
   ],
   "source": [
    "# Create the visualizer and draw the vectors\n",
    "tsne = TSNEVisualizer(alpha = 0.1)\n",
    "tsne.fit(topic_vectors, labels)\n",
    "tsne.poof()"
   ]
  },
  {
   "cell_type": "markdown",
   "metadata": {},
   "source": [
    "T-SNE Distribution shows little separation of topics."
   ]
  }
 ],
 "metadata": {
  "kernelspec": {
   "display_name": "Python [conda env:metis] *",
   "language": "python",
   "name": "conda-env-metis-py"
  },
  "language_info": {
   "codemirror_mode": {
    "name": "ipython",
    "version": 3
   },
   "file_extension": ".py",
   "mimetype": "text/x-python",
   "name": "python",
   "nbconvert_exporter": "python",
   "pygments_lexer": "ipython3",
   "version": "3.6.8"
  },
  "varInspector": {
   "cols": {
    "lenName": 16,
    "lenType": 16,
    "lenVar": 40
   },
   "kernels_config": {
    "python": {
     "delete_cmd_postfix": "",
     "delete_cmd_prefix": "del ",
     "library": "var_list.py",
     "varRefreshCmd": "print(var_dic_list())"
    },
    "r": {
     "delete_cmd_postfix": ") ",
     "delete_cmd_prefix": "rm(",
     "library": "var_list.r",
     "varRefreshCmd": "cat(var_dic_list()) "
    }
   },
   "types_to_exclude": [
    "module",
    "function",
    "builtin_function_or_method",
    "instance",
    "_Feature"
   ],
   "window_display": false
  }
 },
 "nbformat": 4,
 "nbformat_minor": 2
}
